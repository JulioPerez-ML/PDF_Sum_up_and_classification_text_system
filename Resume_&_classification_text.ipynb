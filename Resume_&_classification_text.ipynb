{
 "cells": [
  {
   "cell_type": "code",
   "execution_count": 1,
   "id": "d0c413f8",
   "metadata": {},
   "outputs": [
    {
     "name": "stderr",
     "output_type": "stream",
     "text": [
      "[nltk_data] Downloading package stopwords to\n",
      "[nltk_data]     C:\\Users\\jdani\\AppData\\Roaming\\nltk_data...\n",
      "[nltk_data]   Package stopwords is already up-to-date!\n",
      "[nltk_data] Downloading package punkt to\n",
      "[nltk_data]     C:\\Users\\jdani\\AppData\\Roaming\\nltk_data...\n",
      "[nltk_data]   Package punkt is already up-to-date!\n"
     ]
    },
    {
     "data": {
      "text/plain": [
       "True"
      ]
     },
     "execution_count": 1,
     "metadata": {},
     "output_type": "execute_result"
    }
   ],
   "source": [
    "import numpy as np\n",
    "import pandas as pd\n",
    "import matplotlib \n",
    "from matplotlib import pyplot as plt\n",
    "import string\n",
    "import math\n",
    "\n",
    "# Imports\n",
    "import pandas as pd\n",
    "\n",
    "import spacy\n",
    "from spacy.tokenizer import Tokenizer\n",
    "from spacy.lang.es import Spanish\n",
    "\n",
    "from sklearn.feature_extraction.text import TfidfVectorizer\n",
    "from sklearn.neighbors import NearestNeighbors\n",
    "from sklearn.metrics.pairwise import cosine_similarity\n",
    "\n",
    "import pickle\n",
    "\n",
    "import nltk\n",
    "from nltk.corpus import stopwords\n",
    "from nltk.tokenize import sent_tokenize, word_tokenize\n",
    "from nltk.stem import SnowballStemmer\n",
    "\n",
    "import PyPDF2\n",
    "\n",
    "nltk.download('stopwords')\n",
    "nltk.download('punkt')"
   ]
  },
  {
   "cell_type": "code",
   "execution_count": 2,
   "id": "a9f86a1b",
   "metadata": {},
   "outputs": [
    {
     "data": {
      "text/html": [
       "<div>\n",
       "<style scoped>\n",
       "    .dataframe tbody tr th:only-of-type {\n",
       "        vertical-align: middle;\n",
       "    }\n",
       "\n",
       "    .dataframe tbody tr th {\n",
       "        vertical-align: top;\n",
       "    }\n",
       "\n",
       "    .dataframe thead th {\n",
       "        text-align: right;\n",
       "    }\n",
       "</style>\n",
       "<table border=\"1\" class=\"dataframe\">\n",
       "  <thead>\n",
       "    <tr style=\"text-align: right;\">\n",
       "      <th></th>\n",
       "      <th>Documentos</th>\n",
       "    </tr>\n",
       "  </thead>\n",
       "  <tbody>\n",
       "    <tr>\n",
       "      <th>0</th>\n",
       "      <td>BANCO DE ESPAÑA Eurosistema 23.03.2021 Nota in...</td>\n",
       "    </tr>\n",
       "  </tbody>\n",
       "</table>\n",
       "</div>"
      ],
      "text/plain": [
       "                                          Documentos\n",
       "0  BANCO DE ESPAÑA Eurosistema 23.03.2021 Nota in..."
      ]
     },
     "execution_count": 2,
     "metadata": {},
     "output_type": "execute_result"
    }
   ],
   "source": [
    "file = open(\"prueba_es.txt\", \"r\", encoding='utf8')\n",
    "lines = file.readlines()\n",
    "\n",
    "datos = {'Documentos':lines}\n",
    "df = pd.DataFrame(data = datos)\n",
    "df.head(10)"
   ]
  },
  {
   "cell_type": "code",
   "execution_count": 3,
   "id": "1599d647",
   "metadata": {},
   "outputs": [
    {
     "data": {
      "text/plain": [
       "'BANCO DE ESPAÑA Eurosistema 23.03.2021 Nota informativa Proyecciones macroeconómicas de la economía española (2021-2023) Esta nota describe los rasgos principales de las proyecciones macroeconómicas de la economía española para el período 2021-2023, que el Banco de España publica hoy en su página web (disponibles en este enlace). En relación a las proyecciones publicadas el pasado diciembre, las actuales incorporan la nueva información conocida desde entonces, lo que incluye, entre otros elementos, las estimaciones preliminares de la Contabilidad Nacional Trimestral para el cuarto trimestre de 2020 y los cambios observados en los supuestos técnicos que subyacen a la construcción de los escenarios. Las perspectivas económicas siguen sujetas a un elevado grado de incertidumbre, vinculada tanto, en el corto plazo, a la evolución de la pandemia y la velocidad del proceso de inmunización de la población como, a medio plazo, a las consecuencias económicas de la crisis. A su vez, estas últimas dependerán de dos aspectos. En primer lugar, de las secuelas que la pandemia pueda dejar sobre el tejido productivo y laboral, en términos de destrucción de empresas y desempleo de larga duración. En segundo, de la velocidad de reversión de algunos cambios en el comportamiento de los agentes inducidos por la crisis (en particular, el intenso repunte de la tasa de ahorro de los hogares y la severa caída de las exportaciones turísticas). El escenario central contempla la posibilidad de que en los próximos meses surjan nuevos brotes de la enfermedad, cuya contención requeriría aplicar medidas de contención similares a las vigentes recientemente. Se proyecta, además, que la progresiva administración de las vacunas permita una retirada gradual de estas medidas, hasta su desaparición prácticamente plena a finales de 2021. Con respecto a los cambios inducidos en el comportamiento de los agentes como consecuencia de la crisis sanitaria, bajo el escenario central, la tasa de ahorro de las familias disminuiría a lo largo del horizonte de proyección, pero se mantendría al final del mismo algo por encima de su nivel previo a la pandemia. Asimismo, la naturaleza incompleta del proceso de vacunación durante los próximos trimestres haría que los flujos de turismo receptor no alcancen un grado relativamente elevado de normalización hasta 2022. Bajo el escenario central, el PIB crecería un 6% en media anual en 2021, lo que, tras un primer semestre débil, sería consecuencia de la aceleración de la actividad en la segunda mitad del año, vinculada a los avances en el proceso de vacunación y a la implementación de los proyectos ligados al programa europeo NGEU. En comparación con las previsiones de diciembre, la menor fortaleza de la actividad en el corto plazo conduce a que la tasa 1/2 media de crecimiento en 2021 sea inferior en 0,8 puntos porcentuales (pp) a la contemplada en el escenario central de diciembre. El pronunciado dinamismo del PIB que se proyecta para el segundo semestre de 2021 daría lugar a un potente efecto arrastre en 2022, de modo que el producto de la economía presentaría un avance también elevado el próximo año (del 5,3%), antes de moderarse en 2023 (1,7%). Dado el elevado grado de incertidumbre que persiste, se ha optado, como en los últimos trimestres, por la formulación, además de un escenario central, de dos alternativos. Los escenarios difieren en los supuestos relativos a la evolución de la pandemia y al grado de avance en el proceso de inmunización de la población, así como, también, en relación con los efectos a medio plazo de la pandemia sobre el tejido productivo y sobre el comportamiento de los agentes. Bajo el escenario suave se proyecta una resolución más rápida de la crisis sanitaria y unas menores secuelas de la crisis que en el central, mientras que lo contrario sucede bajo el escenario severo. En comparación con las proyecciones de diciembre, el rango de variación entre los niveles del PIB en el cuarto trimestre de 2023 bajo los distintos escenarios es algo más reducido, como resultado de la disminución de las incertidumbres de naturaleza puramente epidemiológica. Las diferencias entre escenarios serían en mayor medida atribuibles a la magnitud de las secuelas de medio plazo de la crisis y al comportamiento más o menos precavido de los agentes económicos en sus decisiones de gasto. La recuperación de los niveles de PIB pre-pandemia tendría lugar en 2023 en el escenario central y se adelantaría algo más de un año en el escenario suave, mientras que, en el severo, el nivel del PIB se mantendría todavía, al final del horizonte de proyección, algo por debajo del observado antes de la crisis sanitaria. El repunte reciente del IAPC tiene en gran medida una naturaleza transitoria. En la segunda mitad de 2021, se espera una reversión del aumento del componente energético de los últimos meses, lo que llevaría a que la tasa de inflación muestre un perfil descendente. En términos de las tasas medias anuales, se espera que el IAPC crezca un 1,4% en 2021, y un 0,8% y un 1,2%, respectivamente, en cada uno de los dos años posteriores, por lo que, al final del horizonte de proyección, la tasa se mantendría alejada del valor de referencia para la estabilidad de precios del 2%. Los riesgos que rodean las proyecciones de crecimiento de la actividad en el escenario central siguen orientados a la baja en el corto plazo, y estarían vinculados, fundamentalmente, a episodios más intensos de contagios o una progresión más lenta en el calendario de inmunización de la considerada en el escenario central. Más allá del corto plazo, la incertidumbre ha tendido a mitigarse en los últimos meses al confirmarse la efectividad de las vacunas, lo que ha reducido la probabilidad de materialización de los escenarios más desfavorables. La incertidumbre ha tendido a verse reducida también como consecuencia del paquete fiscal recientemente aprobado en Estados Unidos y del acuerdo para la salida del Reino Unido de la Unión Europea. Como consecuencia, los riesgos que rodean las proyecciones de crecimiento de la actividad en el escenario central están más equilibrados en el medio plazo de lo que lo estaban hace algunos meses.'"
      ]
     },
     "execution_count": 3,
     "metadata": {},
     "output_type": "execute_result"
    }
   ],
   "source": [
    "df['Documentos'][0]"
   ]
  },
  {
   "cell_type": "code",
   "execution_count": 4,
   "id": "599d05c1",
   "metadata": {},
   "outputs": [],
   "source": [
    "# ### Primero tokenizamos los 4 primeros documentos\n",
    "# def tokenize_words(text):\n",
    "#     sin_puntuacion = text.translate(str.maketrans('', '', string.punctuation))\n",
    "#     tokenized_text=word_tokenize(sin_puntuacion)\n",
    "#     print(tokenized_text)\n",
    "#     print(type(tokenized_text))\n",
    "    \n",
    "#     return tokenized_text\n",
    "\n",
    "# # df_tokenized = df.copy()\n",
    "# df['Documentos'] = df['Documentos'].apply(lambda x: tokenize_words(x))\n",
    "    \n"
   ]
  },
  {
   "cell_type": "code",
   "execution_count": 5,
   "id": "87665b7f",
   "metadata": {},
   "outputs": [],
   "source": [
    "# stopword_es = nltk.corpus.stopwords.words('spanish')\n",
    "# #from nltk and spacy library\n",
    "# total_spanish_stopwords = list(stopwords.words(\"spanish\")) + stopword_es\n",
    "\n",
    "# def remove_stopwords(text):\n",
    "#     text = [word for word in text if word not in stopword_es]\n",
    "#     return text\n",
    "\n",
    "# df['Sin_stopwords'] = df['Documentos'].apply(lambda x: remove_stopwords(x))"
   ]
  },
  {
   "cell_type": "code",
   "execution_count": 6,
   "id": "fdbe72ff",
   "metadata": {},
   "outputs": [],
   "source": [
    "# df['Sin_stopwords'][0]"
   ]
  },
  {
   "cell_type": "code",
   "execution_count": 7,
   "id": "72f4dfaf",
   "metadata": {},
   "outputs": [],
   "source": [
    "# def spanish_stemmer(x):\n",
    "#     spanish_stemmer_ = SnowballStemmer(language = 'spanish')\n",
    "#     for i in range(len(x)):\n",
    "# #         print(i)\n",
    "#         for l in range(len(x[i])):\n",
    "# #             print(l)\n",
    "#             x[i][l] = spanish_stemmer_.stem(x[i][l])\n",
    "# #             print(x[i])\n",
    "#     return x\n",
    "    \n",
    "# df['words_stemmed'] = spanish_stemmer(df['Sin_stopwords'])"
   ]
  },
  {
   "cell_type": "code",
   "execution_count": 8,
   "id": "c194579e",
   "metadata": {},
   "outputs": [],
   "source": [
    "# df['words_stemmed'][0]"
   ]
  },
  {
   "cell_type": "markdown",
   "id": "881894c3",
   "metadata": {},
   "source": [
    "## Empezamos a hacer el resumen"
   ]
  },
  {
   "cell_type": "markdown",
   "id": "9df9bbac",
   "metadata": {},
   "source": [
    "Trying with the following guide: [Click on here](https://towardsdatascience.com/text-summarization-using-tf-idf-e64a0644ace3)"
   ]
  },
  {
   "cell_type": "code",
   "execution_count": 9,
   "id": "f2828ef9",
   "metadata": {},
   "outputs": [
    {
     "data": {
      "text/plain": [
       "'BANCO DE ESPAÑA Eurosistema 23.03.2021 Nota informativa Proyecciones macroeconómicas de la economía española (2021-2023) Esta nota describe los rasgos principales de las proyecciones macroeconómicas de la economía española para el período 2021-2023, que el Banco de España publica hoy en su página web (disponibles en este enlace). En relación a las proyecciones publicadas el pasado diciembre, las actuales incorporan la nueva información conocida desde entonces, lo que incluye, entre otros elementos, las estimaciones preliminares de la Contabilidad Nacional Trimestral para el cuarto trimestre de 2020 y los cambios observados en los supuestos técnicos que subyacen a la construcción de los escenarios. Las perspectivas económicas siguen sujetas a un elevado grado de incertidumbre, vinculada tanto, en el corto plazo, a la evolución de la pandemia y la velocidad del proceso de inmunización de la población como, a medio plazo, a las consecuencias económicas de la crisis. A su vez, estas últimas dependerán de dos aspectos. En primer lugar, de las secuelas que la pandemia pueda dejar sobre el tejido productivo y laboral, en términos de destrucción de empresas y desempleo de larga duración. En segundo, de la velocidad de reversión de algunos cambios en el comportamiento de los agentes inducidos por la crisis (en particular, el intenso repunte de la tasa de ahorro de los hogares y la severa caída de las exportaciones turísticas). El escenario central contempla la posibilidad de que en los próximos meses surjan nuevos brotes de la enfermedad, cuya contención requeriría aplicar medidas de contención similares a las vigentes recientemente. Se proyecta, además, que la progresiva administración de las vacunas permita una retirada gradual de estas medidas, hasta su desaparición prácticamente plena a finales de 2021. Con respecto a los cambios inducidos en el comportamiento de los agentes como consecuencia de la crisis sanitaria, bajo el escenario central, la tasa de ahorro de las familias disminuiría a lo largo del horizonte de proyección, pero se mantendría al final del mismo algo por encima de su nivel previo a la pandemia. Asimismo, la naturaleza incompleta del proceso de vacunación durante los próximos trimestres haría que los flujos de turismo receptor no alcancen un grado relativamente elevado de normalización hasta 2022. Bajo el escenario central, el PIB crecería un 6% en media anual en 2021, lo que, tras un primer semestre débil, sería consecuencia de la aceleración de la actividad en la segunda mitad del año, vinculada a los avances en el proceso de vacunación y a la implementación de los proyectos ligados al programa europeo NGEU. En comparación con las previsiones de diciembre, la menor fortaleza de la actividad en el corto plazo conduce a que la tasa 1/2 media de crecimiento en 2021 sea inferior en 0,8 puntos porcentuales (pp) a la contemplada en el escenario central de diciembre. El pronunciado dinamismo del PIB que se proyecta para el segundo semestre de 2021 daría lugar a un potente efecto arrastre en 2022, de modo que el producto de la economía presentaría un avance también elevado el próximo año (del 5,3%), antes de moderarse en 2023 (1,7%). Dado el elevado grado de incertidumbre que persiste, se ha optado, como en los últimos trimestres, por la formulación, además de un escenario central, de dos alternativos. Los escenarios difieren en los supuestos relativos a la evolución de la pandemia y al grado de avance en el proceso de inmunización de la población, así como, también, en relación con los efectos a medio plazo de la pandemia sobre el tejido productivo y sobre el comportamiento de los agentes. Bajo el escenario suave se proyecta una resolución más rápida de la crisis sanitaria y unas menores secuelas de la crisis que en el central, mientras que lo contrario sucede bajo el escenario severo. En comparación con las proyecciones de diciembre, el rango de variación entre los niveles del PIB en el cuarto trimestre de 2023 bajo los distintos escenarios es algo más reducido, como resultado de la disminución de las incertidumbres de naturaleza puramente epidemiológica. Las diferencias entre escenarios serían en mayor medida atribuibles a la magnitud de las secuelas de medio plazo de la crisis y al comportamiento más o menos precavido de los agentes económicos en sus decisiones de gasto. La recuperación de los niveles de PIB pre-pandemia tendría lugar en 2023 en el escenario central y se adelantaría algo más de un año en el escenario suave, mientras que, en el severo, el nivel del PIB se mantendría todavía, al final del horizonte de proyección, algo por debajo del observado antes de la crisis sanitaria. El repunte reciente del IAPC tiene en gran medida una naturaleza transitoria. En la segunda mitad de 2021, se espera una reversión del aumento del componente energético de los últimos meses, lo que llevaría a que la tasa de inflación muestre un perfil descendente. En términos de las tasas medias anuales, se espera que el IAPC crezca un 1,4% en 2021, y un 0,8% y un 1,2%, respectivamente, en cada uno de los dos años posteriores, por lo que, al final del horizonte de proyección, la tasa se mantendría alejada del valor de referencia para la estabilidad de precios del 2%. Los riesgos que rodean las proyecciones de crecimiento de la actividad en el escenario central siguen orientados a la baja en el corto plazo, y estarían vinculados, fundamentalmente, a episodios más intensos de contagios o una progresión más lenta en el calendario de inmunización de la considerada en el escenario central. Más allá del corto plazo, la incertidumbre ha tendido a mitigarse en los últimos meses al confirmarse la efectividad de las vacunas, lo que ha reducido la probabilidad de materialización de los escenarios más desfavorables. La incertidumbre ha tendido a verse reducida también como consecuencia del paquete fiscal recientemente aprobado en Estados Unidos y del acuerdo para la salida del Reino Unido de la Unión Europea. Como consecuencia, los riesgos que rodean las proyecciones de crecimiento de la actividad en el escenario central están más equilibrados en el medio plazo de lo que lo estaban hace algunos meses.'"
      ]
     },
     "execution_count": 9,
     "metadata": {},
     "output_type": "execute_result"
    }
   ],
   "source": [
    "df['Documentos'][0]"
   ]
  },
  {
   "cell_type": "code",
   "execution_count": 10,
   "id": "159e6524",
   "metadata": {},
   "outputs": [],
   "source": [
    "sentences = sent_tokenize(df['Documentos'][0]) # NLTK function\n",
    "total_documents = len(sentences)\n",
    "\n",
    "stopword_es = nltk.corpus.stopwords.words('spanish')\n",
    "#from nltk and spacy library\n",
    "total_spanish_stopwords = list(stopwords.words(\"spanish\")) + stopword_es"
   ]
  },
  {
   "cell_type": "code",
   "execution_count": 11,
   "id": "ecef4758",
   "metadata": {},
   "outputs": [],
   "source": [
    "# sentences"
   ]
  },
  {
   "cell_type": "code",
   "execution_count": 12,
   "id": "a3d5c05e",
   "metadata": {},
   "outputs": [],
   "source": [
    "def _create_frequency_matrix(sentences):\n",
    "    frequency_matrix = {}\n",
    "    \n",
    "    stopword_es = nltk.corpus.stopwords.words('spanish')\n",
    "    #from nltk and spacy library\n",
    "    total_spanish_stopwords = list(stopwords.words(\"spanish\")) + stopword_es\n",
    "    stopWords = total_spanish_stopwords\n",
    "    ps = SnowballStemmer(language = 'spanish')\n",
    "\n",
    "    for sent in sentences:\n",
    "        freq_table = {}\n",
    "        words = word_tokenize(sent)\n",
    "        for word in words:\n",
    "            word = word.lower()\n",
    "            word = ps.stem(word)\n",
    "            if word in stopWords:\n",
    "                continue\n",
    "\n",
    "            if word in freq_table:\n",
    "                freq_table[word] += 1\n",
    "            else:\n",
    "                freq_table[word] = 1\n",
    "\n",
    "        frequency_matrix[sent[:15]] = freq_table\n",
    "\n",
    "    return frequency_matrix\n",
    "\n",
    "def _create_tf_matrix(freq_matrix):\n",
    "    tf_matrix = {}\n",
    "\n",
    "    for sent, f_table in freq_matrix.items():\n",
    "        tf_table = {}\n",
    "\n",
    "        count_words_in_sentence = len(f_table)\n",
    "        for word, count in f_table.items():\n",
    "            tf_table[word] = count / count_words_in_sentence\n",
    "\n",
    "        tf_matrix[sent] = tf_table\n",
    "\n",
    "    return tf_matrix\n",
    "\n",
    "def _create_documents_per_words(freq_matrix):\n",
    "    word_per_doc_table = {}\n",
    "\n",
    "    for sent, f_table in freq_matrix.items():\n",
    "        for word, count in f_table.items():\n",
    "            if word in word_per_doc_table:\n",
    "                word_per_doc_table[word] += 1\n",
    "            else:\n",
    "                word_per_doc_table[word] = 1\n",
    "\n",
    "    return word_per_doc_table\n",
    "\n",
    "\n",
    "def _create_idf_matrix(freq_matrix, count_doc_per_words, total_documents):\n",
    "    idf_matrix = {}\n",
    "\n",
    "    for sent, f_table in freq_matrix.items():\n",
    "        idf_table = {}\n",
    "\n",
    "        for word in f_table.keys():\n",
    "            idf_table[word] = math.log10(total_documents / float(count_doc_per_words[word]))\n",
    "\n",
    "        idf_matrix[sent] = idf_table\n",
    "\n",
    "    return idf_matrix\n",
    "\n",
    "\n",
    "def _create_tf_idf_matrix(tf_matrix, idf_matrix):\n",
    "    tf_idf_matrix = {}\n",
    "\n",
    "    for (sent1, f_table1), (sent2, f_table2) in zip(tf_matrix.items(), idf_matrix.items()):\n",
    "\n",
    "        tf_idf_table = {}\n",
    "\n",
    "        for (word1, value1), (word2, value2) in zip(f_table1.items(),\n",
    "                                                    f_table2.items()):  # here, keys are the same in both the table\n",
    "            tf_idf_table[word1] = float(value1 * value2)\n",
    "\n",
    "        tf_idf_matrix[sent1] = tf_idf_table\n",
    "\n",
    "    return tf_idf_matrix\n",
    "\n",
    "def _score_sentences(tf_idf_matrix) -> dict:\n",
    "    \"\"\"\n",
    "    score a sentence by its word's TF\n",
    "    Basic algorithm: adding the TF frequency of every non-stop word in a sentence divided by total no of words in a sentence.\n",
    "    :rtype: dict\n",
    "    \"\"\"\n",
    "\n",
    "    sentenceValue = {}\n",
    "\n",
    "    for sent, f_table in tf_idf_matrix.items():\n",
    "        total_score_per_sentence = 0\n",
    "\n",
    "        count_words_in_sentence = len(f_table)\n",
    "        for word, score in f_table.items():\n",
    "            total_score_per_sentence += score\n",
    "\n",
    "        sentenceValue[sent] = total_score_per_sentence / count_words_in_sentence\n",
    "\n",
    "    return sentenceValue\n",
    "\n",
    "\n",
    "def _find_average_score(sentenceValue) -> int:\n",
    "    \"\"\"\n",
    "    Find the average score from the sentence value dictionary\n",
    "    :rtype: int\n",
    "    \"\"\"\n",
    "    sumValues = 0\n",
    "    for entry in sentenceValue:\n",
    "        sumValues += sentenceValue[entry]\n",
    "\n",
    "    # Average value of a sentence from original summary_text\n",
    "    average = (sumValues / len(sentenceValue))\n",
    "\n",
    "    return average\n",
    "\n",
    "\n",
    "def _generate_summary(sentences, sentenceValue, threshold):\n",
    "    sentence_count = 0\n",
    "    summary = ''\n",
    "\n",
    "    for sentence in sentences:\n",
    "        if sentence[:15] in sentenceValue and sentenceValue[sentence[:15]] >= (threshold):\n",
    "            summary += \" \" + sentence\n",
    "            sentence_count += 1\n",
    "\n",
    "    return summary"
   ]
  },
  {
   "cell_type": "code",
   "execution_count": 13,
   "id": "7270062d",
   "metadata": {},
   "outputs": [],
   "source": [
    "freq_matrix= _create_frequency_matrix(sentences)\n",
    "\n",
    "tf_matrix = _create_tf_matrix(freq_matrix)\n",
    "\n",
    "count_doc_per_words = _create_documents_per_words(freq_matrix)\n",
    "\n",
    "idf_matrix = _create_idf_matrix(freq_matrix, count_doc_per_words, total_documents)\n",
    "\n",
    "tf_idf_matrix = _create_tf_idf_matrix(tf_matrix, idf_matrix)\n",
    "\n",
    "sentence_scores = _score_sentences(tf_idf_matrix)\n",
    "\n",
    "threshold = _find_average_score(sentence_scores)"
   ]
  },
  {
   "cell_type": "code",
   "execution_count": 14,
   "id": "00c7fc4f",
   "metadata": {},
   "outputs": [
    {
     "data": {
      "text/plain": [
       "0.05373514537982196"
      ]
     },
     "execution_count": 14,
     "metadata": {},
     "output_type": "execute_result"
    }
   ],
   "source": [
    "threshold"
   ]
  },
  {
   "cell_type": "code",
   "execution_count": 15,
   "id": "29ee5e44",
   "metadata": {},
   "outputs": [
    {
     "name": "stdout",
     "output_type": "stream",
     "text": [
      " BANCO DE ESPAÑA Eurosistema 23.03.2021 Nota informativa Proyecciones macroeconómicas de la economía española (2021-2023) Esta nota describe los rasgos principales de las proyecciones macroeconómicas de la economía española para el período 2021-2023, que el Banco de España publica hoy en su página web (disponibles en este enlace). A su vez, estas últimas dependerán de dos aspectos. En primer lugar, de las secuelas que la pandemia pueda dejar sobre el tejido productivo y laboral, en términos de destrucción de empresas y desempleo de larga duración. El escenario central contempla la posibilidad de que en los próximos meses surjan nuevos brotes de la enfermedad, cuya contención requeriría aplicar medidas de contención similares a las vigentes recientemente. Se proyecta, además, que la progresiva administración de las vacunas permita una retirada gradual de estas medidas, hasta su desaparición prácticamente plena a finales de 2021. El repunte reciente del IAPC tiene en gran medida una naturaleza transitoria. En la segunda mitad de 2021, se espera una reversión del aumento del componente energético de los últimos meses, lo que llevaría a que la tasa de inflación muestre un perfil descendente. La incertidumbre ha tendido a verse reducida también como consecuencia del paquete fiscal recientemente aprobado en Estados Unidos y del acuerdo para la salida del Reino Unido de la Unión Europea.\n"
     ]
    }
   ],
   "source": [
    "summary = _generate_summary(sentences, sentence_scores, 1* threshold)\n",
    "print(summary)"
   ]
  },
  {
   "cell_type": "code",
   "execution_count": 16,
   "id": "773c7c61",
   "metadata": {},
   "outputs": [
    {
     "data": {
      "text/plain": [
       "1403"
      ]
     },
     "execution_count": 16,
     "metadata": {},
     "output_type": "execute_result"
    }
   ],
   "source": [
    "len(summary)"
   ]
  },
  {
   "cell_type": "code",
   "execution_count": 17,
   "id": "d606824c",
   "metadata": {},
   "outputs": [
    {
     "data": {
      "text/plain": [
       "6199"
      ]
     },
     "execution_count": 17,
     "metadata": {},
     "output_type": "execute_result"
    }
   ],
   "source": [
    "len(df['Documentos'][0])"
   ]
  },
  {
   "cell_type": "code",
   "execution_count": 18,
   "id": "8b4e773c",
   "metadata": {},
   "outputs": [
    {
     "data": {
      "text/plain": [
       "Index(['Documentos'], dtype='object')"
      ]
     },
     "execution_count": 18,
     "metadata": {},
     "output_type": "execute_result"
    }
   ],
   "source": [
    "df.columns"
   ]
  },
  {
   "cell_type": "code",
   "execution_count": 19,
   "id": "2cf0f700",
   "metadata": {},
   "outputs": [
    {
     "data": {
      "text/plain": [
       "'BOE\\\\nBOLETÃ\\x8dN OFICIAL DEL ESTADO\\\\nNÃºm. 62\\\\nViernes 12 de marzo de 2010\\\\nSec. I. PÃ¡g. 24831\\\\nI. DISPOSICIONES GENERALES\\\\nMINISTERIO DE EDUCACIÃ“N\\\\n4132\\\\nReal Decreto 132/2010, de 12 de febrero, por el que se establecen los requisitos\\\\nmÃ\\xadnimos de los centros que impartan las enseÃ±anzas del segundo ciclo de la\\\\neducaciÃ³n infantil, la educaciÃ³n primaria y la educaciÃ³n secundaria.\\\\nLa Ley OrgÃ¡nica 8/1985, de 3 de julio, reguladora del Derecho a la EducaciÃ³n,\\\\nestablece, en su artÃ\\xadculo 14, que todos los centros docentes, independientemente de su\\\\ntitularidad, deberÃ¡n reunir unos requisitos mÃ\\xadnimos referidos a titulaciÃ³n acadÃ©mica del\\\\nprofesorado, relaciÃ³n numÃ©rica alumno-profesor, instalaciones docentes y deportivas, y\\\\nnÃºmero de puestos escolares, para impartir enseÃ±anzas con garantÃ\\xada de calidad. Por su\\\\nparte, el artÃ\\xadculo 23 de la misma ley condiciona la apertura y funcionamiento de los centros\\\\ndocentes privados al principio de autorizaciÃ³n administrativa que se concederÃ¡ siempre\\\\nque aquellos reÃºnan los requisitos mÃ\\xadnimos establecidos.\\\\nLa Ley OrgÃ¡nica 2/2006, de 3 de mayo, de EducaciÃ³n, incluye novedades en la\\\\ndistribuciÃ³n de competencias normativas en el primer ciclo de educaciÃ³n infantil, asÃ\\xad como\\\\nen la organizaciÃ³n de las enseÃ±anzas oficiales, que afectan, entre otros, a nuevas materias\\\\ny a los currÃ\\xadculos de las distintas etapas educativas. De ahÃ\\xad que sea necesario revisar la\\\\nnormativa bÃ¡sica que regula los requisitos mÃ\\xadnimos que deben reunir los centros docentes\\\\nque las impartan, y especialmente el Real Decreto 1004/1991, de 14 de junio, por el que\\\\nse establecen los requisitos mÃ\\xadnimos de los centros que impartan enseÃ±anzas de rÃ©gimen\\\\ngeneral no universitarias, que recobrÃ³ vigencia como consecuencia de la sentencia del\\\\nTribunal Supremo por la que se anulÃ³ el Real Decreto 1537/2003, de 5 de diciembre, por\\\\nel que se establecen los requisitos mÃ\\xadnimos de los centros que impartan enseÃ±anzas\\\\nescolares de rÃ©gimen general. En este sentido, la normativa bÃ¡sica relativa a los requisitos\\\\nde los centros docentes que imparten enseÃ±anzas reguladas en la Ley OrgÃ¡nica de\\\\nEducaciÃ³n deberÃ¡ constituir el denominador comÃºn que garantice la prestaciÃ³n del servicio\\\\neducativo en condiciones de calidad e igualdad para satisfacer el derecho constitucional a\\\\nla educaciÃ³n.\\\\nAdemÃ¡s de la habilitaciÃ³n expresa al Gobierno para que regule los requisitos mÃ\\xadnimos\\\\nde los centros docentes contenida en el artÃ\\xadculo 14 de la Ley OrgÃ¡nica 8/1985, reguladora\\\\ndel Derecho a la EducaciÃ³n, el rango reglamentario de esta norma estÃ¡ justificado por\\\\nresultar un complemento indispensable a la legislaciÃ³n educativa, asÃ\\xad como un complemento\\\\nnecesario para alcanzar el comÃºn denominador que persigue la normativa bÃ¡sica estatal,\\\\nya que una norma reglamentaria resulta el instrumento idÃ³neo dado el carÃ¡cter tÃ©cnico de\\\\nla regulaciÃ³n relativa a la titulaciÃ³n acadÃ©mica del profesorado, relaciÃ³n numÃ©rica alumno-profesor, y a las instalaciones docentes y deportivas de los centros docentes.\\\\nPor otra parte, la Ley 17/2009, de 23 de noviembre, sobre el libre acceso a las\\\\nactividades de servicios y su ejercicio, afecta a los requisitos a los que se somete la\\\\nprestaciÃ³n de servicios educativos de interÃ©s econÃ³mico general, en tanto que dichos\\\\nrequisitos deberÃ¡n tener carÃ¡cter reglado, ser claros e inequÃ\\xadvocos, objetivos e imparciales,\\\\ntransparentes, proporcionados al objetivo de interÃ©s general y darse a conocer con\\\\nantelaciÃ³n. En este sentido, se remite la regulaciÃ³n de los aspectos tÃ©cnicos relacionados\\\\ncon los requisitos que deben reunir las instalaciones docentes a lo establecido en el Real\\\\nDecreto 314/2006, de 17 de marzo, por el que se aprueba el CÃ³digo TÃ©cnico de EdificaciÃ³n,\\\\ndonde se establecen las normas tÃ©cnicas relativas a la seguridad estructural, la seguridad\\\\nde utilizaciÃ³n, la salubridad, la protecciÃ³n frente al ruido, el ahorro de energÃ\\xada y la seguridad\\\\nen caso de incendio, fijando, entre otros requisitos, una ocupaciÃ³n de 2 metros cuadrados\\\\npor persona en aulas infantiles, 1,5 metros cuadrados por persona en el resto de las aulas,\\\\ny 5 metros cuadrados por persona en los espacios diferentes a las aulas como laboratorios,\\\\ntalleres, gimnasios, salas de dibujo, etc.\\\\ncve: BOE-A-2010-4132\\\\nBOE\\\\nBOLETÃ\\x8dN OFICIAL DEL ESTADO\\\\nNÃºm. 62\\\\nViernes 12 de marzo de 2010\\\\nSec. I. PÃ¡g. 24832\\\\nPara la elaboraciÃ³n de este real decreto han sido consultadas las comunidades\\\\nautÃ³nomas en el seno de la Conferencia Sectorial de EducaciÃ³n y se ha recabado el\\\\ninforme previo del Consejo Escolar del Estado.\\\\nEn su virtud, a propuesta del Ministro de EducaciÃ³n, de acuerdo con el Consejo de\\\\nEstado, y previa deliberaciÃ³n del Consejo de Ministros en su reuniÃ³n del dÃ\\xada 12 de febrero\\\\nde 2010,\\\\nDISPONGO:\\\\nTÃ\\x8dTULO I\\\\nDisposiciones de carÃ¡cter general\\\\nArtÃ\\xadculo 1. Objeto.\\\\n1. Este real decreto tiene por objeto establecer los requisitos mÃ\\xadnimos que deben\\\\ncumplir los centros docentes que impartan las enseÃ±anzas de educaciÃ³n infantil de\\\\nsegundo ciclo, educaciÃ³n primaria, educaciÃ³n secundaria obligatoria, bachillerato y\\\\nformaciÃ³n profesional. Los requisitos mÃ\\xadnimos se referirÃ¡n a la titulaciÃ³n acadÃ©mica del\\\\nprofesorado, la relaciÃ³n numÃ©rica alumno-profesor, las instalaciones docentes y deportivas\\\\ny el nÃºmero de puestos escolares.\\\\n2. Igualmente, este real decreto, establece los requisitos mÃ\\xadnimos de titulaciÃ³n\\\\nacadÃ©mica del profesorado del primer ciclo de la educaciÃ³n infantil.\\\\nArtÃ\\xadculo 2. DenominaciÃ³n de los centros docentes.\\\\nLos centros docentes tendrÃ¡n la denominaciÃ³n genÃ©rica que establecen los artÃ\\xadculos 111\\\\ny 114 de la Ley OrgÃ¡nica 2/2006, de 3 de mayo, de EducaciÃ³n.\\\\nArtÃ\\xadculo 3. Requisitos de instalaciones comunes a todos los centros.\\\\n1. Todos los centros docentes que impartan las enseÃ±anzas de educaciÃ³n\\\\ninfantil de segundo ciclo, educaciÃ³n primaria, educaciÃ³n secundaria obligatoria,\\\\nbachillerato y formaciÃ³n profesional se ajustarÃ¡n a lo establecido en la Ley OrgÃ¡nica\\\\n8/1985, de 3 de julio, reguladora del Derecho a la EducaciÃ³n, en la Ley OrgÃ¡nica\\\\n2/2006, de EducaciÃ³n y en las normas que las desarrollen, asÃ\\xad como a lo dispuesto\\\\nen el Real Decreto 314/2006, de 17 de marzo, por el que se aprueba el CÃ³digo\\\\nTÃ©cnico de EdificaciÃ³n.\\\\n2. Los centros docentes mencionados en el apartado anterior deberÃ¡n cumplir,\\\\ncomo mÃ\\xadnimo, los siguientes requisitos relativos a las instalaciones:\\\\na) Situarse en edificios independientes, destinados exclusivamente a uso escolar, si\\\\nbien sus instalaciones podrÃ¡n ser utilizadas fuera del horario escolar para la realizaciÃ³n de\\\\notras actividades de carÃ¡cter educativo, cultural o deportivo. En el caso de centros docentes\\\\nque impartan el segundo ciclo de educaciÃ³n infantil, tendrÃ¡n, ademÃ¡s, acceso independiente\\\\ndel resto de instalaciones.\\\\nb) Reunir las condiciones de seguridad estructural, de seguridad en caso de incendio,\\\\nde seguridad de utilizaciÃ³n, de salubridad, de protecciÃ³n frente al ruido y de ahorro de\\\\nenergÃ\\xada que seÃ±ala la legislaciÃ³n vigente. Asimismo, deberÃ¡n cumplir los requisitos de\\\\nprotecciÃ³n laboral establecidos en la legislaciÃ³n vigente.\\\\nc) Tener, en los espacios en los que se desarrolle la prÃ¡ctica docente ventilaciÃ³n e\\\\niluminaciÃ³n natural y directa desde el exterior.\\\\nd) Disponer de las condiciones de accesibilidad y supresiÃ³n de barreras exigidas por\\\\nla legislaciÃ³n relativa a las condiciones bÃ¡sicas de accesibilidad universal y no discriminaciÃ³n\\\\nde personas con discapacidad, sin perjuicio de los ajustes razonables que deban\\\\nadoptarse.\\\\ncve: BOE-A-2010-4132\\\\nBOE\\\\nBOLETÃ\\x8dN OFICIAL DEL ESTADO\\\\nNÃºm. 62\\\\nViernes 12 de marzo de 2010\\\\nSec. I. PÃ¡g. 24833\\\\ne) Disponer como mÃ\\xadnimo de los siguientes espacios e instalaciones:\\\\nDespachos de direcciÃ³n, de actividades de coordinaciÃ³n y de orientaciÃ³n.\\\\nEspacios destinados a la administraciÃ³n.\\\\nSala de profesores adecuada al nÃºmero de profesores.\\\\nEspacios apropiados para las reuniones de las asociaciones de alumnos y de madres\\\\ny padres de alumnos, en el caso de centros sostenidos con fondos pÃºblicos.\\\\nAseos y servicios higiÃ©nico-sanitarios adecuados al nÃºmero de puestos escolares, a\\\\nlas necesidades del alumnado y del personal educativo del centro, asÃ\\xad como aseos y\\\\nservicios higiÃ©nico-sanitarios adaptados para personas con discapacidad en el nÃºmero,\\\\nproporciÃ³n y condiciones de uso funcional que la legislaciÃ³n aplicable en materia de\\\\naccesibilidad establece.\\\\nEspacios necesarios para impartir los apoyos al alumnado con necesidades especÃ\\xadficas\\\\nde apoyo educativo.\\\\n3. Los centros docentes que impartan la educaciÃ³n primaria, la educaciÃ³n secundaria\\\\nobligatoria y/o el bachillerato deberÃ¡n contar, ademÃ¡s con:\\\\nUn patio de recreo, parcialmente cubierto, susceptible de ser utilizado como pista\\\\npolideportiva, con una superficie adecuada al nÃºmero de puestos escolares. En ningÃºn\\\\ncaso serÃ¡ inferior 900 metros cuadrados.\\\\nBiblioteca, con una superficie, como mÃ\\xadnimo, de 45 metros cuadrados en los centros\\\\nque impartan la educaciÃ³n primaria, y 75 metros cuadrados en los centros que impartan la\\\\neducaciÃ³n secundaria obligatoria o el bachillerato.\\\\nUn gimnasio con una superficie adecuada al nÃºmero de puestos escolares.\\\\nTodos los espacios en los que se desarrollen acciones docentes, asÃ\\xad como la biblioteca,\\\\ncontarÃ¡n con acceso a las tecnologÃ\\xadas de la informaciÃ³n y la comunicaciÃ³n en cantidad y\\\\ncalidad adecuadas al nÃºmero de puestos escolares, garantizando la accesibilidad a los\\\\nentornos digitales del alumnado con capacidades diferentes.\\\\n4. Los requisitos de instalaciones podrÃ¡n flexibilizarse de acuerdo con lo establecido\\\\nen el artÃ\\xadculo 20 y la disposiciÃ³n adicional tercera de este real decreto.\\\\nArtÃ\\xadculo 4. Puestos escolares.\\\\n1. El nÃºmero de puestos escolares de los centros se fijarÃ¡ en las correspondientes\\\\ndisposiciones por las que se autorice su apertura y funcionamiento, teniendo en cuenta el\\\\nnÃºmero mÃ¡ximo de alumnos por unidad escolar y el nÃºmero total de unidades autorizadas\\\\nen funciÃ³n de las instalaciones y condiciones materiales establecidas en este real decreto.\\\\n2. A efectos de lo dispuesto en este real decreto, se entenderÃ¡ por nÃºmero de puestos\\\\nescolares el nÃºmero de alumnos que un centro puede atender simultÃ¡neamente, de forma\\\\nque se garanticen las condiciones de calidad exigibles para la imparticiÃ³n de la\\\\nenseÃ±anza.\\\\nTÃ\\x8dTULO 11\\\\nDe los centros de educaciÃ³n infantil\\\\nArtÃ\\xadculo 5.\\\\nCondiciones generales.\\\\n1. Los centros podrÃ¡n ofrecer el primer ciclo de esta etapa educativa, el segundo, o\\\\nambos.\\\\n2. Los centros que ofrecen el primer ciclo de educaciÃ³n infantil se regirÃ¡n por lo\\\\ndispuesto en la regulaciÃ³n especÃ\\xadfica establecida por la AdministraciÃ³n educativa\\\\ncompetente, de acuerdo con el artÃ\\xadculo 14.7 de la Ley OrgÃ¡nica de EducaciÃ³n, en lo relativo\\\\na la relaciÃ³n numÃ©rica alumnado-profesor, a las instalaciones y al nÃºmero de puestos\\\\nescolares.\\\\ncve: BOE-A-2010-4132\\\\nBOE\\\\nBOLETÃ\\x8dN OFICIAL DEL ESTADO\\\\nNÃºm. 62\\\\nViernes 12 de marzo de 2010\\\\nSec. I. PÃ¡g. 24834\\\\nArtÃ\\xadculo 6. Instalaciones y condiciones materiales de los centros que ofrecen el segundo\\\\nciclo de la educaciÃ³n infantil.\\\\n1. Los centros que ofrecen el segundo ciclo de la educaciÃ³n infantil deberÃ¡n contar\\\\ncon un mÃ\\xadnimo de tres unidades, sin perjuicio de lo establecido en la disposiciÃ³n adicional\\\\ntercera del presente real decreto.\\\\n2. Estos centros deberÃ¡n contar, como mÃ\\xadnimo, con las siguientes instalaciones y\\\\ncondiciones materiales:\\\\na) Un aula por cada unidad con una superficie adecuada al nÃºmero de puestos\\\\nescolares autorizados y en todo caso, con un mÃ\\xadnimo de 2 metros cuadrados por puesto\\\\nescolar.\\\\nb) Una sala polivalente de 30 metros cuadrados.\\\\nc) Un patio de juegos, de uso exclusivo del centro, con una superficie adecuada al\\\\nnÃºmero de puestos escolares autorizados y nunca inferior a 150 metros cuadrados para\\\\ncada seis unidades o fracciÃ³n, con horario de utilizaciÃ³n diferenciado en el caso de que se\\\\nescolaricen alumnos de otras etapas educativas.\\\\nArtÃ\\xadculo 7. RelaciÃ³n alumnos por unidad.\\\\nLos centros docentes que ofrecen el segundo ciclo de la educaciÃ³n infantil tendrÃ¡n,\\\\ncomo mÃ¡ximo, 25 alumnos por unidad escolar.\\\\nArtÃ\\xadculo 8. Requisitos de titulaciÃ³n de los profesionales que atienden la educaciÃ³n\\\\ninfantil.\\\\n1. La atenciÃ³n educativa en el primer ciclo de educaciÃ³n infantil correrÃ¡ a cargo de\\\\nprofesionales que posean el tÃ\\xadtulo de Grado que habilite para el ejercicio de la profesiÃ³n de\\\\nmaestro de educaciÃ³n infantil, el tÃ\\xadtulo de Maestro con la especialidad de educaciÃ³n infantil,\\\\no el tÃ\\xadtulo de TÃ©cnico Superior en EducaciÃ³n Infantil regulado en el Real Decreto 1394/2007,\\\\nde 29 de octubre.\\\\n2. Las Administraciones educativas garantizarÃ¡n la presencia en los centros a los\\\\nque se refiere el anterior apartado, del nÃºmero necesario de graduados en el tÃ\\xadtulo que\\\\nhabilite para el ejercicio de la profesiÃ³n de maestro de educaciÃ³n infantil, o de maestros\\\\ncon la especialidad en educaciÃ³n infantil para garantizar la elaboraciÃ³n, el seguimiento y\\\\nla evaluaciÃ³n de la propuesta pedagÃ³gica a la que se refiere el artÃ\\xadculo 14.2 de la Ley\\\\nOrgÃ¡nica 2/2006, de 3 de mayo, de educaciÃ³n.\\\\n3. El segundo ciclo de educaciÃ³n infantil correrÃ¡ a cargo de profesionales que posean\\\\nel tÃ\\xadtulo de Grado en EducaciÃ³n infantil, o el tÃ\\xadtulo de Maestro con la especialidad de\\\\neducaciÃ³n infantil. Cuando las enseÃ±anzas impartidas lo requieran, el grupo podrÃ¡ ser\\\\natendido por maestros de otras especialidades.\\\\n4. Los centros que oferten el segundo ciclo de la educaciÃ³n infantil deberÃ¡n contar,\\\\ncomo mÃ\\xadnimo, con un graduado en educaciÃ³n infantil o un maestro especialista en\\\\neducaciÃ³n infantil por cada unidad.\\\\n5. Los centros en los que se impartan los ciclos primero y segundo deberÃ¡n contar\\\\ncon el personal cualificado al que se refiere el presente artÃ\\xadculo de este real decreto.\\\\n6. Los centros de educaciÃ³n infantil que escolaricen a niÃ±os que presenten necesidad\\\\nespecÃ\\xadfica de apoyo educativo contarÃ¡n, en su caso, con los recursos humanos y materiales\\\\nde apoyo que determine la AdministraciÃ³n educativa competente, necesarios para\\\\ngarantizar la correcta atenciÃ³n de este alumnado.\\\\nLos recursos humanos a que se refiere el pÃ¡rrafo anterior deberÃ¡n disponer de la\\\\ntitulaciÃ³n o cualificaciÃ³n adecuada.\\\\ncve: BOE-A-2010-4132\\\\nBOE\\\\nBOLETÃ\\x8dN OFICIAL DEL ESTADO\\\\nNÃºm. 62\\\\nViernes 12 de marzo de 2010\\\\nSec. I. PÃ¡g. 24835\\\\nTÃ\\x8dTULO III\\\\nDe los centros de educaciÃ³n primaria\\\\nArtÃ\\xadculo 9. Condiciones generales.\\\\nLos centros de educaciÃ³n primaria tendrÃ¡n, como mÃ\\xadnimo, una unidad por cada curso,\\\\nsalvo lo establecido en la disposiciÃ³n adicional tercera del presente real decreto.\\\\nArtÃ\\xadculo 10. Instalaciones y condiciones materiales de los centros.\\\\nLos centros de educaciÃ³n primaria deberÃ¡n contar, como mÃ\\xadnimo, con las siguientes\\\\ninstalaciones y condiciones materiales:\\\\na) Un aula por cada unidad con una superficie adecuada al nÃºmero de alumnos\\\\nescolarizados autorizados y en todo caso, con un mÃ\\xadnimo de 1,5 metros cuadrados por\\\\npuesto escolar.\\\\nb) Un spacio por cada seis unidades para desdoblamiento de grupos y otro para\\\\nactividades de apoyo y refuerzo pedagÃ³gico.\\\\nc) Una sala polivalente, con una superficie adecuada al nÃºmero de puestos escolares\\\\nautorizados, que podrÃ¡ compartimentarse con mamparas mÃ³viles.\\\\nArtÃ\\xadculo 11. RelaciÃ³n de alumnos por unidad.\\\\nLos centros de educaciÃ³n primaria tendrÃ¡n, como mÃ¡ximo, 25 alumnos por unidad\\\\nescolar.\\\\nArtÃ\\xadculo 12. Requisitos de titulaciÃ³n acadÃ©mica del profesorado que imparte educaciÃ³n\\\\nprimaria.\\\\n1. Los centros de educaciÃ³n primaria dispondrÃ¡n, como mÃ\\xadnimo, de un maestro por\\\\ncada grupo de alumnos y garantizarÃ¡n, en todo caso, la existencia de graduados en\\\\neducaciÃ³n primaria o maestros con la cualificaciÃ³n adecuada para impartir la enseÃ±anza\\\\nde la mÃºsica, la educaciÃ³n fÃ\\xadsica y las lenguas extranjeras.\\\\n2. AdemÃ¡s del personal docente que establecen los apartados anteriores, los centros\\\\nde educaciÃ³n primaria que escolaricen a niÃ±os que presenten necesidad especÃ\\xadfica de\\\\napoyo educativo contarÃ¡n, en su caso, con los recursos humanos y materiales de apoyo\\\\nque determine la AdministraciÃ³n educativa competente, necesarios para garantizar la\\\\ncorrecta atenciÃ³n de este alumnado.\\\\nLos recursos humanos a que se refiere el pÃ¡rrafo anterior deberÃ¡n disponer de la\\\\ntitulaciÃ³n o cualificaciÃ³n adecuada.\\\\nTÃ\\x8dTULO IV\\\\nDe los centros de educaciÃ³n secundaria\\\\nArtÃ\\xadculo 13. Condiciones generales.\\\\n1. En los centros de educaciÃ³n secundaria podrÃ¡ impartirse la educaciÃ³n secundaria\\\\nobligatoria, el bachillerato y la formaciÃ³n profesional.\\\\n2. En los centros de educaciÃ³n secundaria que ofrezcan las enseÃ±anzas de educaciÃ³n\\\\nsecundaria obligatoria se deberÃ¡n impartir los cuatro cursos de que consta esta etapa\\\\neducativa con sujeciÃ³n a la ordenaciÃ³n acadÃ©mica en vigor. Dichos centros deberÃ¡n tener,\\\\ncomo mÃ\\xadnimo, una unidad para cada curso y disponer de las instalaciones y condiciones\\\\nmateriales recogidas en el artÃ\\xadculo siguiente.\\\\n3. Los centros de educaciÃ³n secundaria en los que se imparta el bachillerato\\\\nofrecerÃ¡n, al menos, dos de las modalidades de las previstas en el artÃ\\xadculo 34.1 de la Ley\\\\nOrgÃ¡nica 2/2006, de 3 de mayo, de EducaciÃ³n. Al respecto, se entenderÃ¡n que imparten\\\\ncve: BOE-A-2010-4132\\\\nBOE\\\\nBOLETÃ\\x8dN OFICIAL DEL ESTADO\\\\nNÃºm. 62\\\\nViernes 12 de marzo de 2010\\\\nSec. I. PÃ¡g. 24836\\\\nla modalidad de artes cuando oferten al menos una de las vÃ\\xadas previstas en el artÃ\\xadculo 5.3\\\\ndel Real Decreto 1467/2007, de 2 de noviembre, por el que se establece la estructura del\\\\nbachillerato y se fijan sus enseÃ±anzas mÃ\\xadnimas.\\\\n4. El requisito anterior no serÃ¡ de aplicaciÃ³n para los centros de educaciÃ³n secundaria\\\\nen los que se impartan las dos vÃ\\xadas de la modalidad de artes.\\\\n5. Los centros docentes que imparten tÃ\\xadtulos de FormaciÃ³n profesional estarÃ¡n\\\\nsometidos a los requisitos mÃ\\xadnimos que establece este real decreto, asÃ\\xad como los\\\\nestablecidos en el Real Decreto 1538/2006, de 15 de diciembre, por el que se establece la\\\\nordenaciÃ³n general de la formaciÃ³n profesional del sistema educativo, y la normativa que\\\\nregule los tÃ\\xadtulos de tÃ©cnico y tÃ\\xadtulos de tÃ©cnico superior de formaciÃ³n profesional.\\\\nArtÃ\\xadculo 14. Instalaciones y condiciones materiales de los centros que imparten educaciÃ³n\\\\nsecundaria obligatoria.\\\\nLos centros en los que se imparta educaciÃ³n secundaria obligatoria dispondrÃ¡n, como\\\\nmÃ\\xadnimo, de las siguientes instalaciones:\\\\na) Un aula por cada unidad con una superficie adecuada al nÃºmero de alumnos\\\\nescolarizados autorizados y en todo caso, con un mÃ\\xadnimo de 1,5 metros cuadrados por\\\\npuesto escolar.\\\\nb) Por cada 12 unidades o fracciÃ³n, un aula taller para tecnologÃ\\xadas y dos aulas para\\\\nlas actividades relacionadas con las materias de mÃºsica y educaciÃ³n plÃ¡stica y visual\\\\nrespectivamente.\\\\nc) Al menos un laboratorio de Ciencias Experimentales por cada 12 unidades o\\\\nfracciÃ³n.\\\\nd) Un espacio por cada ocho unidades para desdoblamiento de grupos y otro para\\\\nactividades de apoyo y refuerzo pedagÃ³gico.\\\\nArtÃ\\xadculo 15. Instalaciones y condiciones materiales de los centros que imparten\\\\nbachillerato.\\\\n1. Los centros en los que se imparta bachillerato deberÃ¡n disponer, como mÃ\\xadnimo, de\\\\nun aula por cada unidad con una superficie adecuada al nÃºmero de alumnos escolarizados\\\\ny en todo caso, con un mÃ\\xadnimo de 1,5 metros cuadrados por puesto escolar.\\\\n2. Un espacio por cada cuatro unidades para desdoblamiento de grupos y otro para\\\\nactividades de apoyo y refuerzo pedagÃ³gico.\\\\n3. En funciÃ³n de las modalidades del bachillerato impartidas, los centros deberÃ¡n\\\\ndisponer, asimismo, de las instalaciones siguientes:\\\\na) Para la modalidad de artes:\\\\nDos aulas diferenciadas dotadas de las instalaciones adecuadas para la enseÃ±anza de\\\\nlas materias de modalidad cuando se imparta la vÃ\\xada de artes plÃ¡sticas, imagen y diseÃ±o.\\\\nUn aula de mÃºsica cuando se imparta la vÃ\\xada de artes escÃ©nicas, mÃºsica y danza.\\\\nb) Para la modalidad de Ciencias y TecnologÃ\\xada:\\\\nTres laboratorios diferenciados de FÃ\\xadsica, QuÃ\\xadmica y Ciencias.\\\\nUn aula de dibujo.\\\\nUn aula de TecnologÃ\\xada.\\\\nArtÃ\\xadculo 16. RelaciÃ³n de alumnos por unidad.\\\\nLos centros de educaciÃ³n secundaria tendrÃ¡n, como mÃ¡ximo, 30 alumnos por unidad\\\\nescolar en educaciÃ³n secundaria obligatoria y de 35 en bachillerato.\\\\ncve: BOE-A-2010-4132\\\\nBOE\\\\nBOLETÃ\\x8dN OFICIAL DEL ESTADO\\\\nNÃºm. 62\\\\nViernes 12 de marzo de 2010\\\\nSec. I. PÃ¡g. 24837\\\\nArtÃ\\xadculo 17. Profesionales que atienden la educaciÃ³n secundaria obligatoria y el\\\\nbachillerato.\\\\n1. Para impartir las enseÃ±anzas de educaciÃ³n secundaria obligatoria y de bachillerato\\\\nserÃ¡ necesario tener el tÃ\\xadtulo Graduado, Licenciado, Ingeniero o Arquitecto, ademÃ¡s del\\\\nMÃ¡ster que habilita para el ejercicio de las profesiones de profesor de educaciÃ³n secundaria\\\\nobligatoria, bachillerato, formaciÃ³n profesional y enseÃ±anzas de idiomas.\\\\n2. Los profesores de la educaciÃ³n secundaria deberÃ¡n, asimismo, acreditar la\\\\ncualificaciÃ³n especÃ\\xadfica para impartir las Ã¡reas y materias respectivas.\\\\nArtÃ\\xadculo 18. NÃºmero mÃ\\xadnimo de profesores de los centros que ofrecen la educaciÃ³n\\\\nsecundaria obligatoria y el bachillerato.\\\\n1. El nÃºmero mÃ\\xadnimo de profesores en los centros de educaciÃ³n secundaria serÃ¡ el\\\\nnecesario para cubrir el horario que se establezca en los distintos programas y planes de\\\\nestudio autorizados.\\\\n2. Los centros que escolaricen alumnos con necesidad especÃ\\xadfica de apoyo educativo\\\\ncontarÃ¡n ademÃ¡s, con el personal que en su caso determine la AdministraciÃ³n educativa\\\\ncompetente. Este personal deberÃ¡ estar en posesiÃ³n de la titulaciÃ³n o cualificaciÃ³n\\\\nadecuada.\\\\nArtÃ\\xadculo 19. Requisitos de centros que ofrecen los Programas de CualificaciÃ³n Profesional\\\\nInicial.\\\\n1. La imparticiÃ³n de los mÃ³dulos especÃ\\xadficos a que se refiere el artÃ\\xadculo 30.3, letra a)\\\\ny b), de la Ley OrgÃ¡nica de EducaciÃ³n, requerirÃ¡ disponer de los espacios y equipamientos\\\\nque para cada uno de ellos determine la AdministraciÃ³n educativa competente.\\\\n2. La imparticiÃ³n de los mÃ³dulos voluntarios al que se refiere el artÃ\\xadculo 30.3 letra c)\\\\nde la Ley OrgÃ¡nica de EducaciÃ³n, requerirÃ¡ disponer, al menos, de los mismos requisitos\\\\nexigidos para la autorizaciÃ³n de centros de formaciÃ³n de adultos que imparten la educaciÃ³n\\\\nsecundaria obligatoria.\\\\nArtÃ\\xadculo 20. FlexibilizaciÃ³n de los requisitos de instalaciones para los centros docentes\\\\nque impartan distintas enseÃ±anzas en el mismo edificio o recinto escolar.\\\\n1. En el caso de centros situados en el mismo edificio o recinto escolar, el patio de\\\\nrecreo y la sala polivalente de los centros de educaciÃ³n primaria cubren las exigencias\\\\ncorrespondientes de los centros de educaciÃ³n infantil, siempre que se garantice, para los\\\\nalumnos de educaciÃ³n infantil el uso de dicha dependencia en horario independiente, salvo\\\\nque se trate de centros que agrupen alumnos de distintas etapas en las mismas\\\\nunidades.\\\\nAsimismo, el despacho de direcciÃ³n, los espacios destinados a la administraciÃ³n y la\\\\nsala de profesores de los centros de educaciÃ³n primaria cubren las exigencias de estas\\\\ninstalaciones en educaciÃ³n infantil.\\\\n2. En el caso de centros de educaciÃ³n primaria y de educaciÃ³n secundaria obligatoria\\\\nsituados en el mismo edificio o recinto escolar, se considerarÃ¡n instalaciones comunes las\\\\nsiguientes:\\\\na) La biblioteca.\\\\nb) El gimnasio.\\\\nc) El patio de recreo.\\\\nd) Los despachos de direcciÃ³n, los espacios destinados a la administraciÃ³n y la sala\\\\nde profesores.\\\\ne) En los centros con hasta doce unidades de educaciÃ³n primaria y hasta ocho\\\\nunidades de educaciÃ³n secundaria obligatoria, el aula taller para tecnologÃ\\xadas y las aulas de\\\\nmÃºsica y educaciÃ³n plÃ¡stica y visual cubren la exigencia de la sala polivalente de educaciÃ³n\\\\nprimaria.\\\\ncve: BOE-A-2010-4132\\\\nBOE\\\\nBOLETÃ\\x8dN OFICIAL DEL ESTADO\\\\nNÃºm. 62\\\\nViernes 12 de marzo de 2010\\\\nSec. I. PÃ¡g. 24838\\\\n3. En el caso de centros que impartan educaciÃ³n secundaria obligatoria y bachillerato,\\\\ndeberÃ¡n reunir las condiciones que se especifican en los artÃ\\xadculos 14 y 15 de este real\\\\ndecreto, con las siguientes salvedades:\\\\na) El gimnasio, la biblioteca, el patio de recreo, los espacios destinados a la\\\\nadministraciÃ³n, los despachos y la sala de profesores se considerarÃ¡n instalaciones\\\\ncomunes.\\\\nb) Una de las aulas diferenciadas a las que hace referencia el artÃ\\xadculo 15.2\\\\napartado a) para la enseÃ±anza de las materias de bachillerato de la modalidad de artes,\\\\nen la vÃ\\xada de artes plÃ¡sticas, imagen y diseÃ±o, cubre la exigencia del aula de dibujo de la\\\\nmodalidad de ciencias y tecnologÃ\\xada y viceversa. Asimismo cubre la exigencia del aula de\\\\neducaciÃ³n plÃ¡stica y visual para la educaciÃ³n secundaria obligatoria.\\\\nc) El aula de mÃºsica para el bachillerato de artes en la vÃ\\xada de artes escÃ©nicas, mÃºsica\\\\ny danza, cubre la exigencia del aula de mÃºsica para la educaciÃ³n secundaria obligatoria.\\\\nd) Los laboratorios para el bachillerato de la modalidad de ciencias y tecnologÃ\\xada\\\\ncubren la exigencia del laboratorio de ciencias experimentales para la educaciÃ³n secundaria\\\\nobligatoria. Del mismo modo, el aula de tecnologÃ\\xada para el bachillerato cubre la exigencia\\\\ndel aula taller de tecnologÃ\\xadas para la educaciÃ³n secundaria obligatoria.\\\\n4. En los centros docentes que impartan educaciÃ³n secundaria obligatoria o\\\\nbachillerato y formaciÃ³n profesional podrÃ¡n disponer de recursos humanos e instalaciones\\\\ncomunes. A estos efectos, se consideran instalaciones comunes aquellas que se destinen\\\\na usos similares en funciÃ³n del tiempo de utilizaciÃ³n de los espacios respectivos, previstos\\\\npara cada una de las enseÃ±anzas.\\\\nDisposiciÃ³n adicional primera. Centros que ofrecen la educaciÃ³n de personas adultas.\\\\n1. Los centros creados o autorizados al amparo de lo dispuesto en este real decreto\\\\npodrÃ¡n ser autorizados para impartir las correspondientes enseÃ±anzas a personas adultas,\\\\nde acuerdo con los programas que al efecto se establezcan, si de ello no resulta menoscabo\\\\npara las enseÃ±anzas cursadas por los alumnos escolarizados en el centro, especialmente\\\\nen cuanto a su rÃ©gimen horario.\\\\n2. Los centros especÃ\\xadficos de educaciÃ³n de personas adultas que impartan la\\\\neducaciÃ³n secundaria obligatoria y/o el bachillerato se rigen por lo dispuesto en este real\\\\ndecreto en lo relativo a las instalaciones y la titulaciÃ³n de los docentes. Los requisitos de\\\\ninstalaciones se adecuarÃ¡n a la organizaciÃ³n especÃ\\xadfica de las enseÃ±anzas de adultos.\\\\nDisposiciÃ³n adicional segunda. Centros de educaciÃ³n especial.\\\\nLas Administraciones educativas competentes adaptarÃ¡n lo dispuesto en este real\\\\ndecreto a los centros de educaciÃ³n especial que ofrecen enseÃ±anzas dirigidas a alumnos\\\\ncon necesidades educativas especiales que no puedan ser atendidas en el marco de las\\\\nmedidas de atenciÃ³n a la diversidad en los centros ordinarios.\\\\nDisposiciÃ³n adicional tercera. Centros que atiendan a poblaciones de especiales\\\\ncaracterÃ\\xadsticas sociodemogrÃ¡ficas.\\\\n1. Los centros de educaciÃ³n infantil y de educaciÃ³n primaria que atiendan a\\\\npoblaciones de especiales caracterÃ\\xadsticas sociodemogrÃ¡ficas o escolares quedan\\\\nexceptuados de los requisitos establecidos en los artÃ\\xadculos 6.1 y 9 de este real decreto, en\\\\ncuanto al nÃºmero de unidades con que deben contar los centros.\\\\n2. Para estos centros se entenderÃ¡ por unidad escolar la agrupaciÃ³n de alumnos\\\\natendidos conjunta y simultÃ¡neamente por un profesor de manera ordinaria,\\\\nindependientemente del nivel al que pertenezcan.\\\\n3. A los efectos previstos en esta disposiciÃ³n, las Administraciones educativas\\\\ncompetentes adecuarÃ¡n los requisitos previstos en los tÃ\\xadtulos II y III de este real decreto a\\\\nlas especiales caracterÃ\\xadsticas y dimensiones de estos centros.\\\\ncve: BOE-A-2010-4132\\\\nBOE\\\\nBOLETÃ\\x8dN OFICIAL DEL ESTADO\\\\nNÃºm. 62\\\\nViernes 12 de marzo de 2010\\\\nSec. I. PÃ¡g. 24839\\\\nDisposiciÃ³n adicional cuarta. Centros docentes reconocidos por acuerdos internacionales.\\\\nLos requisitos de los centros docentes cuyo carÃ¡cter especÃ\\xadfico estÃ© reconocido por\\\\nacuerdos internacionales de carÃ¡cter bilateral podrÃ¡n ser adaptados por el Ministerio de\\\\nEducaciÃ³n.\\\\nDisposiciÃ³n adicional quinta. Centros acogidos al rÃ©gimen de conciertos.\\\\nLo dispuesto en el presente real decreto sobre nÃºmero mÃ¡ximo de alumnos por unidad\\\\nescolar debe entenderse sin perjuicio de la obligaciÃ³n de los centros acogidos al rÃ©gimen\\\\nde conciertos educativos de que la unidades concertadas tengan una relaciÃ³n media\\\\nalumnos/profesor por unidad escolar no inferior a la que determine la AdministraciÃ³n\\\\neducativa, teniendo en cuenta la existente para los centros pÃºblicos de la comarca,\\\\nmunicipio, o, en su caso, distrito en el que estÃ© situado el centro.\\\\nDisposiciÃ³n adicional sexta. InscripciÃ³n en Registro.\\\\nLos centros pÃºblicos y los centros privados autorizados serÃ¡n inscritos en un registro\\\\npÃºblico dependiente de la AdministraciÃ³n educativa competente, que deberÃ¡ dar traslado\\\\nde los asientos registrales al Ministerio de EducaciÃ³n, en el plazo mÃ¡ximo de un mes, de\\\\nacuerdo con el artÃ\\xadculo 13 de la Ley OrgÃ¡nica reguladora del Derecho a la EducaciÃ³n,\\\\ndesarrollado por el Real Decreto 276/2003, de 7 de marzo, por el que se regula el Registro\\\\nestatal de centros docentes no universitarios.\\\\nDisposiciÃ³n adicional sÃ©ptima. Centros sometidos al Derecho comÃºn.\\\\nEn aplicaciÃ³n de lo establecido en el artÃ\\xadculo 24.1 de la Ley OrgÃ¡nica 8/1985, de 3 de\\\\njulio, reguladora del Derecho a la EducaciÃ³n, los centros privados que impartan enseÃ±anzas\\\\nque no estÃ©n reguladas en la Ley OrgÃ¡nica 2/2006, de 3 de mayo, de EducaciÃ³n, que\\\\nestÃ¡n sometidos a las normas de derecho comÃºn, no podrÃ¡n utilizar ninguna de las\\\\ndenominaciones genÃ©ricas establecidas en dicha ley para los centros docentes, ni\\\\ncualesquiera otras que pudieran inducir a error o confusiÃ³n con aquellas.\\\\nDisposiciÃ³n adicional octava. Profesionales habilitados.\\\\n1. Los profesionales que a la fecha de entrada en vigor de este real decreto hubieran\\\\nsido habilitados para la docencia de la educaciÃ³n infantil, en ambos ciclos, de la educaciÃ³n\\\\nprimaria, de la educaciÃ³n secundaria obligatoria, del bachillerato, y de la formaciÃ³n\\\\nprofesional mantendrÃ¡n dicha habilitaciÃ³n.\\\\n2. AsÃ\\xad mismo, a partir de la entrada en vigor de este decreto, no podrÃ¡n iniciarse\\\\nprocedimientos de habilitaciÃ³n para los profesionales que carecen de la formaciÃ³n inicial\\\\nadecuada.\\\\nDisposiciÃ³n adicional novena.\\\\nReferencias genÃ©ricas.\\\\nTodas las referencias para las que en este real decreto se utiliza la forma de masculino\\\\ngenÃ©rico, deben entenderse aplicables, indistintamente, a mujeres y a hombres.\\\\nDisposiciÃ³n transitoria primera. Solicitudes de autorizaciÃ³n de nuevos centros.\\\\n1. Los centros docentes autorizados con anterioridad a la entrada en vigor del\\\\npresente real decreto se entienden autorizados para la imparticiÃ³n de las correspondientes\\\\nenseÃ±anzas.\\\\n2. Las solicitudes de autorizaciÃ³n de nuevos centros presentadas con posterioridad\\\\na la entrada en vigor del presente real decreto, deberÃ¡n cumplir los requisitos mÃ\\xadnimos\\\\naquÃ\\xad establecidos.\\\\n3. Los centros que a la entrada en vigor del presente real decreto tengan aprobado\\\\npor la AdministraciÃ³n educativa el proyecto de obras requerido para la autorizaciÃ³n del\\\\ncve: BOE-A-2010-4132\\\\nBOE\\\\nBOLETÃ\\x8dN OFICIAL DEL ESTADO\\\\nNÃºm. 62\\\\nViernes 12 de marzo de 2010\\\\nSec. I. PÃ¡g. 24840\\\\nmismo, se regirÃ¡n, en lo relacionado a las instalaciones, a la normativa en vigor en el\\\\nmomento de realizar dicha aprobaciÃ³n.\\\\nDisposiciÃ³n transitoria segunda. AcreditaciÃ³n de la habilitaciÃ³n para la docencia.\\\\nLas Administraciones educativas procederÃ¡n en el plazo de dos aÃ±os desde la entrada\\\\nen vigor de este real decreto, a la acreditaciÃ³n expresa del cumplimiento de los requisitos\\\\na los que se refiere el apartado primero de la disposiciÃ³n adicional octava.\\\\nDisposiciÃ³n transitoria tercera. Vigencia del Real Decreto 1004/1991, de 14 de junio, por\\\\nel que se establecen los requisitos mÃ\\xadnimos de los centros que impartan enseÃ±anzas\\\\nde rÃ©gimen general no universitarias.\\\\nSin perjuicio de lo establecido en la disposiciÃ³n derogatoria Ãºnica, lo dispuesto en los\\\\nartÃ\\xadculos 10 y 13 del Real Decreto 1004/1991, de 14 de junio, por el que se establecen los\\\\nrequisitos mÃ\\xadnimos de los centros que impartan enseÃ±anzas de rÃ©gimen general no\\\\nuniversitarias, en lo relativo a los requisitos mÃ\\xadnimos de instalaciones y ratios de los centros\\\\ndocentes que imparten el primer ciclo de la educaciÃ³n infantil, serÃ¡ de aplicaciÃ³n en tanto\\\\nque las Administraciones educativas no lo regulen en su Ã¡mbito de competencias.\\\\nDisposiciÃ³n derogatoria Ãºnica. DerogaciÃ³n normativa.\\\\n1. A la entrada en vigor de este real decreto quedarÃ¡ derogado el Real Decreto\\\\n1004/1991, de 14 de junio, por el que se establecen los requisitos mÃ\\xadnimos de los centros\\\\nque impartan enseÃ±anzas de rÃ©gimen general no universitarias, de acuerdo con lo\\\\nestablecido en la disposiciÃ³n transitoria tercera de este real decreto.\\\\n2. Quedan derogadas cuantas disposiciones de igual o inferior rango se opongan a\\\\nlo dispuesto en este real decreto.\\\\nDisposiciÃ³n final primera. TÃ\\xadtulo competencial.\\\\nEste real decreto tiene carÃ¡cter de norma bÃ¡sica y se dicta al amparo de lo dispuesto\\\\nen el artÃ\\xadculo 149.1.1.Â° sobre regulaciÃ³n de las condiciones bÃ¡sicas que garanticen la\\\\nigualdad de todos los espaÃ±oles en el ejercicio de los derechos y en el cumplimiento de los\\\\ndeberes constitucionales y 30.Âº de la ConstituciÃ³n que atribuye al Estado la competencia\\\\npara dictar normas bÃ¡sicas para el desarrollo del artÃ\\xadculo 27 de la ConstituciÃ³n, a fin de\\\\ngarantizar el cumplimiento de las obligaciones de los poderes pÃºblicos en esta materia.\\\\nDisposiciÃ³n final segunda. Desarrollo normativo.\\\\nCorresponde al Ministro de EducaciÃ³n y a los Ã³rganos competentes de las Comunidades\\\\nAutÃ³nomas, en el Ã¡mbito de sus competencias respectivas, dictar cuantas disposiciones\\\\nsean precisas para el desarrollo y ejecuciÃ³n de lo dispuesto en este real decreto.\\\\nDisposiciÃ³n final tercera. Entrada en vigor.\\\\nEl presente real decreto entrarÃ¡ en vigor el dÃ\\xada siguiente al de su publicaciÃ³n en el\\\\nÂ«BoletÃ\\xadn Oficial del EstadoÂ».\\\\nDado en Madrid, el 12 de febrero de 2010.\\\\nJUAN CARLOS R.\\\\nEl Ministro de EducaciÃ³n,\\\\nÃ\\x81NGEL GABILONDO PUJOL\\\\ncve: BOE-A-2010-4132\\\\nhttp://www.boe.es\\\\nBOLETÃ\\x8dN OFICIAL DEL ESTADO\\\\nD. L.: M-1/1958 - ISSN: 0212-033X\\\\n'"
      ]
     },
     "execution_count": 19,
     "metadata": {},
     "output_type": "execute_result"
    }
   ],
   "source": [
    "file_2 = open(\"boe.txt\", \"r\", encoding='utf8')\n",
    "lines_2 = file_2.readlines()\n",
    "\n",
    "\n",
    "df = pd.DataFrame(data=[lines,lines_2],columns=['Documento'])\n",
    "df['Documento'][1]"
   ]
  },
  {
   "cell_type": "code",
   "execution_count": 20,
   "id": "7db4108f",
   "metadata": {},
   "outputs": [
    {
     "data": {
      "text/plain": [
       "'BOE\\\\nBOLETÃ\\x8dN OFICIAL DEL ESTADO\\\\nNÃºm. 62\\\\nViernes 12 de marzo de 2010\\\\nSec. I. PÃ¡g. 24831\\\\nI. DISPOSICIONES GENERALES\\\\nMINISTERIO DE EDUCACIÃ“N\\\\n4132\\\\nReal Decreto 132/2010, de 12 de febrero, por el que se establecen los requisitos\\\\nmÃ\\xadnimos de los centros que impartan las enseÃ±anzas del segundo ciclo de la\\\\neducaciÃ³n infantil, la educaciÃ³n primaria y la educaciÃ³n secundaria.\\\\nLa Ley OrgÃ¡nica 8/1985, de 3 de julio, reguladora del Derecho a la EducaciÃ³n,\\\\nestablece, en su artÃ\\xadculo 14, que todos los centros docentes, independientemente de su\\\\ntitularidad, deberÃ¡n reunir unos requisitos mÃ\\xadnimos referidos a titulaciÃ³n acadÃ©mica del\\\\nprofesorado, relaciÃ³n numÃ©rica alumno-profesor, instalaciones docentes y deportivas, y\\\\nnÃºmero de puestos escolares, para impartir enseÃ±anzas con garantÃ\\xada de calidad. Por su\\\\nparte, el artÃ\\xadculo 23 de la misma ley condiciona la apertura y funcionamiento de los centros\\\\ndocentes privados al principio de autorizaciÃ³n administrativa que se concederÃ¡ siempre\\\\nque aquellos reÃºnan los requisitos mÃ\\xadnimos establecidos.\\\\nLa Ley OrgÃ¡nica 2/2006, de 3 de mayo, de EducaciÃ³n, incluye novedades en la\\\\ndistribuciÃ³n de competencias normativas en el primer ciclo de educaciÃ³n infantil, asÃ\\xad como\\\\nen la organizaciÃ³n de las enseÃ±anzas oficiales, que afectan, entre otros, a nuevas materias\\\\ny a los currÃ\\xadculos de las distintas etapas educativas. De ahÃ\\xad que sea necesario revisar la\\\\nnormativa bÃ¡sica que regula los requisitos mÃ\\xadnimos que deben reunir los centros docentes\\\\nque las impartan, y especialmente el Real Decreto 1004/1991, de 14 de junio, por el que\\\\nse establecen los requisitos mÃ\\xadnimos de los centros que impartan enseÃ±anzas de rÃ©gimen\\\\ngeneral no universitarias, que recobrÃ³ vigencia como consecuencia de la sentencia del\\\\nTribunal Supremo por la que se anulÃ³ el Real Decreto 1537/2003, de 5 de diciembre, por\\\\nel que se establecen los requisitos mÃ\\xadnimos de los centros que impartan enseÃ±anzas\\\\nescolares de rÃ©gimen general. En este sentido, la normativa bÃ¡sica relativa a los requisitos\\\\nde los centros docentes que imparten enseÃ±anzas reguladas en la Ley OrgÃ¡nica de\\\\nEducaciÃ³n deberÃ¡ constituir el denominador comÃºn que garantice la prestaciÃ³n del servicio\\\\neducativo en condiciones de calidad e igualdad para satisfacer el derecho constitucional a\\\\nla educaciÃ³n.\\\\nAdemÃ¡s de la habilitaciÃ³n expresa al Gobierno para que regule los requisitos mÃ\\xadnimos\\\\nde los centros docentes contenida en el artÃ\\xadculo 14 de la Ley OrgÃ¡nica 8/1985, reguladora\\\\ndel Derecho a la EducaciÃ³n, el rango reglamentario de esta norma estÃ¡ justificado por\\\\nresultar un complemento indispensable a la legislaciÃ³n educativa, asÃ\\xad como un complemento\\\\nnecesario para alcanzar el comÃºn denominador que persigue la normativa bÃ¡sica estatal,\\\\nya que una norma reglamentaria resulta el instrumento idÃ³neo dado el carÃ¡cter tÃ©cnico de\\\\nla regulaciÃ³n relativa a la titulaciÃ³n acadÃ©mica del profesorado, relaciÃ³n numÃ©rica alumno-profesor, y a las instalaciones docentes y deportivas de los centros docentes.\\\\nPor otra parte, la Ley 17/2009, de 23 de noviembre, sobre el libre acceso a las\\\\nactividades de servicios y su ejercicio, afecta a los requisitos a los que se somete la\\\\nprestaciÃ³n de servicios educativos de interÃ©s econÃ³mico general, en tanto que dichos\\\\nrequisitos deberÃ¡n tener carÃ¡cter reglado, ser claros e inequÃ\\xadvocos, objetivos e imparciales,\\\\ntransparentes, proporcionados al objetivo de interÃ©s general y darse a conocer con\\\\nantelaciÃ³n. En este sentido, se remite la regulaciÃ³n de los aspectos tÃ©cnicos relacionados\\\\ncon los requisitos que deben reunir las instalaciones docentes a lo establecido en el Real\\\\nDecreto 314/2006, de 17 de marzo, por el que se aprueba el CÃ³digo TÃ©cnico de EdificaciÃ³n,\\\\ndonde se establecen las normas tÃ©cnicas relativas a la seguridad estructural, la seguridad\\\\nde utilizaciÃ³n, la salubridad, la protecciÃ³n frente al ruido, el ahorro de energÃ\\xada y la seguridad\\\\nen caso de incendio, fijando, entre otros requisitos, una ocupaciÃ³n de 2 metros cuadrados\\\\npor persona en aulas infantiles, 1,5 metros cuadrados por persona en el resto de las aulas,\\\\ny 5 metros cuadrados por persona en los espacios diferentes a las aulas como laboratorios,\\\\ntalleres, gimnasios, salas de dibujo, etc.\\\\ncve: BOE-A-2010-4132\\\\nBOE\\\\nBOLETÃ\\x8dN OFICIAL DEL ESTADO\\\\nNÃºm. 62\\\\nViernes 12 de marzo de 2010\\\\nSec. I. PÃ¡g. 24832\\\\nPara la elaboraciÃ³n de este real decreto han sido consultadas las comunidades\\\\nautÃ³nomas en el seno de la Conferencia Sectorial de EducaciÃ³n y se ha recabado el\\\\ninforme previo del Consejo Escolar del Estado.\\\\nEn su virtud, a propuesta del Ministro de EducaciÃ³n, de acuerdo con el Consejo de\\\\nEstado, y previa deliberaciÃ³n del Consejo de Ministros en su reuniÃ³n del dÃ\\xada 12 de febrero\\\\nde 2010,\\\\nDISPONGO:\\\\nTÃ\\x8dTULO I\\\\nDisposiciones de carÃ¡cter general\\\\nArtÃ\\xadculo 1. Objeto.\\\\n1. Este real decreto tiene por objeto establecer los requisitos mÃ\\xadnimos que deben\\\\ncumplir los centros docentes que impartan las enseÃ±anzas de educaciÃ³n infantil de\\\\nsegundo ciclo, educaciÃ³n primaria, educaciÃ³n secundaria obligatoria, bachillerato y\\\\nformaciÃ³n profesional. Los requisitos mÃ\\xadnimos se referirÃ¡n a la titulaciÃ³n acadÃ©mica del\\\\nprofesorado, la relaciÃ³n numÃ©rica alumno-profesor, las instalaciones docentes y deportivas\\\\ny el nÃºmero de puestos escolares.\\\\n2. Igualmente, este real decreto, establece los requisitos mÃ\\xadnimos de titulaciÃ³n\\\\nacadÃ©mica del profesorado del primer ciclo de la educaciÃ³n infantil.\\\\nArtÃ\\xadculo 2. DenominaciÃ³n de los centros docentes.\\\\nLos centros docentes tendrÃ¡n la denominaciÃ³n genÃ©rica que establecen los artÃ\\xadculos 111\\\\ny 114 de la Ley OrgÃ¡nica 2/2006, de 3 de mayo, de EducaciÃ³n.\\\\nArtÃ\\xadculo 3. Requisitos de instalaciones comunes a todos los centros.\\\\n1. Todos los centros docentes que impartan las enseÃ±anzas de educaciÃ³n\\\\ninfantil de segundo ciclo, educaciÃ³n primaria, educaciÃ³n secundaria obligatoria,\\\\nbachillerato y formaciÃ³n profesional se ajustarÃ¡n a lo establecido en la Ley OrgÃ¡nica\\\\n8/1985, de 3 de julio, reguladora del Derecho a la EducaciÃ³n, en la Ley OrgÃ¡nica\\\\n2/2006, de EducaciÃ³n y en las normas que las desarrollen, asÃ\\xad como a lo dispuesto\\\\nen el Real Decreto 314/2006, de 17 de marzo, por el que se aprueba el CÃ³digo\\\\nTÃ©cnico de EdificaciÃ³n.\\\\n2. Los centros docentes mencionados en el apartado anterior deberÃ¡n cumplir,\\\\ncomo mÃ\\xadnimo, los siguientes requisitos relativos a las instalaciones:\\\\na) Situarse en edificios independientes, destinados exclusivamente a uso escolar, si\\\\nbien sus instalaciones podrÃ¡n ser utilizadas fuera del horario escolar para la realizaciÃ³n de\\\\notras actividades de carÃ¡cter educativo, cultural o deportivo. En el caso de centros docentes\\\\nque impartan el segundo ciclo de educaciÃ³n infantil, tendrÃ¡n, ademÃ¡s, acceso independiente\\\\ndel resto de instalaciones.\\\\nb) Reunir las condiciones de seguridad estructural, de seguridad en caso de incendio,\\\\nde seguridad de utilizaciÃ³n, de salubridad, de protecciÃ³n frente al ruido y de ahorro de\\\\nenergÃ\\xada que seÃ±ala la legislaciÃ³n vigente. Asimismo, deberÃ¡n cumplir los requisitos de\\\\nprotecciÃ³n laboral establecidos en la legislaciÃ³n vigente.\\\\nc) Tener, en los espacios en los que se desarrolle la prÃ¡ctica docente ventilaciÃ³n e\\\\niluminaciÃ³n natural y directa desde el exterior.\\\\nd) Disponer de las condiciones de accesibilidad y supresiÃ³n de barreras exigidas por\\\\nla legislaciÃ³n relativa a las condiciones bÃ¡sicas de accesibilidad universal y no discriminaciÃ³n\\\\nde personas con discapacidad, sin perjuicio de los ajustes razonables que deban\\\\nadoptarse.\\\\ncve: BOE-A-2010-4132\\\\nBOE\\\\nBOLETÃ\\x8dN OFICIAL DEL ESTADO\\\\nNÃºm. 62\\\\nViernes 12 de marzo de 2010\\\\nSec. I. PÃ¡g. 24833\\\\ne) Disponer como mÃ\\xadnimo de los siguientes espacios e instalaciones:\\\\nDespachos de direcciÃ³n, de actividades de coordinaciÃ³n y de orientaciÃ³n.\\\\nEspacios destinados a la administraciÃ³n.\\\\nSala de profesores adecuada al nÃºmero de profesores.\\\\nEspacios apropiados para las reuniones de las asociaciones de alumnos y de madres\\\\ny padres de alumnos, en el caso de centros sostenidos con fondos pÃºblicos.\\\\nAseos y servicios higiÃ©nico-sanitarios adecuados al nÃºmero de puestos escolares, a\\\\nlas necesidades del alumnado y del personal educativo del centro, asÃ\\xad como aseos y\\\\nservicios higiÃ©nico-sanitarios adaptados para personas con discapacidad en el nÃºmero,\\\\nproporciÃ³n y condiciones de uso funcional que la legislaciÃ³n aplicable en materia de\\\\naccesibilidad establece.\\\\nEspacios necesarios para impartir los apoyos al alumnado con necesidades especÃ\\xadficas\\\\nde apoyo educativo.\\\\n3. Los centros docentes que impartan la educaciÃ³n primaria, la educaciÃ³n secundaria\\\\nobligatoria y/o el bachillerato deberÃ¡n contar, ademÃ¡s con:\\\\nUn patio de recreo, parcialmente cubierto, susceptible de ser utilizado como pista\\\\npolideportiva, con una superficie adecuada al nÃºmero de puestos escolares. En ningÃºn\\\\ncaso serÃ¡ inferior 900 metros cuadrados.\\\\nBiblioteca, con una superficie, como mÃ\\xadnimo, de 45 metros cuadrados en los centros\\\\nque impartan la educaciÃ³n primaria, y 75 metros cuadrados en los centros que impartan la\\\\neducaciÃ³n secundaria obligatoria o el bachillerato.\\\\nUn gimnasio con una superficie adecuada al nÃºmero de puestos escolares.\\\\nTodos los espacios en los que se desarrollen acciones docentes, asÃ\\xad como la biblioteca,\\\\ncontarÃ¡n con acceso a las tecnologÃ\\xadas de la informaciÃ³n y la comunicaciÃ³n en cantidad y\\\\ncalidad adecuadas al nÃºmero de puestos escolares, garantizando la accesibilidad a los\\\\nentornos digitales del alumnado con capacidades diferentes.\\\\n4. Los requisitos de instalaciones podrÃ¡n flexibilizarse de acuerdo con lo establecido\\\\nen el artÃ\\xadculo 20 y la disposiciÃ³n adicional tercera de este real decreto.\\\\nArtÃ\\xadculo 4. Puestos escolares.\\\\n1. El nÃºmero de puestos escolares de los centros se fijarÃ¡ en las correspondientes\\\\ndisposiciones por las que se autorice su apertura y funcionamiento, teniendo en cuenta el\\\\nnÃºmero mÃ¡ximo de alumnos por unidad escolar y el nÃºmero total de unidades autorizadas\\\\nen funciÃ³n de las instalaciones y condiciones materiales establecidas en este real decreto.\\\\n2. A efectos de lo dispuesto en este real decreto, se entenderÃ¡ por nÃºmero de puestos\\\\nescolares el nÃºmero de alumnos que un centro puede atender simultÃ¡neamente, de forma\\\\nque se garanticen las condiciones de calidad exigibles para la imparticiÃ³n de la\\\\nenseÃ±anza.\\\\nTÃ\\x8dTULO 11\\\\nDe los centros de educaciÃ³n infantil\\\\nArtÃ\\xadculo 5.\\\\nCondiciones generales.\\\\n1. Los centros podrÃ¡n ofrecer el primer ciclo de esta etapa educativa, el segundo, o\\\\nambos.\\\\n2. Los centros que ofrecen el primer ciclo de educaciÃ³n infantil se regirÃ¡n por lo\\\\ndispuesto en la regulaciÃ³n especÃ\\xadfica establecida por la AdministraciÃ³n educativa\\\\ncompetente, de acuerdo con el artÃ\\xadculo 14.7 de la Ley OrgÃ¡nica de EducaciÃ³n, en lo relativo\\\\na la relaciÃ³n numÃ©rica alumnado-profesor, a las instalaciones y al nÃºmero de puestos\\\\nescolares.\\\\ncve: BOE-A-2010-4132\\\\nBOE\\\\nBOLETÃ\\x8dN OFICIAL DEL ESTADO\\\\nNÃºm. 62\\\\nViernes 12 de marzo de 2010\\\\nSec. I. PÃ¡g. 24834\\\\nArtÃ\\xadculo 6. Instalaciones y condiciones materiales de los centros que ofrecen el segundo\\\\nciclo de la educaciÃ³n infantil.\\\\n1. Los centros que ofrecen el segundo ciclo de la educaciÃ³n infantil deberÃ¡n contar\\\\ncon un mÃ\\xadnimo de tres unidades, sin perjuicio de lo establecido en la disposiciÃ³n adicional\\\\ntercera del presente real decreto.\\\\n2. Estos centros deberÃ¡n contar, como mÃ\\xadnimo, con las siguientes instalaciones y\\\\ncondiciones materiales:\\\\na) Un aula por cada unidad con una superficie adecuada al nÃºmero de puestos\\\\nescolares autorizados y en todo caso, con un mÃ\\xadnimo de 2 metros cuadrados por puesto\\\\nescolar.\\\\nb) Una sala polivalente de 30 metros cuadrados.\\\\nc) Un patio de juegos, de uso exclusivo del centro, con una superficie adecuada al\\\\nnÃºmero de puestos escolares autorizados y nunca inferior a 150 metros cuadrados para\\\\ncada seis unidades o fracciÃ³n, con horario de utilizaciÃ³n diferenciado en el caso de que se\\\\nescolaricen alumnos de otras etapas educativas.\\\\nArtÃ\\xadculo 7. RelaciÃ³n alumnos por unidad.\\\\nLos centros docentes que ofrecen el segundo ciclo de la educaciÃ³n infantil tendrÃ¡n,\\\\ncomo mÃ¡ximo, 25 alumnos por unidad escolar.\\\\nArtÃ\\xadculo 8. Requisitos de titulaciÃ³n de los profesionales que atienden la educaciÃ³n\\\\ninfantil.\\\\n1. La atenciÃ³n educativa en el primer ciclo de educaciÃ³n infantil correrÃ¡ a cargo de\\\\nprofesionales que posean el tÃ\\xadtulo de Grado que habilite para el ejercicio de la profesiÃ³n de\\\\nmaestro de educaciÃ³n infantil, el tÃ\\xadtulo de Maestro con la especialidad de educaciÃ³n infantil,\\\\no el tÃ\\xadtulo de TÃ©cnico Superior en EducaciÃ³n Infantil regulado en el Real Decreto 1394/2007,\\\\nde 29 de octubre.\\\\n2. Las Administraciones educativas garantizarÃ¡n la presencia en los centros a los\\\\nque se refiere el anterior apartado, del nÃºmero necesario de graduados en el tÃ\\xadtulo que\\\\nhabilite para el ejercicio de la profesiÃ³n de maestro de educaciÃ³n infantil, o de maestros\\\\ncon la especialidad en educaciÃ³n infantil para garantizar la elaboraciÃ³n, el seguimiento y\\\\nla evaluaciÃ³n de la propuesta pedagÃ³gica a la que se refiere el artÃ\\xadculo 14.2 de la Ley\\\\nOrgÃ¡nica 2/2006, de 3 de mayo, de educaciÃ³n.\\\\n3. El segundo ciclo de educaciÃ³n infantil correrÃ¡ a cargo de profesionales que posean\\\\nel tÃ\\xadtulo de Grado en EducaciÃ³n infantil, o el tÃ\\xadtulo de Maestro con la especialidad de\\\\neducaciÃ³n infantil. Cuando las enseÃ±anzas impartidas lo requieran, el grupo podrÃ¡ ser\\\\natendido por maestros de otras especialidades.\\\\n4. Los centros que oferten el segundo ciclo de la educaciÃ³n infantil deberÃ¡n contar,\\\\ncomo mÃ\\xadnimo, con un graduado en educaciÃ³n infantil o un maestro especialista en\\\\neducaciÃ³n infantil por cada unidad.\\\\n5. Los centros en los que se impartan los ciclos primero y segundo deberÃ¡n contar\\\\ncon el personal cualificado al que se refiere el presente artÃ\\xadculo de este real decreto.\\\\n6. Los centros de educaciÃ³n infantil que escolaricen a niÃ±os que presenten necesidad\\\\nespecÃ\\xadfica de apoyo educativo contarÃ¡n, en su caso, con los recursos humanos y materiales\\\\nde apoyo que determine la AdministraciÃ³n educativa competente, necesarios para\\\\ngarantizar la correcta atenciÃ³n de este alumnado.\\\\nLos recursos humanos a que se refiere el pÃ¡rrafo anterior deberÃ¡n disponer de la\\\\ntitulaciÃ³n o cualificaciÃ³n adecuada.\\\\ncve: BOE-A-2010-4132\\\\nBOE\\\\nBOLETÃ\\x8dN OFICIAL DEL ESTADO\\\\nNÃºm. 62\\\\nViernes 12 de marzo de 2010\\\\nSec. I. PÃ¡g. 24835\\\\nTÃ\\x8dTULO III\\\\nDe los centros de educaciÃ³n primaria\\\\nArtÃ\\xadculo 9. Condiciones generales.\\\\nLos centros de educaciÃ³n primaria tendrÃ¡n, como mÃ\\xadnimo, una unidad por cada curso,\\\\nsalvo lo establecido en la disposiciÃ³n adicional tercera del presente real decreto.\\\\nArtÃ\\xadculo 10. Instalaciones y condiciones materiales de los centros.\\\\nLos centros de educaciÃ³n primaria deberÃ¡n contar, como mÃ\\xadnimo, con las siguientes\\\\ninstalaciones y condiciones materiales:\\\\na) Un aula por cada unidad con una superficie adecuada al nÃºmero de alumnos\\\\nescolarizados autorizados y en todo caso, con un mÃ\\xadnimo de 1,5 metros cuadrados por\\\\npuesto escolar.\\\\nb) Un spacio por cada seis unidades para desdoblamiento de grupos y otro para\\\\nactividades de apoyo y refuerzo pedagÃ³gico.\\\\nc) Una sala polivalente, con una superficie adecuada al nÃºmero de puestos escolares\\\\nautorizados, que podrÃ¡ compartimentarse con mamparas mÃ³viles.\\\\nArtÃ\\xadculo 11. RelaciÃ³n de alumnos por unidad.\\\\nLos centros de educaciÃ³n primaria tendrÃ¡n, como mÃ¡ximo, 25 alumnos por unidad\\\\nescolar.\\\\nArtÃ\\xadculo 12. Requisitos de titulaciÃ³n acadÃ©mica del profesorado que imparte educaciÃ³n\\\\nprimaria.\\\\n1. Los centros de educaciÃ³n primaria dispondrÃ¡n, como mÃ\\xadnimo, de un maestro por\\\\ncada grupo de alumnos y garantizarÃ¡n, en todo caso, la existencia de graduados en\\\\neducaciÃ³n primaria o maestros con la cualificaciÃ³n adecuada para impartir la enseÃ±anza\\\\nde la mÃºsica, la educaciÃ³n fÃ\\xadsica y las lenguas extranjeras.\\\\n2. AdemÃ¡s del personal docente que establecen los apartados anteriores, los centros\\\\nde educaciÃ³n primaria que escolaricen a niÃ±os que presenten necesidad especÃ\\xadfica de\\\\napoyo educativo contarÃ¡n, en su caso, con los recursos humanos y materiales de apoyo\\\\nque determine la AdministraciÃ³n educativa competente, necesarios para garantizar la\\\\ncorrecta atenciÃ³n de este alumnado.\\\\nLos recursos humanos a que se refiere el pÃ¡rrafo anterior deberÃ¡n disponer de la\\\\ntitulaciÃ³n o cualificaciÃ³n adecuada.\\\\nTÃ\\x8dTULO IV\\\\nDe los centros de educaciÃ³n secundaria\\\\nArtÃ\\xadculo 13. Condiciones generales.\\\\n1. En los centros de educaciÃ³n secundaria podrÃ¡ impartirse la educaciÃ³n secundaria\\\\nobligatoria, el bachillerato y la formaciÃ³n profesional.\\\\n2. En los centros de educaciÃ³n secundaria que ofrezcan las enseÃ±anzas de educaciÃ³n\\\\nsecundaria obligatoria se deberÃ¡n impartir los cuatro cursos de que consta esta etapa\\\\neducativa con sujeciÃ³n a la ordenaciÃ³n acadÃ©mica en vigor. Dichos centros deberÃ¡n tener,\\\\ncomo mÃ\\xadnimo, una unidad para cada curso y disponer de las instalaciones y condiciones\\\\nmateriales recogidas en el artÃ\\xadculo siguiente.\\\\n3. Los centros de educaciÃ³n secundaria en los que se imparta el bachillerato\\\\nofrecerÃ¡n, al menos, dos de las modalidades de las previstas en el artÃ\\xadculo 34.1 de la Ley\\\\nOrgÃ¡nica 2/2006, de 3 de mayo, de EducaciÃ³n. Al respecto, se entenderÃ¡n que imparten\\\\ncve: BOE-A-2010-4132\\\\nBOE\\\\nBOLETÃ\\x8dN OFICIAL DEL ESTADO\\\\nNÃºm. 62\\\\nViernes 12 de marzo de 2010\\\\nSec. I. PÃ¡g. 24836\\\\nla modalidad de artes cuando oferten al menos una de las vÃ\\xadas previstas en el artÃ\\xadculo 5.3\\\\ndel Real Decreto 1467/2007, de 2 de noviembre, por el que se establece la estructura del\\\\nbachillerato y se fijan sus enseÃ±anzas mÃ\\xadnimas.\\\\n4. El requisito anterior no serÃ¡ de aplicaciÃ³n para los centros de educaciÃ³n secundaria\\\\nen los que se impartan las dos vÃ\\xadas de la modalidad de artes.\\\\n5. Los centros docentes que imparten tÃ\\xadtulos de FormaciÃ³n profesional estarÃ¡n\\\\nsometidos a los requisitos mÃ\\xadnimos que establece este real decreto, asÃ\\xad como los\\\\nestablecidos en el Real Decreto 1538/2006, de 15 de diciembre, por el que se establece la\\\\nordenaciÃ³n general de la formaciÃ³n profesional del sistema educativo, y la normativa que\\\\nregule los tÃ\\xadtulos de tÃ©cnico y tÃ\\xadtulos de tÃ©cnico superior de formaciÃ³n profesional.\\\\nArtÃ\\xadculo 14. Instalaciones y condiciones materiales de los centros que imparten educaciÃ³n\\\\nsecundaria obligatoria.\\\\nLos centros en los que se imparta educaciÃ³n secundaria obligatoria dispondrÃ¡n, como\\\\nmÃ\\xadnimo, de las siguientes instalaciones:\\\\na) Un aula por cada unidad con una superficie adecuada al nÃºmero de alumnos\\\\nescolarizados autorizados y en todo caso, con un mÃ\\xadnimo de 1,5 metros cuadrados por\\\\npuesto escolar.\\\\nb) Por cada 12 unidades o fracciÃ³n, un aula taller para tecnologÃ\\xadas y dos aulas para\\\\nlas actividades relacionadas con las materias de mÃºsica y educaciÃ³n plÃ¡stica y visual\\\\nrespectivamente.\\\\nc) Al menos un laboratorio de Ciencias Experimentales por cada 12 unidades o\\\\nfracciÃ³n.\\\\nd) Un espacio por cada ocho unidades para desdoblamiento de grupos y otro para\\\\nactividades de apoyo y refuerzo pedagÃ³gico.\\\\nArtÃ\\xadculo 15. Instalaciones y condiciones materiales de los centros que imparten\\\\nbachillerato.\\\\n1. Los centros en los que se imparta bachillerato deberÃ¡n disponer, como mÃ\\xadnimo, de\\\\nun aula por cada unidad con una superficie adecuada al nÃºmero de alumnos escolarizados\\\\ny en todo caso, con un mÃ\\xadnimo de 1,5 metros cuadrados por puesto escolar.\\\\n2. Un espacio por cada cuatro unidades para desdoblamiento de grupos y otro para\\\\nactividades de apoyo y refuerzo pedagÃ³gico.\\\\n3. En funciÃ³n de las modalidades del bachillerato impartidas, los centros deberÃ¡n\\\\ndisponer, asimismo, de las instalaciones siguientes:\\\\na) Para la modalidad de artes:\\\\nDos aulas diferenciadas dotadas de las instalaciones adecuadas para la enseÃ±anza de\\\\nlas materias de modalidad cuando se imparta la vÃ\\xada de artes plÃ¡sticas, imagen y diseÃ±o.\\\\nUn aula de mÃºsica cuando se imparta la vÃ\\xada de artes escÃ©nicas, mÃºsica y danza.\\\\nb) Para la modalidad de Ciencias y TecnologÃ\\xada:\\\\nTres laboratorios diferenciados de FÃ\\xadsica, QuÃ\\xadmica y Ciencias.\\\\nUn aula de dibujo.\\\\nUn aula de TecnologÃ\\xada.\\\\nArtÃ\\xadculo 16. RelaciÃ³n de alumnos por unidad.\\\\nLos centros de educaciÃ³n secundaria tendrÃ¡n, como mÃ¡ximo, 30 alumnos por unidad\\\\nescolar en educaciÃ³n secundaria obligatoria y de 35 en bachillerato.\\\\ncve: BOE-A-2010-4132\\\\nBOE\\\\nBOLETÃ\\x8dN OFICIAL DEL ESTADO\\\\nNÃºm. 62\\\\nViernes 12 de marzo de 2010\\\\nSec. I. PÃ¡g. 24837\\\\nArtÃ\\xadculo 17. Profesionales que atienden la educaciÃ³n secundaria obligatoria y el\\\\nbachillerato.\\\\n1. Para impartir las enseÃ±anzas de educaciÃ³n secundaria obligatoria y de bachillerato\\\\nserÃ¡ necesario tener el tÃ\\xadtulo Graduado, Licenciado, Ingeniero o Arquitecto, ademÃ¡s del\\\\nMÃ¡ster que habilita para el ejercicio de las profesiones de profesor de educaciÃ³n secundaria\\\\nobligatoria, bachillerato, formaciÃ³n profesional y enseÃ±anzas de idiomas.\\\\n2. Los profesores de la educaciÃ³n secundaria deberÃ¡n, asimismo, acreditar la\\\\ncualificaciÃ³n especÃ\\xadfica para impartir las Ã¡reas y materias respectivas.\\\\nArtÃ\\xadculo 18. NÃºmero mÃ\\xadnimo de profesores de los centros que ofrecen la educaciÃ³n\\\\nsecundaria obligatoria y el bachillerato.\\\\n1. El nÃºmero mÃ\\xadnimo de profesores en los centros de educaciÃ³n secundaria serÃ¡ el\\\\nnecesario para cubrir el horario que se establezca en los distintos programas y planes de\\\\nestudio autorizados.\\\\n2. Los centros que escolaricen alumnos con necesidad especÃ\\xadfica de apoyo educativo\\\\ncontarÃ¡n ademÃ¡s, con el personal que en su caso determine la AdministraciÃ³n educativa\\\\ncompetente. Este personal deberÃ¡ estar en posesiÃ³n de la titulaciÃ³n o cualificaciÃ³n\\\\nadecuada.\\\\nArtÃ\\xadculo 19. Requisitos de centros que ofrecen los Programas de CualificaciÃ³n Profesional\\\\nInicial.\\\\n1. La imparticiÃ³n de los mÃ³dulos especÃ\\xadficos a que se refiere el artÃ\\xadculo 30.3, letra a)\\\\ny b), de la Ley OrgÃ¡nica de EducaciÃ³n, requerirÃ¡ disponer de los espacios y equipamientos\\\\nque para cada uno de ellos determine la AdministraciÃ³n educativa competente.\\\\n2. La imparticiÃ³n de los mÃ³dulos voluntarios al que se refiere el artÃ\\xadculo 30.3 letra c)\\\\nde la Ley OrgÃ¡nica de EducaciÃ³n, requerirÃ¡ disponer, al menos, de los mismos requisitos\\\\nexigidos para la autorizaciÃ³n de centros de formaciÃ³n de adultos que imparten la educaciÃ³n\\\\nsecundaria obligatoria.\\\\nArtÃ\\xadculo 20. FlexibilizaciÃ³n de los requisitos de instalaciones para los centros docentes\\\\nque impartan distintas enseÃ±anzas en el mismo edificio o recinto escolar.\\\\n1. En el caso de centros situados en el mismo edificio o recinto escolar, el patio de\\\\nrecreo y la sala polivalente de los centros de educaciÃ³n primaria cubren las exigencias\\\\ncorrespondientes de los centros de educaciÃ³n infantil, siempre que se garantice, para los\\\\nalumnos de educaciÃ³n infantil el uso de dicha dependencia en horario independiente, salvo\\\\nque se trate de centros que agrupen alumnos de distintas etapas en las mismas\\\\nunidades.\\\\nAsimismo, el despacho de direcciÃ³n, los espacios destinados a la administraciÃ³n y la\\\\nsala de profesores de los centros de educaciÃ³n primaria cubren las exigencias de estas\\\\ninstalaciones en educaciÃ³n infantil.\\\\n2. En el caso de centros de educaciÃ³n primaria y de educaciÃ³n secundaria obligatoria\\\\nsituados en el mismo edificio o recinto escolar, se considerarÃ¡n instalaciones comunes las\\\\nsiguientes:\\\\na) La biblioteca.\\\\nb) El gimnasio.\\\\nc) El patio de recreo.\\\\nd) Los despachos de direcciÃ³n, los espacios destinados a la administraciÃ³n y la sala\\\\nde profesores.\\\\ne) En los centros con hasta doce unidades de educaciÃ³n primaria y hasta ocho\\\\nunidades de educaciÃ³n secundaria obligatoria, el aula taller para tecnologÃ\\xadas y las aulas de\\\\nmÃºsica y educaciÃ³n plÃ¡stica y visual cubren la exigencia de la sala polivalente de educaciÃ³n\\\\nprimaria.\\\\ncve: BOE-A-2010-4132\\\\nBOE\\\\nBOLETÃ\\x8dN OFICIAL DEL ESTADO\\\\nNÃºm. 62\\\\nViernes 12 de marzo de 2010\\\\nSec. I. PÃ¡g. 24838\\\\n3. En el caso de centros que impartan educaciÃ³n secundaria obligatoria y bachillerato,\\\\ndeberÃ¡n reunir las condiciones que se especifican en los artÃ\\xadculos 14 y 15 de este real\\\\ndecreto, con las siguientes salvedades:\\\\na) El gimnasio, la biblioteca, el patio de recreo, los espacios destinados a la\\\\nadministraciÃ³n, los despachos y la sala de profesores se considerarÃ¡n instalaciones\\\\ncomunes.\\\\nb) Una de las aulas diferenciadas a las que hace referencia el artÃ\\xadculo 15.2\\\\napartado a) para la enseÃ±anza de las materias de bachillerato de la modalidad de artes,\\\\nen la vÃ\\xada de artes plÃ¡sticas, imagen y diseÃ±o, cubre la exigencia del aula de dibujo de la\\\\nmodalidad de ciencias y tecnologÃ\\xada y viceversa. Asimismo cubre la exigencia del aula de\\\\neducaciÃ³n plÃ¡stica y visual para la educaciÃ³n secundaria obligatoria.\\\\nc) El aula de mÃºsica para el bachillerato de artes en la vÃ\\xada de artes escÃ©nicas, mÃºsica\\\\ny danza, cubre la exigencia del aula de mÃºsica para la educaciÃ³n secundaria obligatoria.\\\\nd) Los laboratorios para el bachillerato de la modalidad de ciencias y tecnologÃ\\xada\\\\ncubren la exigencia del laboratorio de ciencias experimentales para la educaciÃ³n secundaria\\\\nobligatoria. Del mismo modo, el aula de tecnologÃ\\xada para el bachillerato cubre la exigencia\\\\ndel aula taller de tecnologÃ\\xadas para la educaciÃ³n secundaria obligatoria.\\\\n4. En los centros docentes que impartan educaciÃ³n secundaria obligatoria o\\\\nbachillerato y formaciÃ³n profesional podrÃ¡n disponer de recursos humanos e instalaciones\\\\ncomunes. A estos efectos, se consideran instalaciones comunes aquellas que se destinen\\\\na usos similares en funciÃ³n del tiempo de utilizaciÃ³n de los espacios respectivos, previstos\\\\npara cada una de las enseÃ±anzas.\\\\nDisposiciÃ³n adicional primera. Centros que ofrecen la educaciÃ³n de personas adultas.\\\\n1. Los centros creados o autorizados al amparo de lo dispuesto en este real decreto\\\\npodrÃ¡n ser autorizados para impartir las correspondientes enseÃ±anzas a personas adultas,\\\\nde acuerdo con los programas que al efecto se establezcan, si de ello no resulta menoscabo\\\\npara las enseÃ±anzas cursadas por los alumnos escolarizados en el centro, especialmente\\\\nen cuanto a su rÃ©gimen horario.\\\\n2. Los centros especÃ\\xadficos de educaciÃ³n de personas adultas que impartan la\\\\neducaciÃ³n secundaria obligatoria y/o el bachillerato se rigen por lo dispuesto en este real\\\\ndecreto en lo relativo a las instalaciones y la titulaciÃ³n de los docentes. Los requisitos de\\\\ninstalaciones se adecuarÃ¡n a la organizaciÃ³n especÃ\\xadfica de las enseÃ±anzas de adultos.\\\\nDisposiciÃ³n adicional segunda. Centros de educaciÃ³n especial.\\\\nLas Administraciones educativas competentes adaptarÃ¡n lo dispuesto en este real\\\\ndecreto a los centros de educaciÃ³n especial que ofrecen enseÃ±anzas dirigidas a alumnos\\\\ncon necesidades educativas especiales que no puedan ser atendidas en el marco de las\\\\nmedidas de atenciÃ³n a la diversidad en los centros ordinarios.\\\\nDisposiciÃ³n adicional tercera. Centros que atiendan a poblaciones de especiales\\\\ncaracterÃ\\xadsticas sociodemogrÃ¡ficas.\\\\n1. Los centros de educaciÃ³n infantil y de educaciÃ³n primaria que atiendan a\\\\npoblaciones de especiales caracterÃ\\xadsticas sociodemogrÃ¡ficas o escolares quedan\\\\nexceptuados de los requisitos establecidos en los artÃ\\xadculos 6.1 y 9 de este real decreto, en\\\\ncuanto al nÃºmero de unidades con que deben contar los centros.\\\\n2. Para estos centros se entenderÃ¡ por unidad escolar la agrupaciÃ³n de alumnos\\\\natendidos conjunta y simultÃ¡neamente por un profesor de manera ordinaria,\\\\nindependientemente del nivel al que pertenezcan.\\\\n3. A los efectos previstos en esta disposiciÃ³n, las Administraciones educativas\\\\ncompetentes adecuarÃ¡n los requisitos previstos en los tÃ\\xadtulos II y III de este real decreto a\\\\nlas especiales caracterÃ\\xadsticas y dimensiones de estos centros.\\\\ncve: BOE-A-2010-4132\\\\nBOE\\\\nBOLETÃ\\x8dN OFICIAL DEL ESTADO\\\\nNÃºm. 62\\\\nViernes 12 de marzo de 2010\\\\nSec. I. PÃ¡g. 24839\\\\nDisposiciÃ³n adicional cuarta. Centros docentes reconocidos por acuerdos internacionales.\\\\nLos requisitos de los centros docentes cuyo carÃ¡cter especÃ\\xadfico estÃ© reconocido por\\\\nacuerdos internacionales de carÃ¡cter bilateral podrÃ¡n ser adaptados por el Ministerio de\\\\nEducaciÃ³n.\\\\nDisposiciÃ³n adicional quinta. Centros acogidos al rÃ©gimen de conciertos.\\\\nLo dispuesto en el presente real decreto sobre nÃºmero mÃ¡ximo de alumnos por unidad\\\\nescolar debe entenderse sin perjuicio de la obligaciÃ³n de los centros acogidos al rÃ©gimen\\\\nde conciertos educativos de que la unidades concertadas tengan una relaciÃ³n media\\\\nalumnos/profesor por unidad escolar no inferior a la que determine la AdministraciÃ³n\\\\neducativa, teniendo en cuenta la existente para los centros pÃºblicos de la comarca,\\\\nmunicipio, o, en su caso, distrito en el que estÃ© situado el centro.\\\\nDisposiciÃ³n adicional sexta. InscripciÃ³n en Registro.\\\\nLos centros pÃºblicos y los centros privados autorizados serÃ¡n inscritos en un registro\\\\npÃºblico dependiente de la AdministraciÃ³n educativa competente, que deberÃ¡ dar traslado\\\\nde los asientos registrales al Ministerio de EducaciÃ³n, en el plazo mÃ¡ximo de un mes, de\\\\nacuerdo con el artÃ\\xadculo 13 de la Ley OrgÃ¡nica reguladora del Derecho a la EducaciÃ³n,\\\\ndesarrollado por el Real Decreto 276/2003, de 7 de marzo, por el que se regula el Registro\\\\nestatal de centros docentes no universitarios.\\\\nDisposiciÃ³n adicional sÃ©ptima. Centros sometidos al Derecho comÃºn.\\\\nEn aplicaciÃ³n de lo establecido en el artÃ\\xadculo 24.1 de la Ley OrgÃ¡nica 8/1985, de 3 de\\\\njulio, reguladora del Derecho a la EducaciÃ³n, los centros privados que impartan enseÃ±anzas\\\\nque no estÃ©n reguladas en la Ley OrgÃ¡nica 2/2006, de 3 de mayo, de EducaciÃ³n, que\\\\nestÃ¡n sometidos a las normas de derecho comÃºn, no podrÃ¡n utilizar ninguna de las\\\\ndenominaciones genÃ©ricas establecidas en dicha ley para los centros docentes, ni\\\\ncualesquiera otras que pudieran inducir a error o confusiÃ³n con aquellas.\\\\nDisposiciÃ³n adicional octava. Profesionales habilitados.\\\\n1. Los profesionales que a la fecha de entrada en vigor de este real decreto hubieran\\\\nsido habilitados para la docencia de la educaciÃ³n infantil, en ambos ciclos, de la educaciÃ³n\\\\nprimaria, de la educaciÃ³n secundaria obligatoria, del bachillerato, y de la formaciÃ³n\\\\nprofesional mantendrÃ¡n dicha habilitaciÃ³n.\\\\n2. AsÃ\\xad mismo, a partir de la entrada en vigor de este decreto, no podrÃ¡n iniciarse\\\\nprocedimientos de habilitaciÃ³n para los profesionales que carecen de la formaciÃ³n inicial\\\\nadecuada.\\\\nDisposiciÃ³n adicional novena.\\\\nReferencias genÃ©ricas.\\\\nTodas las referencias para las que en este real decreto se utiliza la forma de masculino\\\\ngenÃ©rico, deben entenderse aplicables, indistintamente, a mujeres y a hombres.\\\\nDisposiciÃ³n transitoria primera. Solicitudes de autorizaciÃ³n de nuevos centros.\\\\n1. Los centros docentes autorizados con anterioridad a la entrada en vigor del\\\\npresente real decreto se entienden autorizados para la imparticiÃ³n de las correspondientes\\\\nenseÃ±anzas.\\\\n2. Las solicitudes de autorizaciÃ³n de nuevos centros presentadas con posterioridad\\\\na la entrada en vigor del presente real decreto, deberÃ¡n cumplir los requisitos mÃ\\xadnimos\\\\naquÃ\\xad establecidos.\\\\n3. Los centros que a la entrada en vigor del presente real decreto tengan aprobado\\\\npor la AdministraciÃ³n educativa el proyecto de obras requerido para la autorizaciÃ³n del\\\\ncve: BOE-A-2010-4132\\\\nBOE\\\\nBOLETÃ\\x8dN OFICIAL DEL ESTADO\\\\nNÃºm. 62\\\\nViernes 12 de marzo de 2010\\\\nSec. I. PÃ¡g. 24840\\\\nmismo, se regirÃ¡n, en lo relacionado a las instalaciones, a la normativa en vigor en el\\\\nmomento de realizar dicha aprobaciÃ³n.\\\\nDisposiciÃ³n transitoria segunda. AcreditaciÃ³n de la habilitaciÃ³n para la docencia.\\\\nLas Administraciones educativas procederÃ¡n en el plazo de dos aÃ±os desde la entrada\\\\nen vigor de este real decreto, a la acreditaciÃ³n expresa del cumplimiento de los requisitos\\\\na los que se refiere el apartado primero de la disposiciÃ³n adicional octava.\\\\nDisposiciÃ³n transitoria tercera. Vigencia del Real Decreto 1004/1991, de 14 de junio, por\\\\nel que se establecen los requisitos mÃ\\xadnimos de los centros que impartan enseÃ±anzas\\\\nde rÃ©gimen general no universitarias.\\\\nSin perjuicio de lo establecido en la disposiciÃ³n derogatoria Ãºnica, lo dispuesto en los\\\\nartÃ\\xadculos 10 y 13 del Real Decreto 1004/1991, de 14 de junio, por el que se establecen los\\\\nrequisitos mÃ\\xadnimos de los centros que impartan enseÃ±anzas de rÃ©gimen general no\\\\nuniversitarias, en lo relativo a los requisitos mÃ\\xadnimos de instalaciones y ratios de los centros\\\\ndocentes que imparten el primer ciclo de la educaciÃ³n infantil, serÃ¡ de aplicaciÃ³n en tanto\\\\nque las Administraciones educativas no lo regulen en su Ã¡mbito de competencias.\\\\nDisposiciÃ³n derogatoria Ãºnica. DerogaciÃ³n normativa.\\\\n1. A la entrada en vigor de este real decreto quedarÃ¡ derogado el Real Decreto\\\\n1004/1991, de 14 de junio, por el que se establecen los requisitos mÃ\\xadnimos de los centros\\\\nque impartan enseÃ±anzas de rÃ©gimen general no universitarias, de acuerdo con lo\\\\nestablecido en la disposiciÃ³n transitoria tercera de este real decreto.\\\\n2. Quedan derogadas cuantas disposiciones de igual o inferior rango se opongan a\\\\nlo dispuesto en este real decreto.\\\\nDisposiciÃ³n final primera. TÃ\\xadtulo competencial.\\\\nEste real decreto tiene carÃ¡cter de norma bÃ¡sica y se dicta al amparo de lo dispuesto\\\\nen el artÃ\\xadculo 149.1.1.Â° sobre regulaciÃ³n de las condiciones bÃ¡sicas que garanticen la\\\\nigualdad de todos los espaÃ±oles en el ejercicio de los derechos y en el cumplimiento de los\\\\ndeberes constitucionales y 30.Âº de la ConstituciÃ³n que atribuye al Estado la competencia\\\\npara dictar normas bÃ¡sicas para el desarrollo del artÃ\\xadculo 27 de la ConstituciÃ³n, a fin de\\\\ngarantizar el cumplimiento de las obligaciones de los poderes pÃºblicos en esta materia.\\\\nDisposiciÃ³n final segunda. Desarrollo normativo.\\\\nCorresponde al Ministro de EducaciÃ³n y a los Ã³rganos competentes de las Comunidades\\\\nAutÃ³nomas, en el Ã¡mbito de sus competencias respectivas, dictar cuantas disposiciones\\\\nsean precisas para el desarrollo y ejecuciÃ³n de lo dispuesto en este real decreto.\\\\nDisposiciÃ³n final tercera. Entrada en vigor.\\\\nEl presente real decreto entrarÃ¡ en vigor el dÃ\\xada siguiente al de su publicaciÃ³n en el\\\\nÂ«BoletÃ\\xadn Oficial del EstadoÂ».\\\\nDado en Madrid, el 12 de febrero de 2010.\\\\nJUAN CARLOS R.\\\\nEl Ministro de EducaciÃ³n,\\\\nÃ\\x81NGEL GABILONDO PUJOL\\\\ncve: BOE-A-2010-4132\\\\nhttp://www.boe.es\\\\nBOLETÃ\\x8dN OFICIAL DEL ESTADO\\\\nD. L.: M-1/1958 - ISSN: 0212-033X\\\\n'"
      ]
     },
     "execution_count": 20,
     "metadata": {},
     "output_type": "execute_result"
    }
   ],
   "source": [
    "df['Documento'][1]"
   ]
  },
  {
   "cell_type": "code",
   "execution_count": 21,
   "id": "be526116",
   "metadata": {},
   "outputs": [
    {
     "data": {
      "text/plain": [
       "<_io.TextIOWrapper name='boe.txt' mode='r' encoding='utf8'>"
      ]
     },
     "execution_count": 21,
     "metadata": {},
     "output_type": "execute_result"
    }
   ],
   "source": [
    "file_2"
   ]
  },
  {
   "cell_type": "code",
   "execution_count": 22,
   "id": "88b4b67d",
   "metadata": {},
   "outputs": [
    {
     "name": "stdout",
     "output_type": "stream",
     "text": [
      "BOE\\nBOLETÃÂN OFICIAL DEL ESTADO\\nNÃÂºm. 62\\nViernes 12 de marzo de 2010\\nSec. I. PÃÂ¡g. 24831\\nI. DISPOSICIONES GENERALES\\nMINISTERIO DE EDUCACIÃâN\\n4132\\nReal Decreto 132/2010, de 12 de febrero, por el que se establecen los requisitos\\nmÃÂ­nimos de los centros que impartan las enseÃÂ±anzas del segundo ciclo de la\\neducaciÃÂ³n infantil, la educaciÃÂ³n primaria y la educaciÃÂ³n secundaria.\\nLa Ley OrgÃÂ¡nica 8/1985, de 3 de julio, reguladora del Derecho a la EducaciÃÂ³n,\\nestablece, en su artÃÂ­culo 14, que todos los centros docentes, independientemente de su\\ntitularidad, deberÃÂ¡n reunir unos requisitos mÃÂ­nimos referidos a titulaciÃÂ³n acadÃÂ©mica del\\nprofesorado, relaciÃÂ³n numÃÂ©rica alumno-profesor, instalaciones docentes y deportivas, y\\nnÃÂºmero de puestos escolares, para impartir enseÃÂ±anzas con garantÃÂ­a de calidad. Por su\\nparte, el artÃÂ­culo 23 de la misma ley condiciona la apertura y funcionamiento de los centros\\ndocentes privados al principio de autorizaciÃÂ³n administrativa que se concederÃÂ¡ siempre\\nque aquellos reÃÂºnan los requisitos mÃÂ­nimos establecidos.\\nLa Ley OrgÃÂ¡nica 2/2006, de 3 de mayo, de EducaciÃÂ³n, incluye novedades en la\\ndistribuciÃÂ³n de competencias normativas en el primer ciclo de educaciÃÂ³n infantil, asÃÂ­ como\\nen la organizaciÃÂ³n de las enseÃÂ±anzas oficiales, que afectan, entre otros, a nuevas materias\\ny a los currÃÂ­culos de las distintas etapas educativas. De ahÃÂ­ que sea necesario revisar la\\nnormativa bÃÂ¡sica que regula los requisitos mÃÂ­nimos que deben reunir los centros docentes\\nque las impartan, y especialmente el Real Decreto 1004/1991, de 14 de junio, por el que\\nse establecen los requisitos mÃÂ­nimos de los centros que impartan enseÃÂ±anzas de rÃÂ©gimen\\ngeneral no universitarias, que recobrÃÂ³ vigencia como consecuencia de la sentencia del\\nTribunal Supremo por la que se anulÃÂ³ el Real Decreto 1537/2003, de 5 de diciembre, por\\nel que se establecen los requisitos mÃÂ­nimos de los centros que impartan enseÃÂ±anzas\\nescolares de rÃÂ©gimen general. En este sentido, la normativa bÃÂ¡sica relativa a los requisitos\\nde los centros docentes que imparten enseÃÂ±anzas reguladas en la Ley OrgÃÂ¡nica de\\nEducaciÃÂ³n deberÃÂ¡ constituir el denominador comÃÂºn que garantice la prestaciÃÂ³n del servicio\\neducativo en condiciones de calidad e igualdad para satisfacer el derecho constitucional a\\nla educaciÃÂ³n.\\nAdemÃÂ¡s de la habilitaciÃÂ³n expresa al Gobierno para que regule los requisitos mÃÂ­nimos\\nde los centros docentes contenida en el artÃÂ­culo 14 de la Ley OrgÃÂ¡nica 8/1985, reguladora\\ndel Derecho a la EducaciÃÂ³n, el rango reglamentario de esta norma estÃÂ¡ justificado por\\nresultar un complemento indispensable a la legislaciÃÂ³n educativa, asÃÂ­ como un complemento\\nnecesario para alcanzar el comÃÂºn denominador que persigue la normativa bÃÂ¡sica estatal,\\nya que una norma reglamentaria resulta el instrumento idÃÂ³neo dado el carÃÂ¡cter tÃÂ©cnico de\\nla regulaciÃÂ³n relativa a la titulaciÃÂ³n acadÃÂ©mica del profesorado, relaciÃÂ³n numÃÂ©rica alumno-profesor, y a las instalaciones docentes y deportivas de los centros docentes.\\nPor otra parte, la Ley 17/2009, de 23 de noviembre, sobre el libre acceso a las\\nactividades de servicios y su ejercicio, afecta a los requisitos a los que se somete la\\nprestaciÃÂ³n de servicios educativos de interÃÂ©s econÃÂ³mico general, en tanto que dichos\\nrequisitos deberÃÂ¡n tener carÃÂ¡cter reglado, ser claros e inequÃÂ­vocos, objetivos e imparciales,\\ntransparentes, proporcionados al objetivo de interÃÂ©s general y darse a conocer con\\nantelaciÃÂ³n. En este sentido, se remite la regulaciÃÂ³n de los aspectos tÃÂ©cnicos relacionados\\ncon los requisitos que deben reunir las instalaciones docentes a lo establecido en el Real\\nDecreto 314/2006, de 17 de marzo, por el que se aprueba el CÃÂ³digo TÃÂ©cnico de EdificaciÃÂ³n,\\ndonde se establecen las normas tÃÂ©cnicas relativas a la seguridad estructural, la seguridad\\nde utilizaciÃÂ³n, la salubridad, la protecciÃÂ³n frente al ruido, el ahorro de energÃÂ­a y la seguridad\\nen caso de incendio, fijando, entre otros requisitos, una ocupaciÃÂ³n de 2 metros cuadrados\\npor persona en aulas infantiles, 1,5 metros cuadrados por persona en el resto de las aulas,\\ny 5 metros cuadrados por persona en los espacios diferentes a las aulas como laboratorios,\\ntalleres, gimnasios, salas de dibujo, etc.\\ncve: BOE-A-2010-4132\\nBOE\\nBOLETÃÂN OFICIAL DEL ESTADO\\nNÃÂºm. 62\\nViernes 12 de marzo de 2010\\nSec. I. PÃÂ¡g. 24832\\nPara la elaboraciÃÂ³n de este real decreto han sido consultadas las comunidades\\nautÃÂ³nomas en el seno de la Conferencia Sectorial de EducaciÃÂ³n y se ha recabado el\\ninforme previo del Consejo Escolar del Estado.\\nEn su virtud, a propuesta del Ministro de EducaciÃÂ³n, de acuerdo con el Consejo de\\nEstado, y previa deliberaciÃÂ³n del Consejo de Ministros en su reuniÃÂ³n del dÃÂ­a 12 de febrero\\nde 2010,\\nDISPONGO:\\nTÃÂTULO I\\nDisposiciones de carÃÂ¡cter general\\nArtÃÂ­culo 1. Objeto.\\n1. Este real decreto tiene por objeto establecer los requisitos mÃÂ­nimos que deben\\ncumplir los centros docentes que impartan las enseÃÂ±anzas de educaciÃÂ³n infantil de\\nsegundo ciclo, educaciÃÂ³n primaria, educaciÃÂ³n secundaria obligatoria, bachillerato y\\nformaciÃÂ³n profesional. Los requisitos mÃÂ­nimos se referirÃÂ¡n a la titulaciÃÂ³n acadÃÂ©mica del\\nprofesorado, la relaciÃÂ³n numÃÂ©rica alumno-profesor, las instalaciones docentes y deportivas\\ny el nÃÂºmero de puestos escolares.\\n2. Igualmente, este real decreto, establece los requisitos mÃÂ­nimos de titulaciÃÂ³n\\nacadÃÂ©mica del profesorado del primer ciclo de la educaciÃÂ³n infantil.\\nArtÃÂ­culo 2. DenominaciÃÂ³n de los centros docentes.\\nLos centros docentes tendrÃÂ¡n la denominaciÃÂ³n genÃÂ©rica que establecen los artÃÂ­culos 111\\ny 114 de la Ley OrgÃÂ¡nica 2/2006, de 3 de mayo, de EducaciÃÂ³n.\\nArtÃÂ­culo 3. Requisitos de instalaciones comunes a todos los centros.\\n1. Todos los centros docentes que impartan las enseÃÂ±anzas de educaciÃÂ³n\\ninfantil de segundo ciclo, educaciÃÂ³n primaria, educaciÃÂ³n secundaria obligatoria,\\nbachillerato y formaciÃÂ³n profesional se ajustarÃÂ¡n a lo establecido en la Ley OrgÃÂ¡nica\\n8/1985, de 3 de julio, reguladora del Derecho a la EducaciÃÂ³n, en la Ley OrgÃÂ¡nica\\n2/2006, de EducaciÃÂ³n y en las normas que las desarrollen, asÃÂ­ como a lo dispuesto\\nen el Real Decreto 314/2006, de 17 de marzo, por el que se aprueba el CÃÂ³digo\\nTÃÂ©cnico de EdificaciÃÂ³n.\\n2. Los centros docentes mencionados en el apartado anterior deberÃÂ¡n cumplir,\\ncomo mÃÂ­nimo, los siguientes requisitos relativos a las instalaciones:\\na) Situarse en edificios independientes, destinados exclusivamente a uso escolar, si\\nbien sus instalaciones podrÃÂ¡n ser utilizadas fuera del horario escolar para la realizaciÃÂ³n de\\notras actividades de carÃÂ¡cter educativo, cultural o deportivo. En el caso de centros docentes\\nque impartan el segundo ciclo de educaciÃÂ³n infantil, tendrÃÂ¡n, ademÃÂ¡s, acceso independiente\\ndel resto de instalaciones.\\nb) Reunir las condiciones de seguridad estructural, de seguridad en caso de incendio,\\nde seguridad de utilizaciÃÂ³n, de salubridad, de protecciÃÂ³n frente al ruido y de ahorro de\\nenergÃÂ­a que seÃÂ±ala la legislaciÃÂ³n vigente. Asimismo, deberÃÂ¡n cumplir los requisitos de\\nprotecciÃÂ³n laboral establecidos en la legislaciÃÂ³n vigente.\\nc) Tener, en los espacios en los que se desarrolle la prÃÂ¡ctica docente ventilaciÃÂ³n e\\niluminaciÃÂ³n natural y directa desde el exterior.\\nd) Disponer de las condiciones de accesibilidad y supresiÃÂ³n de barreras exigidas por\\nla legislaciÃÂ³n relativa a las condiciones bÃÂ¡sicas de accesibilidad universal y no discriminaciÃÂ³n\\nde personas con discapacidad, sin perjuicio de los ajustes razonables que deban\\nadoptarse.\\ncve: BOE-A-2010-4132\\nBOE\\nBOLETÃÂN OFICIAL DEL ESTADO\\nNÃÂºm. 62\\nViernes 12 de marzo de 2010\\nSec. I. PÃÂ¡g. 24833\\ne) Disponer como mÃÂ­nimo de los siguientes espacios e instalaciones:\\nDespachos de direcciÃÂ³n, de actividades de coordinaciÃÂ³n y de orientaciÃÂ³n.\\nEspacios destinados a la administraciÃÂ³n.\\nSala de profesores adecuada al nÃÂºmero de profesores.\\nEspacios apropiados para las reuniones de las asociaciones de alumnos y de madres\\ny padres de alumnos, en el caso de centros sostenidos con fondos pÃÂºblicos.\\nAseos y servicios higiÃÂ©nico-sanitarios adecuados al nÃÂºmero de puestos escolares, a\\nlas necesidades del alumnado y del personal educativo del centro, asÃÂ­ como aseos y\\nservicios higiÃÂ©nico-sanitarios adaptados para personas con discapacidad en el nÃÂºmero,\\nproporciÃÂ³n y condiciones de uso funcional que la legislaciÃÂ³n aplicable en materia de\\naccesibilidad establece.\\nEspacios necesarios para impartir los apoyos al alumnado con necesidades especÃÂ­ficas\\nde apoyo educativo.\\n3. Los centros docentes que impartan la educaciÃÂ³n primaria, la educaciÃÂ³n secundaria\\nobligatoria y/o el bachillerato deberÃÂ¡n contar, ademÃÂ¡s con:\\nUn patio de recreo, parcialmente cubierto, susceptible de ser utilizado como pista\\npolideportiva, con una superficie adecuada al nÃÂºmero de puestos escolares. En ningÃÂºn\\ncaso serÃÂ¡ inferior 900 metros cuadrados.\\nBiblioteca, con una superficie, como mÃÂ­nimo, de 45 metros cuadrados en los centros\\nque impartan la educaciÃÂ³n primaria, y 75 metros cuadrados en los centros que impartan la\\neducaciÃÂ³n secundaria obligatoria o el bachillerato.\\nUn gimnasio con una superficie adecuada al nÃÂºmero de puestos escolares.\\nTodos los espacios en los que se desarrollen acciones docentes, asÃÂ­ como la biblioteca,\\ncontarÃÂ¡n con acceso a las tecnologÃÂ­as de la informaciÃÂ³n y la comunicaciÃÂ³n en cantidad y\\ncalidad adecuadas al nÃÂºmero de puestos escolares, garantizando la accesibilidad a los\\nentornos digitales del alumnado con capacidades diferentes.\\n4. Los requisitos de instalaciones podrÃÂ¡n flexibilizarse de acuerdo con lo establecido\\nen el artÃÂ­culo 20 y la disposiciÃÂ³n adicional tercera de este real decreto.\\nArtÃÂ­culo 4. Puestos escolares.\\n1. El nÃÂºmero de puestos escolares de los centros se fijarÃÂ¡ en las correspondientes\\ndisposiciones por las que se autorice su apertura y funcionamiento, teniendo en cuenta el\\nnÃÂºmero mÃÂ¡ximo de alumnos por unidad escolar y el nÃÂºmero total de unidades autorizadas\\nen funciÃÂ³n de las instalaciones y condiciones materiales establecidas en este real decreto.\\n2. A efectos de lo dispuesto en este real decreto, se entenderÃÂ¡ por nÃÂºmero de puestos\\nescolares el nÃÂºmero de alumnos que un centro puede atender simultÃÂ¡neamente, de forma\\nque se garanticen las condiciones de calidad exigibles para la imparticiÃÂ³n de la\\nenseÃÂ±anza.\\nTÃÂTULO 11\\nDe los centros de educaciÃÂ³n infantil\\nArtÃÂ­culo 5.\\nCondiciones generales.\\n1. Los centros podrÃÂ¡n ofrecer el primer ciclo de esta etapa educativa, el segundo, o\\nambos.\\n2. Los centros que ofrecen el primer ciclo de educaciÃÂ³n infantil se regirÃÂ¡n por lo\\ndispuesto en la regulaciÃÂ³n especÃÂ­fica establecida por la AdministraciÃÂ³n educativa\\ncompetente, de acuerdo con el artÃÂ­culo 14.7 de la Ley OrgÃÂ¡nica de EducaciÃÂ³n, en lo relativo\\na la relaciÃÂ³n numÃÂ©rica alumnado-profesor, a las instalaciones y al nÃÂºmero de puestos\\nescolares.\\ncve: BOE-A-2010-4132\\nBOE\\nBOLETÃÂN OFICIAL DEL ESTADO\\nNÃÂºm. 62\\nViernes 12 de marzo de 2010\\nSec. I. PÃÂ¡g. 24834\\nArtÃÂ­culo 6. Instalaciones y condiciones materiales de los centros que ofrecen el segundo\\nciclo de la educaciÃÂ³n infantil.\\n1. Los centros que ofrecen el segundo ciclo de la educaciÃÂ³n infantil deberÃÂ¡n contar\\ncon un mÃÂ­nimo de tres unidades, sin perjuicio de lo establecido en la disposiciÃÂ³n adicional\\ntercera del presente real decreto.\\n2. Estos centros deberÃÂ¡n contar, como mÃÂ­nimo, con las siguientes instalaciones y\\ncondiciones materiales:\\na) Un aula por cada unidad con una superficie adecuada al nÃÂºmero de puestos\\nescolares autorizados y en todo caso, con un mÃÂ­nimo de 2 metros cuadrados por puesto\\nescolar.\\nb) Una sala polivalente de 30 metros cuadrados.\\nc) Un patio de juegos, de uso exclusivo del centro, con una superficie adecuada al\\nnÃÂºmero de puestos escolares autorizados y nunca inferior a 150 metros cuadrados para\\ncada seis unidades o fracciÃÂ³n, con horario de utilizaciÃÂ³n diferenciado en el caso de que se\\nescolaricen alumnos de otras etapas educativas.\\nArtÃÂ­culo 7. RelaciÃÂ³n alumnos por unidad.\\nLos centros docentes que ofrecen el segundo ciclo de la educaciÃÂ³n infantil tendrÃÂ¡n,\\ncomo mÃÂ¡ximo, 25 alumnos por unidad escolar.\\nArtÃÂ­culo 8. Requisitos de titulaciÃÂ³n de los profesionales que atienden la educaciÃÂ³n\\ninfantil.\\n1. La atenciÃÂ³n educativa en el primer ciclo de educaciÃÂ³n infantil correrÃÂ¡ a cargo de\\nprofesionales que posean el tÃÂ­tulo de Grado que habilite para el ejercicio de la profesiÃÂ³n de\\nmaestro de educaciÃÂ³n infantil, el tÃÂ­tulo de Maestro con la especialidad de educaciÃÂ³n infantil,\\no el tÃÂ­tulo de TÃÂ©cnico Superior en EducaciÃÂ³n Infantil regulado en el Real Decreto 1394/2007,\\nde 29 de octubre.\\n2. Las Administraciones educativas garantizarÃÂ¡n la presencia en los centros a los\\nque se refiere el anterior apartado, del nÃÂºmero necesario de graduados en el tÃÂ­tulo que\\nhabilite para el ejercicio de la profesiÃÂ³n de maestro de educaciÃÂ³n infantil, o de maestros\\ncon la especialidad en educaciÃÂ³n infantil para garantizar la elaboraciÃÂ³n, el seguimiento y\\nla evaluaciÃÂ³n de la propuesta pedagÃÂ³gica a la que se refiere el artÃÂ­culo 14.2 de la Ley\\nOrgÃÂ¡nica 2/2006, de 3 de mayo, de educaciÃÂ³n.\\n3. El segundo ciclo de educaciÃÂ³n infantil correrÃÂ¡ a cargo de profesionales que posean\\nel tÃÂ­tulo de Grado en EducaciÃÂ³n infantil, o el tÃÂ­tulo de Maestro con la especialidad de\\neducaciÃÂ³n infantil. Cuando las enseÃÂ±anzas impartidas lo requieran, el grupo podrÃÂ¡ ser\\natendido por maestros de otras especialidades.\\n4. Los centros que oferten el segundo ciclo de la educaciÃÂ³n infantil deberÃÂ¡n contar,\\ncomo mÃÂ­nimo, con un graduado en educaciÃÂ³n infantil o un maestro especialista en\\neducaciÃÂ³n infantil por cada unidad.\\n5. Los centros en los que se impartan los ciclos primero y segundo deberÃÂ¡n contar\\ncon el personal cualificado al que se refiere el presente artÃÂ­culo de este real decreto.\\n6. Los centros de educaciÃÂ³n infantil que escolaricen a niÃÂ±os que presenten necesidad\\nespecÃÂ­fica de apoyo educativo contarÃÂ¡n, en su caso, con los recursos humanos y materiales\\nde apoyo que determine la AdministraciÃÂ³n educativa competente, necesarios para\\ngarantizar la correcta atenciÃÂ³n de este alumnado.\\nLos recursos humanos a que se refiere el pÃÂ¡rrafo anterior deberÃÂ¡n disponer de la\\ntitulaciÃÂ³n o cualificaciÃÂ³n adecuada.\\ncve: BOE-A-2010-4132\\nBOE\\nBOLETÃÂN OFICIAL DEL ESTADO\\nNÃÂºm. 62\\nViernes 12 de marzo de 2010\\nSec. I. PÃÂ¡g. 24835\\nTÃÂTULO III\\nDe los centros de educaciÃÂ³n primaria\\nArtÃÂ­culo 9. Condiciones generales.\\nLos centros de educaciÃÂ³n primaria tendrÃÂ¡n, como mÃÂ­nimo, una unidad por cada curso,\\nsalvo lo establecido en la disposiciÃÂ³n adicional tercera del presente real decreto.\\nArtÃÂ­culo 10. Instalaciones y condiciones materiales de los centros.\\nLos centros de educaciÃÂ³n primaria deberÃÂ¡n contar, como mÃÂ­nimo, con las siguientes\\ninstalaciones y condiciones materiales:\\na) Un aula por cada unidad con una superficie adecuada al nÃÂºmero de alumnos\\nescolarizados autorizados y en todo caso, con un mÃÂ­nimo de 1,5 metros cuadrados por\\npuesto escolar.\\nb) Un spacio por cada seis unidades para desdoblamiento de grupos y otro para\\nactividades de apoyo y refuerzo pedagÃÂ³gico.\\nc) Una sala polivalente, con una superficie adecuada al nÃÂºmero de puestos escolares\\nautorizados, que podrÃÂ¡ compartimentarse con mamparas mÃÂ³viles.\\nArtÃÂ­culo 11. RelaciÃÂ³n de alumnos por unidad.\\nLos centros de educaciÃÂ³n primaria tendrÃÂ¡n, como mÃÂ¡ximo, 25 alumnos por unidad\\nescolar.\\nArtÃÂ­culo 12. Requisitos de titulaciÃÂ³n acadÃÂ©mica del profesorado que imparte educaciÃÂ³n\\nprimaria.\\n1. Los centros de educaciÃÂ³n primaria dispondrÃÂ¡n, como mÃÂ­nimo, de un maestro por\\ncada grupo de alumnos y garantizarÃÂ¡n, en todo caso, la existencia de graduados en\\neducaciÃÂ³n primaria o maestros con la cualificaciÃÂ³n adecuada para impartir la enseÃÂ±anza\\nde la mÃÂºsica, la educaciÃÂ³n fÃÂ­sica y las lenguas extranjeras.\\n2. AdemÃÂ¡s del personal docente que establecen los apartados anteriores, los centros\\nde educaciÃÂ³n primaria que escolaricen a niÃÂ±os que presenten necesidad especÃÂ­fica de\\napoyo educativo contarÃÂ¡n, en su caso, con los recursos humanos y materiales de apoyo\\nque determine la AdministraciÃÂ³n educativa competente, necesarios para garantizar la\\ncorrecta atenciÃÂ³n de este alumnado.\\nLos recursos humanos a que se refiere el pÃÂ¡rrafo anterior deberÃÂ¡n disponer de la\\ntitulaciÃÂ³n o cualificaciÃÂ³n adecuada.\\nTÃÂTULO IV\\nDe los centros de educaciÃÂ³n secundaria\\nArtÃÂ­culo 13. Condiciones generales.\\n1. En los centros de educaciÃÂ³n secundaria podrÃÂ¡ impartirse la educaciÃÂ³n secundaria\\nobligatoria, el bachillerato y la formaciÃÂ³n profesional.\\n2. En los centros de educaciÃÂ³n secundaria que ofrezcan las enseÃÂ±anzas de educaciÃÂ³n\\nsecundaria obligatoria se deberÃÂ¡n impartir los cuatro cursos de que consta esta etapa\\neducativa con sujeciÃÂ³n a la ordenaciÃÂ³n acadÃÂ©mica en vigor. Dichos centros deberÃÂ¡n tener,\\ncomo mÃÂ­nimo, una unidad para cada curso y disponer de las instalaciones y condiciones\\nmateriales recogidas en el artÃÂ­culo siguiente.\\n3. Los centros de educaciÃÂ³n secundaria en los que se imparta el bachillerato\\nofrecerÃÂ¡n, al menos, dos de las modalidades de las previstas en el artÃÂ­culo 34.1 de la Ley\\nOrgÃÂ¡nica 2/2006, de 3 de mayo, de EducaciÃÂ³n. Al respecto, se entenderÃÂ¡n que imparten\\ncve: BOE-A-2010-4132\\nBOE\\nBOLETÃÂN OFICIAL DEL ESTADO\\nNÃÂºm. 62\\nViernes 12 de marzo de 2010\\nSec. I. PÃÂ¡g. 24836\\nla modalidad de artes cuando oferten al menos una de las vÃÂ­as previstas en el artÃÂ­culo 5.3\\ndel Real Decreto 1467/2007, de 2 de noviembre, por el que se establece la estructura del\\nbachillerato y se fijan sus enseÃÂ±anzas mÃÂ­nimas.\\n4. El requisito anterior no serÃÂ¡ de aplicaciÃÂ³n para los centros de educaciÃÂ³n secundaria\\nen los que se impartan las dos vÃÂ­as de la modalidad de artes.\\n5. Los centros docentes que imparten tÃÂ­tulos de FormaciÃÂ³n profesional estarÃÂ¡n\\nsometidos a los requisitos mÃÂ­nimos que establece este real decreto, asÃÂ­ como los\\nestablecidos en el Real Decreto 1538/2006, de 15 de diciembre, por el que se establece la\\nordenaciÃÂ³n general de la formaciÃÂ³n profesional del sistema educativo, y la normativa que\\nregule los tÃÂ­tulos de tÃÂ©cnico y tÃÂ­tulos de tÃÂ©cnico superior de formaciÃÂ³n profesional.\\nArtÃÂ­culo 14. Instalaciones y condiciones materiales de los centros que imparten educaciÃÂ³n\\nsecundaria obligatoria.\\nLos centros en los que se imparta educaciÃÂ³n secundaria obligatoria dispondrÃÂ¡n, como\\nmÃÂ­nimo, de las siguientes instalaciones:\\na) Un aula por cada unidad con una superficie adecuada al nÃÂºmero de alumnos\\nescolarizados autorizados y en todo caso, con un mÃÂ­nimo de 1,5 metros cuadrados por\\npuesto escolar.\\nb) Por cada 12 unidades o fracciÃÂ³n, un aula taller para tecnologÃÂ­as y dos aulas para\\nlas actividades relacionadas con las materias de mÃÂºsica y educaciÃÂ³n plÃÂ¡stica y visual\\nrespectivamente.\\nc) Al menos un laboratorio de Ciencias Experimentales por cada 12 unidades o\\nfracciÃÂ³n.\\nd) Un espacio por cada ocho unidades para desdoblamiento de grupos y otro para\\nactividades de apoyo y refuerzo pedagÃÂ³gico.\\nArtÃÂ­culo 15. Instalaciones y condiciones materiales de los centros que imparten\\nbachillerato.\\n1. Los centros en los que se imparta bachillerato deberÃÂ¡n disponer, como mÃÂ­nimo, de\\nun aula por cada unidad con una superficie adecuada al nÃÂºmero de alumnos escolarizados\\ny en todo caso, con un mÃÂ­nimo de 1,5 metros cuadrados por puesto escolar.\\n2. Un espacio por cada cuatro unidades para desdoblamiento de grupos y otro para\\nactividades de apoyo y refuerzo pedagÃÂ³gico.\\n3. En funciÃÂ³n de las modalidades del bachillerato impartidas, los centros deberÃÂ¡n\\ndisponer, asimismo, de las instalaciones siguientes:\\na) Para la modalidad de artes:\\nDos aulas diferenciadas dotadas de las instalaciones adecuadas para la enseÃÂ±anza de\\nlas materias de modalidad cuando se imparta la vÃÂ­a de artes plÃÂ¡sticas, imagen y diseÃÂ±o.\\nUn aula de mÃÂºsica cuando se imparta la vÃÂ­a de artes escÃÂ©nicas, mÃÂºsica y danza.\\nb) Para la modalidad de Ciencias y TecnologÃÂ­a:\\nTres laboratorios diferenciados de FÃÂ­sica, QuÃÂ­mica y Ciencias.\\nUn aula de dibujo.\\nUn aula de TecnologÃÂ­a.\\nArtÃÂ­culo 16. RelaciÃÂ³n de alumnos por unidad.\\nLos centros de educaciÃÂ³n secundaria tendrÃÂ¡n, como mÃÂ¡ximo, 30 alumnos por unidad\\nescolar en educaciÃÂ³n secundaria obligatoria y de 35 en bachillerato.\\ncve: BOE-A-2010-4132\\nBOE\\nBOLETÃÂN OFICIAL DEL ESTADO\\nNÃÂºm. 62\\nViernes 12 de marzo de 2010\\nSec. I. PÃÂ¡g. 24837\\nArtÃÂ­culo 17. Profesionales que atienden la educaciÃÂ³n secundaria obligatoria y el\\nbachillerato.\\n1. Para impartir las enseÃÂ±anzas de educaciÃÂ³n secundaria obligatoria y de bachillerato\\nserÃÂ¡ necesario tener el tÃÂ­tulo Graduado, Licenciado, Ingeniero o Arquitecto, ademÃÂ¡s del\\nMÃÂ¡ster que habilita para el ejercicio de las profesiones de profesor de educaciÃÂ³n secundaria\\nobligatoria, bachillerato, formaciÃÂ³n profesional y enseÃÂ±anzas de idiomas.\\n2. Los profesores de la educaciÃÂ³n secundaria deberÃÂ¡n, asimismo, acreditar la\\ncualificaciÃÂ³n especÃÂ­fica para impartir las ÃÂ¡reas y materias respectivas.\\nArtÃÂ­culo 18. NÃÂºmero mÃÂ­nimo de profesores de los centros que ofrecen la educaciÃÂ³n\\nsecundaria obligatoria y el bachillerato.\\n1. El nÃÂºmero mÃÂ­nimo de profesores en los centros de educaciÃÂ³n secundaria serÃÂ¡ el\\nnecesario para cubrir el horario que se establezca en los distintos programas y planes de\\nestudio autorizados.\\n2. Los centros que escolaricen alumnos con necesidad especÃÂ­fica de apoyo educativo\\ncontarÃÂ¡n ademÃÂ¡s, con el personal que en su caso determine la AdministraciÃÂ³n educativa\\ncompetente. Este personal deberÃÂ¡ estar en posesiÃÂ³n de la titulaciÃÂ³n o cualificaciÃÂ³n\\nadecuada.\\nArtÃÂ­culo 19. Requisitos de centros que ofrecen los Programas de CualificaciÃÂ³n Profesional\\nInicial.\\n1. La imparticiÃÂ³n de los mÃÂ³dulos especÃÂ­ficos a que se refiere el artÃÂ­culo 30.3, letra a)\\ny b), de la Ley OrgÃÂ¡nica de EducaciÃÂ³n, requerirÃÂ¡ disponer de los espacios y equipamientos\\nque para cada uno de ellos determine la AdministraciÃÂ³n educativa competente.\\n2. La imparticiÃÂ³n de los mÃÂ³dulos voluntarios al que se refiere el artÃÂ­culo 30.3 letra c)\\nde la Ley OrgÃÂ¡nica de EducaciÃÂ³n, requerirÃÂ¡ disponer, al menos, de los mismos requisitos\\nexigidos para la autorizaciÃÂ³n de centros de formaciÃÂ³n de adultos que imparten la educaciÃÂ³n\\nsecundaria obligatoria.\\nArtÃÂ­culo 20. FlexibilizaciÃÂ³n de los requisitos de instalaciones para los centros docentes\\nque impartan distintas enseÃÂ±anzas en el mismo edificio o recinto escolar.\\n1. En el caso de centros situados en el mismo edificio o recinto escolar, el patio de\\nrecreo y la sala polivalente de los centros de educaciÃÂ³n primaria cubren las exigencias\\ncorrespondientes de los centros de educaciÃÂ³n infantil, siempre que se garantice, para los\\nalumnos de educaciÃÂ³n infantil el uso de dicha dependencia en horario independiente, salvo\\nque se trate de centros que agrupen alumnos de distintas etapas en las mismas\\nunidades.\\nAsimismo, el despacho de direcciÃÂ³n, los espacios destinados a la administraciÃÂ³n y la\\nsala de profesores de los centros de educaciÃÂ³n primaria cubren las exigencias de estas\\ninstalaciones en educaciÃÂ³n infantil.\\n2. En el caso de centros de educaciÃÂ³n primaria y de educaciÃÂ³n secundaria obligatoria\\nsituados en el mismo edificio o recinto escolar, se considerarÃÂ¡n instalaciones comunes las\\nsiguientes:\\na) La biblioteca.\\nb) El gimnasio.\\nc) El patio de recreo.\\nd) Los despachos de direcciÃÂ³n, los espacios destinados a la administraciÃÂ³n y la sala\\nde profesores.\\ne) En los centros con hasta doce unidades de educaciÃÂ³n primaria y hasta ocho\\nunidades de educaciÃÂ³n secundaria obligatoria, el aula taller para tecnologÃÂ­as y las aulas de\\nmÃÂºsica y educaciÃÂ³n plÃÂ¡stica y visual cubren la exigencia de la sala polivalente de educaciÃÂ³n\\nprimaria.\\ncve: BOE-A-2010-4132\\nBOE\\nBOLETÃÂN OFICIAL DEL ESTADO\\nNÃÂºm. 62\\nViernes 12 de marzo de 2010\\nSec. I. PÃÂ¡g. 24838\\n3. En el caso de centros que impartan educaciÃÂ³n secundaria obligatoria y bachillerato,\\ndeberÃÂ¡n reunir las condiciones que se especifican en los artÃÂ­culos 14 y 15 de este real\\ndecreto, con las siguientes salvedades:\\na) El gimnasio, la biblioteca, el patio de recreo, los espacios destinados a la\\nadministraciÃÂ³n, los despachos y la sala de profesores se considerarÃÂ¡n instalaciones\\ncomunes.\\nb) Una de las aulas diferenciadas a las que hace referencia el artÃÂ­culo 15.2\\napartado a) para la enseÃÂ±anza de las materias de bachillerato de la modalidad de artes,\\nen la vÃÂ­a de artes plÃÂ¡sticas, imagen y diseÃÂ±o, cubre la exigencia del aula de dibujo de la\\nmodalidad de ciencias y tecnologÃÂ­a y viceversa. Asimismo cubre la exigencia del aula de\\neducaciÃÂ³n plÃÂ¡stica y visual para la educaciÃÂ³n secundaria obligatoria.\\nc) El aula de mÃÂºsica para el bachillerato de artes en la vÃÂ­a de artes escÃÂ©nicas, mÃÂºsica\\ny danza, cubre la exigencia del aula de mÃÂºsica para la educaciÃÂ³n secundaria obligatoria.\\nd) Los laboratorios para el bachillerato de la modalidad de ciencias y tecnologÃÂ­a\\ncubren la exigencia del laboratorio de ciencias experimentales para la educaciÃÂ³n secundaria\\nobligatoria. Del mismo modo, el aula de tecnologÃÂ­a para el bachillerato cubre la exigencia\\ndel aula taller de tecnologÃÂ­as para la educaciÃÂ³n secundaria obligatoria.\\n4. En los centros docentes que impartan educaciÃÂ³n secundaria obligatoria o\\nbachillerato y formaciÃÂ³n profesional podrÃÂ¡n disponer de recursos humanos e instalaciones\\ncomunes. A estos efectos, se consideran instalaciones comunes aquellas que se destinen\\na usos similares en funciÃÂ³n del tiempo de utilizaciÃÂ³n de los espacios respectivos, previstos\\npara cada una de las enseÃÂ±anzas.\\nDisposiciÃÂ³n adicional primera. Centros que ofrecen la educaciÃÂ³n de personas adultas.\\n1. Los centros creados o autorizados al amparo de lo dispuesto en este real decreto\\npodrÃÂ¡n ser autorizados para impartir las correspondientes enseÃÂ±anzas a personas adultas,\\nde acuerdo con los programas que al efecto se establezcan, si de ello no resulta menoscabo\\npara las enseÃÂ±anzas cursadas por los alumnos escolarizados en el centro, especialmente\\nen cuanto a su rÃÂ©gimen horario.\\n2. Los centros especÃÂ­ficos de educaciÃÂ³n de personas adultas que impartan la\\neducaciÃÂ³n secundaria obligatoria y/o el bachillerato se rigen por lo dispuesto en este real\\ndecreto en lo relativo a las instalaciones y la titulaciÃÂ³n de los docentes. Los requisitos de\\ninstalaciones se adecuarÃÂ¡n a la organizaciÃÂ³n especÃÂ­fica de las enseÃÂ±anzas de adultos.\\nDisposiciÃÂ³n adicional segunda. Centros de educaciÃÂ³n especial.\\nLas Administraciones educativas competentes adaptarÃÂ¡n lo dispuesto en este real\\ndecreto a los centros de educaciÃÂ³n especial que ofrecen enseÃÂ±anzas dirigidas a alumnos\\ncon necesidades educativas especiales que no puedan ser atendidas en el marco de las\\nmedidas de atenciÃÂ³n a la diversidad en los centros ordinarios.\\nDisposiciÃÂ³n adicional tercera. Centros que atiendan a poblaciones de especiales\\ncaracterÃÂ­sticas sociodemogrÃÂ¡ficas.\\n1. Los centros de educaciÃÂ³n infantil y de educaciÃÂ³n primaria que atiendan a\\npoblaciones de especiales caracterÃÂ­sticas sociodemogrÃÂ¡ficas o escolares quedan\\nexceptuados de los requisitos establecidos en los artÃÂ­culos 6.1 y 9 de este real decreto, en\\ncuanto al nÃÂºmero de unidades con que deben contar los centros.\\n2. Para estos centros se entenderÃÂ¡ por unidad escolar la agrupaciÃÂ³n de alumnos\\natendidos conjunta y simultÃÂ¡neamente por un profesor de manera ordinaria,\\nindependientemente del nivel al que pertenezcan.\\n3. A los efectos previstos en esta disposiciÃÂ³n, las Administraciones educativas\\ncompetentes adecuarÃÂ¡n los requisitos previstos en los tÃÂ­tulos II y III de este real decreto a\\nlas especiales caracterÃÂ­sticas y dimensiones de estos centros.\\ncve: BOE-A-2010-4132\\nBOE\\nBOLETÃÂN OFICIAL DEL ESTADO\\nNÃÂºm. 62\\nViernes 12 de marzo de 2010\\nSec. I. PÃÂ¡g. 24839\\nDisposiciÃÂ³n adicional cuarta. Centros docentes reconocidos por acuerdos internacionales.\\nLos requisitos de los centros docentes cuyo carÃÂ¡cter especÃÂ­fico estÃÂ© reconocido por\\nacuerdos internacionales de carÃÂ¡cter bilateral podrÃÂ¡n ser adaptados por el Ministerio de\\nEducaciÃÂ³n.\\nDisposiciÃÂ³n adicional quinta. Centros acogidos al rÃÂ©gimen de conciertos.\\nLo dispuesto en el presente real decreto sobre nÃÂºmero mÃÂ¡ximo de alumnos por unidad\\nescolar debe entenderse sin perjuicio de la obligaciÃÂ³n de los centros acogidos al rÃÂ©gimen\\nde conciertos educativos de que la unidades concertadas tengan una relaciÃÂ³n media\\nalumnos/profesor por unidad escolar no inferior a la que determine la AdministraciÃÂ³n\\neducativa, teniendo en cuenta la existente para los centros pÃÂºblicos de la comarca,\\nmunicipio, o, en su caso, distrito en el que estÃÂ© situado el centro.\\nDisposiciÃÂ³n adicional sexta. InscripciÃÂ³n en Registro.\\nLos centros pÃÂºblicos y los centros privados autorizados serÃÂ¡n inscritos en un registro\\npÃÂºblico dependiente de la AdministraciÃÂ³n educativa competente, que deberÃÂ¡ dar traslado\\nde los asientos registrales al Ministerio de EducaciÃÂ³n, en el plazo mÃÂ¡ximo de un mes, de\\nacuerdo con el artÃÂ­culo 13 de la Ley OrgÃÂ¡nica reguladora del Derecho a la EducaciÃÂ³n,\\ndesarrollado por el Real Decreto 276/2003, de 7 de marzo, por el que se regula el Registro\\nestatal de centros docentes no universitarios.\\nDisposiciÃÂ³n adicional sÃÂ©ptima. Centros sometidos al Derecho comÃÂºn.\\nEn aplicaciÃÂ³n de lo establecido en el artÃÂ­culo 24.1 de la Ley OrgÃÂ¡nica 8/1985, de 3 de\\njulio, reguladora del Derecho a la EducaciÃÂ³n, los centros privados que impartan enseÃÂ±anzas\\nque no estÃÂ©n reguladas en la Ley OrgÃÂ¡nica 2/2006, de 3 de mayo, de EducaciÃÂ³n, que\\nestÃÂ¡n sometidos a las normas de derecho comÃÂºn, no podrÃÂ¡n utilizar ninguna de las\\ndenominaciones genÃÂ©ricas establecidas en dicha ley para los centros docentes, ni\\ncualesquiera otras que pudieran inducir a error o confusiÃÂ³n con aquellas.\\nDisposiciÃÂ³n adicional octava. Profesionales habilitados.\\n1. Los profesionales que a la fecha de entrada en vigor de este real decreto hubieran\\nsido habilitados para la docencia de la educaciÃÂ³n infantil, en ambos ciclos, de la educaciÃÂ³n\\nprimaria, de la educaciÃÂ³n secundaria obligatoria, del bachillerato, y de la formaciÃÂ³n\\nprofesional mantendrÃÂ¡n dicha habilitaciÃÂ³n.\\n2. AsÃÂ­ mismo, a partir de la entrada en vigor de este decreto, no podrÃÂ¡n iniciarse\\nprocedimientos de habilitaciÃÂ³n para los profesionales que carecen de la formaciÃÂ³n inicial\\nadecuada.\\nDisposiciÃÂ³n adicional novena.\\nReferencias genÃÂ©ricas.\\nTodas las referencias para las que en este real decreto se utiliza la forma de masculino\\ngenÃÂ©rico, deben entenderse aplicables, indistintamente, a mujeres y a hombres.\\nDisposiciÃÂ³n transitoria primera. Solicitudes de autorizaciÃÂ³n de nuevos centros.\\n1. Los centros docentes autorizados con anterioridad a la entrada en vigor del\\npresente real decreto se entienden autorizados para la imparticiÃÂ³n de las correspondientes\\nenseÃÂ±anzas.\\n2. Las solicitudes de autorizaciÃÂ³n de nuevos centros presentadas con posterioridad\\na la entrada en vigor del presente real decreto, deberÃÂ¡n cumplir los requisitos mÃÂ­nimos\\naquÃÂ­ establecidos.\\n3. Los centros que a la entrada en vigor del presente real decreto tengan aprobado\\npor la AdministraciÃÂ³n educativa el proyecto de obras requerido para la autorizaciÃÂ³n del\\ncve: BOE-A-2010-4132\\nBOE\\nBOLETÃÂN OFICIAL DEL ESTADO\\nNÃÂºm. 62\\nViernes 12 de marzo de 2010\\nSec. I. PÃÂ¡g. 24840\\nmismo, se regirÃÂ¡n, en lo relacionado a las instalaciones, a la normativa en vigor en el\\nmomento de realizar dicha aprobaciÃÂ³n.\\nDisposiciÃÂ³n transitoria segunda. AcreditaciÃÂ³n de la habilitaciÃÂ³n para la docencia.\\nLas Administraciones educativas procederÃÂ¡n en el plazo de dos aÃÂ±os desde la entrada\\nen vigor de este real decreto, a la acreditaciÃÂ³n expresa del cumplimiento de los requisitos\\na los que se refiere el apartado primero de la disposiciÃÂ³n adicional octava.\\nDisposiciÃÂ³n transitoria tercera. Vigencia del Real Decreto 1004/1991, de 14 de junio, por\\nel que se establecen los requisitos mÃÂ­nimos de los centros que impartan enseÃÂ±anzas\\nde rÃÂ©gimen general no universitarias.\\nSin perjuicio de lo establecido en la disposiciÃÂ³n derogatoria ÃÂºnica, lo dispuesto en los\\nartÃÂ­culos 10 y 13 del Real Decreto 1004/1991, de 14 de junio, por el que se establecen los\\nrequisitos mÃÂ­nimos de los centros que impartan enseÃÂ±anzas de rÃÂ©gimen general no\\nuniversitarias, en lo relativo a los requisitos mÃÂ­nimos de instalaciones y ratios de los centros\\ndocentes que imparten el primer ciclo de la educaciÃÂ³n infantil, serÃÂ¡ de aplicaciÃÂ³n en tanto\\nque las Administraciones educativas no lo regulen en su ÃÂ¡mbito de competencias.\\nDisposiciÃÂ³n derogatoria ÃÂºnica. DerogaciÃÂ³n normativa.\\n1. A la entrada en vigor de este real decreto quedarÃÂ¡ derogado el Real Decreto\\n1004/1991, de 14 de junio, por el que se establecen los requisitos mÃÂ­nimos de los centros\\nque impartan enseÃÂ±anzas de rÃÂ©gimen general no universitarias, de acuerdo con lo\\nestablecido en la disposiciÃÂ³n transitoria tercera de este real decreto.\\n2. Quedan derogadas cuantas disposiciones de igual o inferior rango se opongan a\\nlo dispuesto en este real decreto.\\nDisposiciÃÂ³n final primera. TÃÂ­tulo competencial.\\nEste real decreto tiene carÃÂ¡cter de norma bÃÂ¡sica y se dicta al amparo de lo dispuesto\\nen el artÃÂ­culo 149.1.1.ÃÂ° sobre regulaciÃÂ³n de las condiciones bÃÂ¡sicas que garanticen la\\nigualdad de todos los espaÃÂ±oles en el ejercicio de los derechos y en el cumplimiento de los\\ndeberes constitucionales y 30.ÃÂº de la ConstituciÃÂ³n que atribuye al Estado la competencia\\npara dictar normas bÃÂ¡sicas para el desarrollo del artÃÂ­culo 27 de la ConstituciÃÂ³n, a fin de\\ngarantizar el cumplimiento de las obligaciones de los poderes pÃÂºblicos en esta materia.\\nDisposiciÃÂ³n final segunda. Desarrollo normativo.\\nCorresponde al Ministro de EducaciÃÂ³n y a los ÃÂ³rganos competentes de las Comunidades\\nAutÃÂ³nomas, en el ÃÂ¡mbito de sus competencias respectivas, dictar cuantas disposiciones\\nsean precisas para el desarrollo y ejecuciÃÂ³n de lo dispuesto en este real decreto.\\nDisposiciÃÂ³n final tercera. Entrada en vigor.\\nEl presente real decreto entrarÃÂ¡ en vigor el dÃÂ­a siguiente al de su publicaciÃÂ³n en el\\nÃÂ«BoletÃÂ­n Oficial del EstadoÃÂ».\\nDado en Madrid, el 12 de febrero de 2010.\\nJUAN CARLOS R.\\nEl Ministro de EducaciÃÂ³n,\\nÃÂNGEL GABILONDO PUJOL\\ncve: BOE-A-2010-4132\\nhttp://www.boe.es\\nBOLETÃÂN OFICIAL DEL ESTADO\\nD. L.: M-1/1958 - ISSN: 0212-033X\\n\n"
     ]
    }
   ],
   "source": [
    "with open('boe.txt', encoding='Latin1') as f:\n",
    "    contents = f.read()\n",
    "    print(contents)"
   ]
  },
  {
   "cell_type": "markdown",
   "id": "8ca8b3ec",
   "metadata": {},
   "source": [
    "##### https://www.simplifiedpython.net/pdf-to-text-python-extract-text-from-pdf-documents-using-pypdf2-module/\n",
    "\n"
   ]
  },
  {
   "cell_type": "code",
   "execution_count": 23,
   "id": "1f9687da",
   "metadata": {},
   "outputs": [],
   "source": [
    "pdfFileObject = open(r\"BOE-A-2010-4132.pdf\", 'rb')"
   ]
  },
  {
   "cell_type": "code",
   "execution_count": 24,
   "id": "f5cdab0f",
   "metadata": {},
   "outputs": [],
   "source": [
    "pdfReader = PyPDF2.PdfFileReader(pdfFileObject)"
   ]
  },
  {
   "cell_type": "code",
   "execution_count": 25,
   "id": "1866f03a",
   "metadata": {},
   "outputs": [
    {
     "data": {
      "text/plain": [
       "<PyPDF2.pdf.PdfFileReader at 0x2036f8d36a0>"
      ]
     },
     "execution_count": 25,
     "metadata": {},
     "output_type": "execute_result"
    }
   ],
   "source": [
    "pdfReader"
   ]
  },
  {
   "cell_type": "code",
   "execution_count": 26,
   "id": "8f71130f",
   "metadata": {},
   "outputs": [
    {
     "name": "stdout",
     "output_type": "stream",
     "text": [
      " No. Of Pages : 10\n"
     ]
    }
   ],
   "source": [
    "print(\" No. Of Pages :\", pdfReader.numPages)"
   ]
  },
  {
   "cell_type": "code",
   "execution_count": 27,
   "id": "186fa631",
   "metadata": {},
   "outputs": [
    {
     "name": "stdout",
     "output_type": "stream",
     "text": [
      "BOLETÍN OFICIAL DEL ESTADO\n",
      "Núm. 62 Viernes 12 de marzo de 2010\n",
      " Sec. I.   Pág. 24831\n",
      "I. DISPOSICIONES GENERALESMINISTERIO DE EDUCACIÓN4132Real Decreto 132/2010, de 12 de febrero, por el que se establecen los requisitos \n",
      "mínimos de los centros que impartan las enseñanzas del segundo ciclo de la \n",
      "\n",
      "educación infantil, la educación primaria y la educación secundaria.La Ley Orgánica 8/1985, de 3 de julio, reguladora del Derecho a la Educación, \n",
      "establece, en su artículo 14, que todos los centros docentes, independientemente de su \n",
      "\n",
      "titularidad, deberán reunir unos requisitos mínimos referidos a titulación académica del \n",
      "\n",
      "profesorado, relación numérica alumno-profesor, instalaciones docentes y deportivas, y \n",
      "\n",
      "número de puestos escolares, para impartir enseñanzas con garantía de calidad. Por su \n",
      "\n",
      "parte, el artículo 23 de la misma ley condiciona la apertura y funcionamiento de los centros \n",
      "\n",
      "docentes privados al principio de autorización administrativa que se concederá siempre \n",
      "\n",
      "que aquellos reúnan los requisitos mínimos establecidos.La Ley Orgánica 2/2006, de 3 de mayo, de Educación, incluye novedades en la \n",
      "distribución de competencias normativas en el primer ciclo de educación infantil, así como \n",
      "\n",
      "en la organización de las enseñanzas oficiales, que afectan, entre otros, a nuevas materias \n",
      "\n",
      "y a los currículos de las distintas etapas educativas. De ahí que sea necesario revisar la \n",
      "\n",
      "normativa básica que regula los requisitos mínimos que deben reunir los centros docentes \n",
      "\n",
      "que las impartan, y especialmente el Real Decreto 1004/1991, de 14 de junio, por el que \n",
      "\n",
      "se establecen los requisitos mínimos de los centros que impartan enseñanzas de régimen \n",
      "\n",
      "general no universitarias, que recobró vigencia como consecuencia de la sentencia del \n",
      "\n",
      "Tribunal Supremo por la que se anuló el Real Decreto 1537/2003, de 5 de diciembre, por \n",
      "\n",
      "el que se establecen los requisitos mínimos de los centros que impartan enseñanzas \n",
      "\n",
      "escolares de régimen general. En este sentido, la normativa básica relativa a los requisitos \n",
      "\n",
      "de los centros docentes que imparten enseñanzas reguladas en la Ley Orgánica de \n",
      "\n",
      "Educación deberá constituir el denominador común que garantice la prestación del servicio \n",
      "\n",
      "educativo en condiciones de calidad e igualdad para satisfacer el derecho constitucional a \n",
      "\n",
      "la educación.Además de la habilitación expresa al Gobierno para que regule los requisitos mínimos \n",
      "de los centros docentes contenida en el artículo 14 de la Ley Orgánica 8/1985, reguladora \n",
      "\n",
      "del Derecho a la Educación, el rango reglamentario de esta norma está justificado por \n",
      "\n",
      "resultar un complemento indispensable a la legislación educativa, así como un complemento \n",
      "\n",
      "necesario para alcanzar el común denominador que persigue la normativa básica estatal, \n",
      "\n",
      "ya que una norma reglamentaria resulta el instrumento idóneo dado el carácter técnico de \n",
      "\n",
      "la regulación relativa a la titulación académica del profesorado, relación numérica alumno-\n",
      "\n",
      "profesor, y a las instalaciones docentes y deportivas de los centros docentes.\n",
      "Por otra parte, la Ley 17/2009, de 23 de noviembre, sobre el libre acceso a las \n",
      "actividades de servicios y su ejercicio, afecta a los requisitos a los que se somete la \n",
      "\n",
      "prestación de servicios educativos de interés económico general, en tanto que dichos \n",
      "\n",
      "requisitos deberán tener carácter reglado, ser claros e inequívocos, objetivos e imparciales, \n",
      "\n",
      "transparentes, proporcionados al objetivo de interés general y darse a conocer con \n",
      "\n",
      "antelación. En este sentido, se remite la regulación de los aspectos técnicos relacionados \n",
      "\n",
      "con los requisitos que deben reunir las instalaciones docentes a lo establecido en el Real \n",
      "\n",
      "Decreto 314/2006, de 17 de marzo, por el que se aprueba el Código Técnico de Edificación, \n",
      "\n",
      "donde se establecen las normas técnicas relativas a la seguridad estructural, la seguridad \n",
      "\n",
      "de utilización, la salubridad, la protección frente al ruido, el ahorro de energía y la seguridad \n",
      "\n",
      "en caso de incendio, fijando, entre otros requisitos, una ocupación de 2 metros cuadrados \n",
      "\n",
      "por persona en aulas infantiles, 1,5 metros cuadrados por persona en el resto de las aulas, \n",
      "\n",
      "y 5 metros cuadrados por persona en los espacios diferentes a las aulas como laboratorios, \n",
      "\n",
      "talleres, gimnasios, salas de dibujo, etc.cve: BOE-A-2010-4132\n"
     ]
    }
   ],
   "source": [
    "pageObject = pdfReader.getPage(0)\n",
    " \n",
    "print(pageObject.extractText())"
   ]
  },
  {
   "cell_type": "code",
   "execution_count": 29,
   "id": "23806366",
   "metadata": {},
   "outputs": [],
   "source": [
    "# https://www.tutorialspoint.com/working-with-pdf-files-in-python\n",
    "\n",
    "# with open('BOE-A-2010-4132.pdf', 'rb') as f:\n",
    "#     pdf = PyPDF2.PdfFileReader(f)\n",
    "#     info = pdf.getDocumentInfo()\n",
    "#     number_of_pages = pdf.getNumPages()\n",
    "\n",
    "# print(\"Author: \\t\", info.author)\n",
    "# print()\n",
    "# print(\"Creator: \\t\", info.creator)\n",
    "# print()\n",
    "# print(\"Producer: \\t\",info.producer)\n",
    "# print()\n",
    "# print(\"Subject: \\t\", info.subject)\n",
    "# print()\n",
    "# print(\"title: \\t\",info.title)\n",
    "# print()\n",
    "# print(\"Number of Pages in pdf: \\t\",number_of_pages)\n",
    "\n",
    "# prueba = ''\n",
    "# for i in range(pdf.getNumPages()):\n",
    "#     prueba = prueba + pdf.getPage(i).extractText()\n",
    "#     print(len(prueba))\n",
    "    \n",
    "# pdf.getPage(2)"
   ]
  },
  {
   "cell_type": "code",
   "execution_count": 30,
   "id": "5a9256ef",
   "metadata": {},
   "outputs": [],
   "source": [
    "# pdf.getPage(2).extractText()"
   ]
  },
  {
   "cell_type": "code",
   "execution_count": 31,
   "id": "6cd1e126",
   "metadata": {},
   "outputs": [],
   "source": [
    "# with open('prueba_es.pdf', 'rb') as f:\n",
    "#     pdf = PyPDF2.PdfFileReader(f)\n",
    "#     info = pdf.getDocumentInfo()\n",
    "#     number_of_pages = pdf.getNumPages()\n",
    "# print(\"Author: \\t\", info.author)\n",
    "# print()\n",
    "# print(\"Creator: \\t\", info.creator)\n",
    "# print()\n",
    "# print(\"Producer: \\t\",info.producer)\n",
    "# print()\n",
    "# print(\"Subject: \\t\", info.subject)\n",
    "# print()\n",
    "# print(\"title: \\t\",info.title)\n",
    "# print()\n",
    "# print(\"Number of Pages in pdf: \\t\",number_of_pages)"
   ]
  },
  {
   "cell_type": "code",
   "execution_count": null,
   "id": "309266ba",
   "metadata": {},
   "outputs": [],
   "source": []
  },
  {
   "cell_type": "code",
   "execution_count": 32,
   "id": "c7d5f8df",
   "metadata": {},
   "outputs": [],
   "source": [
    "# pdfFileObject = open('BOE-A-2010-4132.pdf', 'rb')\n",
    "# pdfReader = PyPDF2.PdfFileReader(pdfFileObject)\n",
    "# prueba = ''\n",
    "# for i in range(pdfReader.getNumPages()):\n",
    "#     prueba = prueba + pdfReader.getPage(i).extractText()\n",
    "#     print(len(prueba))\n",
    "# prueba = prueba.replace('\\n',' ')"
   ]
  },
  {
   "cell_type": "code",
   "execution_count": 33,
   "id": "db5acb0a",
   "metadata": {},
   "outputs": [],
   "source": [
    "# pdfReader.getPage(1).extractText()"
   ]
  },
  {
   "cell_type": "code",
   "execution_count": 35,
   "id": "11b1c7da",
   "metadata": {},
   "outputs": [],
   "source": [
    "# prueba"
   ]
  },
  {
   "cell_type": "code",
   "execution_count": 36,
   "id": "e9bf45a0",
   "metadata": {},
   "outputs": [
    {
     "data": {
      "text/plain": [
       "{'/Creator': 'eBOE',\n",
       " '/Producer': 'Adobe PDF Library 8.0',\n",
       " '/Title': 'Disposición 4132 del BOE núm. 62 de 2010',\n",
       " '/Keywords': 'DECRETO 132/2010 de 12/02/2010;MINISTERIO DE EDUCACIÓN;BOE-A-2010-4132;BOE 62 de 2010;4132;12/03/2010',\n",
       " '/ModDate': \"D:20100311232857+01'00'\",\n",
       " '/Trapped': '/False',\n",
       " '/Subject': 'BOE-A-2010-4132',\n",
       " '/CreationDate': \"D:20100311194246+01'00'\",\n",
       " '/Author': 'MINISTERIO DE EDUCACIÓN'}"
      ]
     },
     "execution_count": 36,
     "metadata": {},
     "output_type": "execute_result"
    }
   ],
   "source": [
    "pdfReader.getDocumentInfo()"
   ]
  },
  {
   "cell_type": "code",
   "execution_count": 37,
   "id": "e1ab465d",
   "metadata": {},
   "outputs": [],
   "source": [
    "documento = 'BOE-A-2010-4132.pdf'\n",
    "\n",
    "with open(documento, 'rb') as f:\n",
    "    pdf = PyPDF2.PdfFileReader(f)\n",
    "    info = pdf.getDocumentInfo()\n",
    "    number_of_pages = pdf.getNumPages()\n",
    "\n",
    "# text = ''\n",
    "# for i in range(pdf.getNumPages()):\n",
    "#     text = text + pdf.getPage(i).extractText()\n",
    "#     print(len(prueba))"
   ]
  },
  {
   "cell_type": "code",
   "execution_count": 38,
   "id": "4b1f571a",
   "metadata": {},
   "outputs": [],
   "source": [
    "# Incluir el documento en PDF\n",
    "# --------------------------------------------------------------------\n",
    "\n",
    "def resume_pdfs(documento, alpha):\n",
    "    \n",
    "    pdfFileObject = open(documento, 'rb')\n",
    "    pdfReader = PyPDF2.PdfFileReader(pdfFileObject)\n",
    "    text = ''\n",
    "    for i in range(pdfReader.getNumPages()):\n",
    "        text = text + pdfReader.getPage(i).extractText()\n",
    "    text = text.replace('\\n',' ')\n",
    "#     print(text)\n",
    "#         print(len(prueba))\n",
    "      \n",
    "    \n",
    "    sentences = sent_tokenize(text)\n",
    "    total_documents = len(sentences)\n",
    "    #print(sentences)\n",
    "\n",
    "    # 2 Create the Frequency matrix of the words in each sentence.\n",
    "    freq_matrix = _create_frequency_matrix(sentences)\n",
    "    #print(freq_matrix)\n",
    "\n",
    "    '''\n",
    "    Term frequency (TF) is how often a word appears in a document, divided by how many words are there in a document.\n",
    "    '''\n",
    "    # 3 Calculate TermFrequency and generate a matrix\n",
    "    tf_matrix = _create_tf_matrix(freq_matrix)\n",
    "    #print(tf_matrix)\n",
    "\n",
    "    # 4 creating table for documents per words\n",
    "    count_doc_per_words = _create_documents_per_words(freq_matrix)\n",
    "    #print(count_doc_per_words)\n",
    "\n",
    "    '''\n",
    "    Inverse document frequency (IDF) is how unique or rare a word is.\n",
    "    '''\n",
    "    # 5 Calculate IDF and generate a matrix\n",
    "    idf_matrix = _create_idf_matrix(freq_matrix, count_doc_per_words, total_documents)\n",
    "    #print(idf_matrix)\n",
    "\n",
    "    # 6 Calculate TF-IDF and generate a matrix\n",
    "    tf_idf_matrix = _create_tf_idf_matrix(tf_matrix, idf_matrix)\n",
    "    #print(tf_idf_matrix)\n",
    "\n",
    "    # 7 Important Algorithm: score the sentences\n",
    "    sentence_scores = _score_sentences(tf_idf_matrix)\n",
    "    #print(sentence_scores)\n",
    "\n",
    "    # 8 Find the threshold\n",
    "    threshold = _find_average_score(sentence_scores)\n",
    "    #print(threshold)\n",
    "\n",
    "    # 9 Important Algorithm: Generate the summary (alpha between 0.5 - 1.5)\n",
    "    summary = _generate_summary(sentences, sentence_scores, alpha * threshold)\n",
    "    \n",
    "    \n",
    "    print(\"Título: \\t\",pdfReader.getDocumentInfo().title)\n",
    "    print('--------------------------------------------------------------------')\n",
    "    print(\"Número de páginas: {} \\nLongitud del documento original: {}\\nLongitud del resumen: {}\".format(number_of_pages, len(text), len(summary)))\n",
    "    print('--------------------------------------------------------------------')\n",
    "    print(summary)"
   ]
  },
  {
   "cell_type": "code",
   "execution_count": 40,
   "id": "011c7f5f",
   "metadata": {},
   "outputs": [
    {
     "name": "stdout",
     "output_type": "stream",
     "text": [
      "Título: \t Proyecciones macroeconómicas de la economía española (2021-2023)\n",
      "--------------------------------------------------------------------\n",
      "Número de páginas: 10 \n",
      "Longitud del documento original: 6618\n",
      "Longitud del resumen: 2324\n",
      "--------------------------------------------------------------------\n",
      "                      1 / 2   23 . A su vez,  estas últimas   dependerán de  dos aspectos. En primer  lugar, de  las  secuelas   que  la pandemia   pueda dejar sobre el tejido productivo y laboral ,   en  términos de destrucción de empresas y desempleo de larga duración . El  escenario central   contempla la posibilidad de que en los próximos meses surjan nuevos  brotes de la enfermedad, cuya contención requeriría aplicar  medidas de contención  similares a las vigentes  recientemente . Se proyecta, además, que la progresiva  administración de las vacunas permita una retirada gradual de  estas  medidas, hasta su  desaparición   prácticamente   plena a finales de 2021. Asim ismo , la naturaleza incompleta del proceso de vacunación durante los  próximos trimestres  haría   que los flujos de turismo receptor no alcancen un grado   relativamente   elevado  de normalización hasta 2022 . Bajo el escenario central,  el PIB crecería  un  6%   en media   anual en 2021 , lo que, tras un  primer semestre débil, sería consecuencia de la aceleración de la actividad en la segunda  mitad del año,  vinculada   a los avances en el proceso de vacunación y a la implementación  de   los proyectos  ligados  al programa   europeo   NGEU. Dado el elevado grado de incertidumbre que persiste,  se ha optado, como en los últimos  trimestres, por la  formulación , además de un  escenario central , de  dos alternativos . Bajo el escenario suave se proyecta una resolución más  rápida de la crisis sanitaria y unas menores secuelas de la crisis que en el central, mientras  que lo contrario sucede bajo el escenario severo. El repunte reciente del   IAPC  tiene en gran medida una naturaleza transitoria. En la segunda  mitad de 2021, se espera una reversión del aumento del componente energético de los  últimos meses ,  lo que llevaría a  que la tasa de inflación muestre   un perfil descendente. Más allá del corto  plazo, la incertidumbre ha tendido a mitigarse en los últimos meses al confirmarse la  efectividad de las vacunas, lo que ha reducido la probabilidad de materialización de los  escenarios más desfavorables. La incertidumbre ha tendido a ve rse reducida también como  consecuencia del paquete fiscal  recientemente  aprobado en Estados Unidos   y del acuerdo  para la salida del Reino Unido de la Unión Europea .\n"
     ]
    }
   ],
   "source": [
    "resume_pdfs('prueba_es.pdf', 0.8)"
   ]
  },
  {
   "cell_type": "code",
   "execution_count": 41,
   "id": "a00b77e6",
   "metadata": {},
   "outputs": [
    {
     "ename": "ModuleNotFoundError",
     "evalue": "No module named 'textract'",
     "output_type": "error",
     "traceback": [
      "\u001b[1;31m---------------------------------------------------------------------------\u001b[0m",
      "\u001b[1;31mModuleNotFoundError\u001b[0m                       Traceback (most recent call last)",
      "\u001b[1;32m~\\AppData\\Local\\Temp/ipykernel_5452/742405093.py\u001b[0m in \u001b[0;36m<module>\u001b[1;34m\u001b[0m\n\u001b[1;32m----> 1\u001b[1;33m \u001b[1;32mimport\u001b[0m \u001b[0mtextract\u001b[0m\u001b[1;33m\u001b[0m\u001b[1;33m\u001b[0m\u001b[0m\n\u001b[0m",
      "\u001b[1;31mModuleNotFoundError\u001b[0m: No module named 'textract'"
     ]
    }
   ],
   "source": [
    "import textract"
   ]
  },
  {
   "cell_type": "code",
   "execution_count": null,
   "id": "f4d90ca6",
   "metadata": {},
   "outputs": [],
   "source": []
  }
 ],
 "metadata": {
  "kernelspec": {
   "display_name": "Python 3 (ipykernel)",
   "language": "python",
   "name": "python3"
  },
  "language_info": {
   "codemirror_mode": {
    "name": "ipython",
    "version": 3
   },
   "file_extension": ".py",
   "mimetype": "text/x-python",
   "name": "python",
   "nbconvert_exporter": "python",
   "pygments_lexer": "ipython3",
   "version": "3.8.12"
  }
 },
 "nbformat": 4,
 "nbformat_minor": 5
}
