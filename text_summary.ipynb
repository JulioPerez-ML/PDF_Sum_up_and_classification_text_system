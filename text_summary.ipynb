{
 "cells": [
  {
   "cell_type": "code",
   "execution_count": 1,
   "id": "d88effcb",
   "metadata": {},
   "outputs": [],
   "source": [
    "import pandas as pd\n",
    "import json"
   ]
  },
  {
   "cell_type": "code",
   "execution_count": 9,
   "id": "7ba6e916",
   "metadata": {},
   "outputs": [],
   "source": [
    "# from google.cloud import language_v1"
   ]
  },
  {
   "cell_type": "code",
   "execution_count": 10,
   "id": "bbb2d368",
   "metadata": {},
   "outputs": [],
   "source": [
    "# from google.cloud import storage"
   ]
  },
  {
   "cell_type": "code",
   "execution_count": 3,
   "id": "bb651a26",
   "metadata": {},
   "outputs": [],
   "source": [
    "import nltk\n",
    "from nltk.corpus import stopwords\n",
    "from nltk.tokenize import word_tokenize, sent_tokenize"
   ]
  },
  {
   "cell_type": "code",
   "execution_count": 4,
   "id": "05ea8677",
   "metadata": {},
   "outputs": [
    {
     "name": "stderr",
     "output_type": "stream",
     "text": [
      "[nltk_data] Downloading package stopwords to\n",
      "[nltk_data]     C:\\Users\\jdani\\AppData\\Roaming\\nltk_data...\n",
      "[nltk_data]   Package stopwords is already up-to-date!\n",
      "[nltk_data] Downloading package punkt to\n",
      "[nltk_data]     C:\\Users\\jdani\\AppData\\Roaming\\nltk_data...\n",
      "[nltk_data]   Package punkt is already up-to-date!\n"
     ]
    },
    {
     "data": {
      "text/plain": [
       "True"
      ]
     },
     "execution_count": 4,
     "metadata": {},
     "output_type": "execute_result"
    }
   ],
   "source": [
    "nltk.download('stopwords')\n",
    "nltk.download('punkt')"
   ]
  },
  {
   "cell_type": "code",
   "execution_count": 5,
   "id": "926afd00",
   "metadata": {},
   "outputs": [],
   "source": [
    "from heapq import nlargest"
   ]
  },
  {
   "cell_type": "code",
   "execution_count": 6,
   "id": "329d2dd4",
   "metadata": {},
   "outputs": [],
   "source": [
    "def read_file_blob(bucket_name,destination_blob_name):\n",
    "    \"\"\"Read a file from the bucket.\"\"\"\n",
    " \n",
    "    storage_client = storage.Client()\n",
    "    bucket = storage_client.bucket(bucket_name)\n",
    "    blob = bucket.blob(destination_blob_name)\n",
    " \n",
    "    # read as string\n",
    "    read_output = blob.download_as_string().decode(\"utf8\")\n",
    "\n",
    "    return read_output"
   ]
  },
  {
   "cell_type": "code",
   "execution_count": 7,
   "id": "c2fd8dd1",
   "metadata": {},
   "outputs": [
    {
     "ename": "NameError",
     "evalue": "name 'storage' is not defined",
     "output_type": "error",
     "traceback": [
      "\u001b[1;31m---------------------------------------------------------------------------\u001b[0m",
      "\u001b[1;31mNameError\u001b[0m                                 Traceback (most recent call last)",
      "\u001b[1;32m~\\AppData\\Local\\Temp/ipykernel_17308/4031675248.py\u001b[0m in \u001b[0;36m<module>\u001b[1;34m\u001b[0m\n\u001b[1;32m----> 1\u001b[1;33m \u001b[0mdocument_text\u001b[0m \u001b[1;33m=\u001b[0m \u001b[0mread_file_blob\u001b[0m\u001b[1;33m(\u001b[0m\u001b[1;34m\"bucket-ocr-files\"\u001b[0m\u001b[1;33m,\u001b[0m\u001b[1;34m\"prueba_es.txt\"\u001b[0m\u001b[1;33m)\u001b[0m\u001b[1;33m\u001b[0m\u001b[1;33m\u001b[0m\u001b[0m\n\u001b[0m",
      "\u001b[1;32m~\\AppData\\Local\\Temp/ipykernel_17308/1930016656.py\u001b[0m in \u001b[0;36mread_file_blob\u001b[1;34m(bucket_name, destination_blob_name)\u001b[0m\n\u001b[0;32m      2\u001b[0m     \u001b[1;34m\"\"\"Read a file from the bucket.\"\"\"\u001b[0m\u001b[1;33m\u001b[0m\u001b[1;33m\u001b[0m\u001b[0m\n\u001b[0;32m      3\u001b[0m \u001b[1;33m\u001b[0m\u001b[0m\n\u001b[1;32m----> 4\u001b[1;33m     \u001b[0mstorage_client\u001b[0m \u001b[1;33m=\u001b[0m \u001b[0mstorage\u001b[0m\u001b[1;33m.\u001b[0m\u001b[0mClient\u001b[0m\u001b[1;33m(\u001b[0m\u001b[1;33m)\u001b[0m\u001b[1;33m\u001b[0m\u001b[1;33m\u001b[0m\u001b[0m\n\u001b[0m\u001b[0;32m      5\u001b[0m     \u001b[0mbucket\u001b[0m \u001b[1;33m=\u001b[0m \u001b[0mstorage_client\u001b[0m\u001b[1;33m.\u001b[0m\u001b[0mbucket\u001b[0m\u001b[1;33m(\u001b[0m\u001b[0mbucket_name\u001b[0m\u001b[1;33m)\u001b[0m\u001b[1;33m\u001b[0m\u001b[1;33m\u001b[0m\u001b[0m\n\u001b[0;32m      6\u001b[0m     \u001b[0mblob\u001b[0m \u001b[1;33m=\u001b[0m \u001b[0mbucket\u001b[0m\u001b[1;33m.\u001b[0m\u001b[0mblob\u001b[0m\u001b[1;33m(\u001b[0m\u001b[0mdestination_blob_name\u001b[0m\u001b[1;33m)\u001b[0m\u001b[1;33m\u001b[0m\u001b[1;33m\u001b[0m\u001b[0m\n",
      "\u001b[1;31mNameError\u001b[0m: name 'storage' is not defined"
     ]
    }
   ],
   "source": [
    "document_text = read_file_blob(\"bucket-ocr-files\",\"prueba_es.txt\")"
   ]
  },
  {
   "cell_type": "code",
   "execution_count": 56,
   "id": "f3916793",
   "metadata": {},
   "outputs": [],
   "source": [
    "stopWords = set(stopwords.words(\"spanish\"))\n",
    "words = word_tokenize(document_text)\n",
    "freqTable = dict()\n",
    "for word in words:\n",
    "    word = word.lower()\n",
    "    if word in stopWords:\n",
    "        continue\n",
    "    if word in freqTable:\n",
    "        freqTable[word] +=1\n",
    "    else:\n",
    "        freqTable[word] = 1"
   ]
  },
  {
   "cell_type": "code",
   "execution_count": 58,
   "id": "30a92740",
   "metadata": {},
   "outputs": [],
   "source": [
    "sentences = sent_tokenize(document_text)\n",
    "sentenceValue = dict()\n",
    "for sentence in sentences:\n",
    "    for word, freq in freqTable.items():\n",
    "        if word in sentence.lower():\n",
    "            if sentence in sentenceValue:\n",
    "                sentenceValue[sentence] += freq\n",
    "            else:\n",
    "                sentenceValue[sentence] = freq"
   ]
  },
  {
   "cell_type": "code",
   "execution_count": 31,
   "id": "f1613347",
   "metadata": {},
   "outputs": [],
   "source": [
    "sumValues = 0\n",
    "for sentence in sentenceValue:\n",
    "    sumValues += sentenceValue[sentence]\n",
    "average = int(sumValues / len(sentenceValue))"
   ]
  },
  {
   "cell_type": "code",
   "execution_count": 43,
   "id": "a0139935",
   "metadata": {},
   "outputs": [
    {
     "name": "stdout",
     "output_type": "stream",
     "text": [
      " Con respecto a los cambios inducidos en el comportamiento de los agentes como consecuencia de la crisis sanitaria, bajo el escenario central, la tasa de ahorro de las familias disminuiría a lo largo del horizonte de proyección, pero se mantendría al final del mismo algo por encima de su nivel previo a la pandemia. Bajo el escenario central, el PIB crecería un 6% en media anual en 2021, lo que, tras un primer semestre débil, sería consecuencia de la aceleración de la actividad en la segunda mitad del año, vinculada a los avances en el proceso de vacunación y a la implementación de los proyectos ligados al programa europeo NGEU.\n"
     ]
    }
   ],
   "source": [
    "summary = ''\n",
    "for sentence in sentences:\n",
    "    if (sentence in sentenceValue) and (sentenceValue[sentence] > (1.29 * average)):\n",
    "        summary += \" \" + sentence\n",
    "print(summary)"
   ]
  },
  {
   "cell_type": "code",
   "execution_count": 96,
   "id": "a6b59704",
   "metadata": {},
   "outputs": [
    {
     "data": {
      "text/plain": [
       "dict_keys(['BANCO', 'ESPAÑA', 'Eurosistema', '23.03.2021', 'Nota', 'informativa', 'Proyecciones', 'macroeconómicas', 'economía', 'española', '2021-2023', 'nota', 'describe', 'rasgos', 'principales', 'proyecciones', 'período', 'Banco', 'España', 'publica', 'hoy', 'página', 'web', 'disponibles', 'enlace', 'relación', 'publicadas', 'pasado', 'diciembre', 'actuales', 'incorporan', 'nueva', 'información', 'conocida', 'entonces', 'incluye', 'elementos', 'estimaciones', 'preliminares', 'Contabilidad', 'Nacional', 'Trimestral', 'cuarto', 'trimestre', '2020', 'cambios', 'observados', 'supuestos', 'técnicos', 'subyacen', 'construcción', 'escenarios', 'perspectivas', 'económicas', 'siguen', 'sujetas', 'elevado', 'grado', 'incertidumbre', 'vinculada', 'corto', 'plazo', 'evolución', 'pandemia', 'velocidad', 'proceso', 'inmunización', 'población', 'medio', 'consecuencias', 'crisis', 'vez', 'últimas', 'dependerán', 'dos', 'aspectos', 'primer', 'lugar', 'secuelas', 'pueda', 'dejar', 'tejido', 'productivo', 'laboral', 'términos', 'destrucción', 'empresas', 'desempleo', 'larga', 'duración', 'segundo', 'reversión', 'comportamiento', 'agentes', 'inducidos', 'particular', 'intenso', 'repunte', 'tasa', 'ahorro', 'hogares', 'severa', 'caída', 'exportaciones', 'turísticas', 'escenario', 'central', 'contempla', 'posibilidad', 'próximos', 'meses', 'surjan', 'nuevos', 'brotes', 'enfermedad', 'cuya', 'contención', 'requeriría', 'aplicar', 'medidas', 'similares', 'vigentes', 'recientemente', 'proyecta', 'además', 'progresiva', 'administración', 'vacunas', 'permita', 'retirada', 'gradual', 'desaparición', 'prácticamente', 'plena', 'finales', '2021', 'respecto', 'consecuencia', 'sanitaria', 'bajo', 'familias', 'disminuiría', 'largo', 'horizonte', 'proyección', 'mantendría', 'final', 'mismo', 'encima', 'nivel', 'previo', 'Asimismo', 'naturaleza', 'incompleta', 'vacunación', 'trimestres', 'haría', 'flujos', 'turismo', 'receptor', 'alcancen', 'relativamente', 'normalización', '2022', 'Bajo', 'PIB', 'crecería', '6', 'media', 'anual', 'tras', 'semestre', 'débil', 'aceleración', 'actividad', 'segunda', 'mitad', 'año', 'avances', 'implementación', 'proyectos', 'ligados', 'programa', 'europeo', 'NGEU', 'comparación', 'previsiones', 'menor', 'fortaleza', 'conduce', '1/2', 'crecimiento', 'inferior', '0,8', 'puntos', 'porcentuales', 'pp', 'contemplada', 'pronunciado', 'dinamismo', 'daría', 'potente', 'efecto', 'arrastre', 'modo', 'producto', 'presentaría', 'avance', 'próximo', '5,3', 'moderarse', '2023', '1,7', 'Dado', 'persiste', 'optado', 'últimos', 'formulación', 'alternativos', 'difieren', 'relativos', 'así', 'efectos', 'suave', 'resolución', 'rápida', 'unas', 'menores', 'mientras', 'contrario', 'sucede', 'severo', 'rango', 'variación', 'niveles', 'distintos', 'reducido', 'resultado', 'disminución', 'incertidumbres', 'puramente', 'epidemiológica', 'diferencias', 'mayor', 'medida', 'atribuibles', 'magnitud', 'menos', 'precavido', 'económicos', 'decisiones', 'gasto', 'recuperación', 'pre-pandemia', 'adelantaría', 'todavía', 'debajo', 'observado', 'reciente', 'IAPC', 'gran', 'transitoria', 'espera', 'aumento', 'componente', 'energético', 'llevaría', 'inflación', 'muestre', 'perfil', 'descendente', 'tasas', 'medias', 'anuales', 'crezca', '1,4', '1,2', 'respectivamente', 'cada', 'años', 'posteriores', 'alejada', 'valor', 'referencia', 'estabilidad', 'precios', '2', 'riesgos', 'rodean', 'orientados', 'baja', 'vinculados', 'fundamentalmente', 'episodios', 'intensos', 'contagios', 'progresión', 'lenta', 'calendario', 'considerada', 'allá', 'tendido', 'mitigarse', 'confirmarse', 'efectividad', 'probabilidad', 'materialización', 'desfavorables', 'verse', 'reducida', 'paquete', 'fiscal', 'aprobado', 'Unidos', 'acuerdo', 'salida', 'Reino', 'Unido', 'Unión', 'Europea', 'equilibrados', 'hace'])"
      ]
     },
     "execution_count": 96,
     "metadata": {},
     "output_type": "execute_result"
    }
   ],
   "source": [
    "word_frequency.keys()"
   ]
  },
  {
   "cell_type": "code",
   "execution_count": 75,
   "id": "06696cca",
   "metadata": {},
   "outputs": [],
   "source": [
    "from string import punctuation\n"
   ]
  },
  {
   "cell_type": "code",
   "execution_count": 111,
   "id": "b28ddb05",
   "metadata": {},
   "outputs": [],
   "source": [
    "def word_score_function(text):\n",
    "    \n",
    "    stop_words = set(stopwords.words(\"spanish\"))\n",
    "    tokens = word_tokenize(text)\n",
    "    word_frequencies = {}\n",
    "    for word in tokens:    \n",
    "        if word.lower() not in stop_words:\n",
    "            if word.lower() not in punctuation:\n",
    "                if word not in word_frequencies.keys():\n",
    "                    word_frequencies[word] = 1\n",
    "                else:\n",
    "                    word_frequencies[word] += 1\n",
    "                    \n",
    "        max_frequency = max(word_frequencies.values())\n",
    "        for word in word_frequencies.keys():\n",
    "            word_frequencies[word] = word_frequencies[word]/max_frequency\n",
    "                \n",
    "    return word_frequencies"
   ]
  },
  {
   "cell_type": "code",
   "execution_count": 112,
   "id": "4d10505f",
   "metadata": {},
   "outputs": [],
   "source": [
    "word_score = word_score_function(document_text)"
   ]
  },
  {
   "cell_type": "code",
   "execution_count": 113,
   "id": "6efce38d",
   "metadata": {},
   "outputs": [
    {
     "data": {
      "text/plain": [
       "{'BANCO': 5.1428522943523246e-11,\n",
       " 'ESPAÑA': 5.1428522943523246e-11,\n",
       " 'Eurosistema': 5.1428522943523246e-11,\n",
       " '23.03.2021': 5.1428522943523246e-11,\n",
       " 'Nota': 5.1428522943523246e-11,\n",
       " 'informativa': 5.1428522943523246e-11,\n",
       " 'Proyecciones': 5.1428522943523246e-11,\n",
       " 'macroeconómicas': 1.0285704588704649e-10,\n",
       " 'economía': 1.4525986305398147e-06,\n",
       " 'española': 2.0571409177409298e-10,\n",
       " '2021-2023': 2.57142614717616e-10,\n",
       " 'nota': 5.1428522943523246e-11,\n",
       " 'describe': 5.1428522943523246e-11,\n",
       " 'rasgos': 5.1428522943523246e-11,\n",
       " 'principales': 5.1428522943523246e-11,\n",
       " 'proyecciones': 0.6610205453896363,\n",
       " 'período': 2.0571409177409298e-10,\n",
       " 'Banco': 2.57142614717616e-10,\n",
       " 'España': 2.57142614717616e-10,\n",
       " 'publica': 2.57142614717616e-10,\n",
       " 'hoy': 2.57142614717616e-10,\n",
       " 'página': 2.57142614717616e-10,\n",
       " 'web': 2.57142614717616e-10,\n",
       " 'disponibles': 2.57142614717616e-10,\n",
       " 'enlace': 2.57142614717616e-10,\n",
       " 'relación': 9.018402926330353e-06,\n",
       " 'publicadas': 3.0857113766113944e-10,\n",
       " 'pasado': 3.0857113766113944e-10,\n",
       " 'diciembre': 5.90691557401966e-05,\n",
       " 'actuales': 3.0857113766113944e-10,\n",
       " 'incorporan': 3.0857113766113944e-10,\n",
       " 'nueva': 3.0857113766113944e-10,\n",
       " 'información': 3.0857113766113944e-10,\n",
       " 'conocida': 3.0857113766113944e-10,\n",
       " 'entonces': 3.0857113766113944e-10,\n",
       " 'incluye': 3.0857113766113944e-10,\n",
       " 'elementos': 3.0857113766113944e-10,\n",
       " 'estimaciones': 3.0857113766113944e-10,\n",
       " 'preliminares': 3.0857113766113944e-10,\n",
       " 'Contabilidad': 3.0857113766113944e-10,\n",
       " 'Nacional': 3.0857113766113944e-10,\n",
       " 'Trimestral': 3.0857113766113944e-10,\n",
       " 'cuarto': 5.992173779355431e-05,\n",
       " 'trimestre': 5.9922046364692054e-05,\n",
       " '2020': 3.0857113766113944e-10,\n",
       " 'cambios': 1.0182847542817597e-08,\n",
       " 'observados': 3.0857113766113944e-10,\n",
       " 'supuestos': 4.283893104149601e-06,\n",
       " 'técnicos': 3.0857113766113944e-10,\n",
       " 'subyacen': 3.0857113766113944e-10,\n",
       " 'construcción': 3.0857113766113944e-10,\n",
       " 'escenarios': 0.10442463139203784,\n",
       " 'perspectivas': 3.0857113766113944e-10,\n",
       " 'económicas': 9.257134129834185e-10,\n",
       " 'siguen': 0.019906441718603538,\n",
       " 'sujetas': 3.0857113766113944e-10,\n",
       " 'elevado': 3.0792313827205136e-06,\n",
       " 'grado': 7.42854156805427e-06,\n",
       " 'incertidumbre': 0.20387497986794476,\n",
       " 'vinculada': 1.0522275794244844e-07,\n",
       " 'corto': 0.07929078081308469,\n",
       " 'plazo': 0.8958951289979317,\n",
       " 'evolución': 4.284201675287259e-06,\n",
       " 'pandemia': 1.3607472885626814e-05,\n",
       " 'velocidad': 1.5428556883056965e-09,\n",
       " 'proceso': 9.017528641440303e-06,\n",
       " 'inmunización': 0.020165471708684657,\n",
       " 'población': 9.018145783715633e-06,\n",
       " 'medio': 0.7964478943133749,\n",
       " 'consecuencias': 6.171422753222789e-10,\n",
       " 'crisis': 0.0019844824433837053,\n",
       " 'vez': 9.257134129834185e-10,\n",
       " 'últimas': 9.257134129834185e-10,\n",
       " 'dependerán': 9.257134129834185e-10,\n",
       " 'dos': 0.00898333757081734,\n",
       " 'aspectos': 9.257134129834185e-10,\n",
       " 'primer': 8.917705878406938e-08,\n",
       " 'lugar': 0.00043388701951762286,\n",
       " 'secuelas': 0.00023142794181767108,\n",
       " 'pueda': 1.2342845506445577e-09,\n",
       " 'dejar': 1.2342845506445577e-09,\n",
       " 'tejido': 1.3608707170177455e-05,\n",
       " 'productivo': 1.3609941454728108e-05,\n",
       " 'laboral': 1.2342845506445577e-09,\n",
       " 'términos': 0.0023275644342234834,\n",
       " 'destrucción': 1.2342845506445577e-09,\n",
       " 'empresas': 1.2342845506445577e-09,\n",
       " 'desempleo': 1.2342845506445577e-09,\n",
       " 'larga': 1.2342845506445577e-09,\n",
       " 'duración': 1.2342845506445577e-09,\n",
       " 'segundo': 8.590620472486125e-07,\n",
       " 'reversión': 0.0023241460831604716,\n",
       " 'comportamiento': 0.0002998389858935128,\n",
       " 'agentes': 0.0003134785501774563,\n",
       " 'inducidos': 1.203427436878445e-08,\n",
       " 'particular': 2.7771402389502545e-09,\n",
       " 'intenso': 2.7771402389502545e-09,\n",
       " 'repunte': 0.0020027320604643073,\n",
       " 'tasa': 0.016405613756206968,\n",
       " 'ahorro': 2.962282921546939e-08,\n",
       " 'hogares': 2.7771402389502545e-09,\n",
       " 'severa': 2.7771402389502545e-09,\n",
       " 'caída': 2.7771402389502545e-09,\n",
       " 'exportaciones': 2.7771402389502545e-09,\n",
       " 'turísticas': 2.7771402389502545e-09,\n",
       " 'escenario': 0.7368233816510356,\n",
       " 'central': 0.7962074476600598,\n",
       " 'contempla': 2.7771402389502545e-09,\n",
       " 'posibilidad': 2.7771402389502545e-09,\n",
       " 'próximos': 3.3942825142725365e-08,\n",
       " 'meses': 1.0,\n",
       " 'surjan': 2.7771402389502545e-09,\n",
       " 'nuevos': 2.7771402389502545e-09,\n",
       " 'brotes': 2.7771402389502545e-09,\n",
       " 'enfermedad': 2.7771402389502545e-09,\n",
       " 'cuya': 2.7771402389502545e-09,\n",
       " 'contención': 5.554280477900509e-09,\n",
       " 'requeriría': 2.7771402389502545e-09,\n",
       " 'aplicar': 2.7771402389502545e-09,\n",
       " 'medidas': 8.331420716850765e-09,\n",
       " 'similares': 5.554280477900509e-09,\n",
       " 'vigentes': 5.554280477900509e-09,\n",
       " 'recientemente': 0.30332543881231894,\n",
       " 'proyecta': 1.8209811403842714e-05,\n",
       " 'además': 3.1532884557591834e-06,\n",
       " 'progresiva': 5.554280477900509e-09,\n",
       " 'administración': 5.554280477900509e-09,\n",
       " 'vacunas': 0.10410487655634887,\n",
       " 'permita': 5.554280477900509e-09,\n",
       " 'retirada': 5.554280477900509e-09,\n",
       " 'gradual': 5.554280477900509e-09,\n",
       " 'desaparición': 8.331420716850765e-09,\n",
       " 'prácticamente': 8.331420716850765e-09,\n",
       " 'plena': 8.331420716850765e-09,\n",
       " 'finales': 8.331420716850765e-09,\n",
       " '2021': 0.008978585575297363,\n",
       " 'respecto': 8.331420716850765e-09,\n",
       " 'consecuencia': 0.6066508720703574,\n",
       " 'sanitaria': 0.0020027292833240677,\n",
       " 'bajo': 0.00010229107499205299,\n",
       " 'familias': 2.962282921546939e-08,\n",
       " 'disminuiría': 2.962282921546939e-08,\n",
       " 'largo': 2.962282921546939e-08,\n",
       " 'horizonte': 0.012379783271621926,\n",
       " 'proyección': 0.014078050556268049,\n",
       " 'mantendría': 0.018103792172365435,\n",
       " 'final': 0.010681545609805027,\n",
       " 'mismo': 2.962282921546939e-08,\n",
       " 'encima': 2.962282921546939e-08,\n",
       " 'nivel': 0.0012656796581891855,\n",
       " 'previo': 2.962282921546939e-08,\n",
       " 'Asimismo': 3.0857113766113953e-08,\n",
       " 'naturaleza': 0.002322517753267033,\n",
       " 'incompleta': 3.0857113766113953e-08,\n",
       " 'vacunación': 1.6755412774999882e-07,\n",
       " 'trimestres': 3.1477341752812864e-06,\n",
       " 'haría': 3.3942825142725365e-08,\n",
       " 'flujos': 3.3942825142725365e-08,\n",
       " 'turismo': 3.3942825142725365e-08,\n",
       " 'receptor': 3.3942825142725365e-08,\n",
       " 'alcancen': 3.3942825142725365e-08,\n",
       " 'relativamente': 3.425139628038651e-08,\n",
       " 'normalización': 3.4559967418047624e-08,\n",
       " '2022': 1.4524443449709843e-06,\n",
       " 'Bajo': 1.3674124251361617e-05,\n",
       " 'PIB': 0.0016981487933292552,\n",
       " 'crecería': 7.991992465423517e-08,\n",
       " '6': 7.991992465423517e-08,\n",
       " 'media': 3.804682127361853e-07,\n",
       " 'anual': 7.991992465423517e-08,\n",
       " 'tras': 8.82513453710859e-08,\n",
       " 'semestre': 9.482391060326824e-07,\n",
       " 'débil': 8.917705878406938e-08,\n",
       " 'aceleración': 1.049141868047875e-07,\n",
       " 'actividad': 0.6973457570520435,\n",
       " 'segunda': 0.0023226226674538386,\n",
       " 'mitad': 0.0023227275816406438,\n",
       " 'año': 0.0005958805925099218,\n",
       " 'avances': 1.0522275794244844e-07,\n",
       " 'implementación': 1.6755412774999882e-07,\n",
       " 'proyectos': 1.6755412774999882e-07,\n",
       " 'ligados': 1.6755412774999882e-07,\n",
       " 'programa': 1.6755412774999882e-07,\n",
       " 'europeo': 1.6755412774999882e-07,\n",
       " 'NGEU': 1.6755412774999882e-07,\n",
       " 'comparación': 5.829649361149317e-05,\n",
       " 'previsiones': 1.6755412774999882e-07,\n",
       " 'menor': 1.6786269888765992e-07,\n",
       " 'fortaleza': 1.6786269888765992e-07,\n",
       " 'conduce': 2.7370259910543043e-07,\n",
       " '1/2': 3.005482880819499e-07,\n",
       " 'crecimiento': 0.6791830148323971,\n",
       " 'inferior': 4.687195581072709e-07,\n",
       " '0,8': 0.008979054294855465,\n",
       " 'puntos': 4.687195581072709e-07,\n",
       " 'porcentuales': 4.687195581072709e-07,\n",
       " 'pp': 4.687195581072709e-07,\n",
       " 'contemplada': 4.687195581072709e-07,\n",
       " 'pronunciado': 7.723535575658324e-07,\n",
       " 'dinamismo': 7.723535575658324e-07,\n",
       " 'daría': 1.4169586641399526e-06,\n",
       " 'potente': 1.4178843775529363e-06,\n",
       " 'efecto': 1.4178843775529363e-06,\n",
       " 'arrastre': 1.4178843775529363e-06,\n",
       " 'modo': 1.4524443449709843e-06,\n",
       " 'producto': 1.4524443449709843e-06,\n",
       " 'presentaría': 1.4525986305398147e-06,\n",
       " 'avance': 8.88114019859409e-06,\n",
       " 'próximo': 1.4871585979578619e-06,\n",
       " '5,3': 1.5920727847626498e-06,\n",
       " 'moderarse': 1.5920727847626498e-06,\n",
       " '2023': 0.0004954011386670772,\n",
       " '1,7': 1.5920727847626498e-06,\n",
       " 'Dado': 1.5920727847626498e-06,\n",
       " 'persiste': 3.1137913501385592e-06,\n",
       " 'optado': 3.1137913501385592e-06,\n",
       " 'últimos': 0.10177760835041753,\n",
       " 'formulación': 3.1477341752812864e-06,\n",
       " 'alternativos': 4.28327596187428e-06,\n",
       " 'difieren': 4.283584533011937e-06,\n",
       " 'relativos': 4.283893104149601e-06,\n",
       " 'así': 9.018145783715633e-06,\n",
       " 'efectos': 9.018402926330353e-06,\n",
       " 'suave': 0.0011667626543018872,\n",
       " 'resolución': 1.8209811403842714e-05,\n",
       " 'rápida': 1.8209811403842714e-05,\n",
       " 'unas': 1.8246839940362042e-05,\n",
       " 'menores': 1.8246839940362042e-05,\n",
       " 'mientras': 0.0012075210958762256,\n",
       " 'contrario': 4.075844157433874e-05,\n",
       " 'sucede': 4.075844157433874e-05,\n",
       " 'severo': 0.0012656500353599688,\n",
       " 'rango': 5.90691557401966e-05,\n",
       " 'variación': 5.90691557401966e-05,\n",
       " 'niveles': 0.00037254770591765304,\n",
       " 'distintos': 0.00010229107499205299,\n",
       " 'reducido': 0.10421145121587394,\n",
       " 'resultado': 0.0001065746595250649,\n",
       " 'disminución': 0.0001065746595250649,\n",
       " 'incertidumbres': 0.0001065746595250649,\n",
       " 'puramente': 0.00010660551663883111,\n",
       " 'epidemiológica': 0.00010660551663883111,\n",
       " 'diferencias': 0.00010660551663883111,\n",
       " 'mayor': 0.000213180176163896,\n",
       " 'medida': 0.0022159122366282036,\n",
       " 'atribuibles': 0.000213180176163896,\n",
       " 'magnitud': 0.000213180176163896,\n",
       " 'menos': 0.0002998389858935128,\n",
       " 'precavido': 0.0002998389858935128,\n",
       " 'económicos': 0.0003134785501774563,\n",
       " 'decisiones': 0.0003134785501774563,\n",
       " 'gasto': 0.0003134785501774563,\n",
       " 'recuperación': 0.0003134785501774563,\n",
       " 'pre-pandemia': 0.0004324691351400697,\n",
       " 'adelantaría': 0.0005942885197251594,\n",
       " 'todavía': 0.001698178416158469,\n",
       " 'debajo': 0.0016982672846461164,\n",
       " 'observado': 0.0016982672846461164,\n",
       " 'reciente': 0.0020027320604643073,\n",
       " 'IAPC': 0.006654441034992578,\n",
       " 'gran': 0.0020027320604643073,\n",
       " 'transitoria': 0.002322517753267033,\n",
       " 'espera': 0.0046517089745282654,\n",
       " 'aumento': 0.0023241460831604716,\n",
       " 'componente': 0.0023241460831604716,\n",
       " 'energético': 0.0023241460831604716,\n",
       " 'llevaría': 0.002327262651650851,\n",
       " 'inflación': 0.002327563199938932,\n",
       " 'muestre': 0.002327563199938932,\n",
       " 'perfil': 0.002327563199938932,\n",
       " 'descendente': 0.002327563199938932,\n",
       " 'tasas': 0.0023275644342234834,\n",
       " 'medias': 0.0023275644342234834,\n",
       " 'anuales': 0.0023275644342234834,\n",
       " 'crezca': 0.006654441034992578,\n",
       " '1,4': 0.006654441034992578,\n",
       " '1,2': 0.008979054294855465,\n",
       " 'respectivamente': 0.008979054294855465,\n",
       " 'cada': 0.008979054294855465,\n",
       " 'años': 0.00898333757081734,\n",
       " 'posteriores': 0.00898333757081734,\n",
       " 'alejada': 0.018103792172365435,\n",
       " 'valor': 0.018103792172365435,\n",
       " 'referencia': 0.018103792172365435,\n",
       " 'estabilidad': 0.018103792172365435,\n",
       " 'precios': 0.018103792172365435,\n",
       " '2': 0.018103792172365435,\n",
       " 'riesgos': 0.6247546642427227,\n",
       " 'rodean': 0.6428584564150883,\n",
       " 'orientados': 0.019906441718603538,\n",
       " 'baja': 0.019906441718603538,\n",
       " 'vinculados': 0.020156453871472083,\n",
       " 'fundamentalmente': 0.020156453871472083,\n",
       " 'episodios': 0.020156453871472083,\n",
       " 'intensos': 0.020156453871472083,\n",
       " 'contagios': 0.020156453871472083,\n",
       " 'progresión': 0.020156453871472083,\n",
       " 'lenta': 0.020156453871472083,\n",
       " 'calendario': 0.020156453871472083,\n",
       " 'considerada': 0.020165471708684657,\n",
       " 'allá': 0.05938406600902434,\n",
       " 'tendido': 0.3033253283438517,\n",
       " 'mitigarse': 0.09945034847590693,\n",
       " 'confirmarse': 0.10410487100206836,\n",
       " 'efectividad': 0.10410487100206836,\n",
       " 'probabilidad': 0.10421145121587394,\n",
       " 'materialización': 0.10421145121587394,\n",
       " 'desfavorables': 0.10442463139203784,\n",
       " 'verse': 0.3033253283438517,\n",
       " 'reducida': 0.3033253283438517,\n",
       " 'paquete': 0.3033254332580384,\n",
       " 'fiscal': 0.3033254332580384,\n",
       " 'aprobado': 0.30332543881231894,\n",
       " 'Unidos': 0.30332543881231894,\n",
       " 'acuerdo': 0.30332543881231894,\n",
       " 'salida': 0.30332543881231894,\n",
       " 'Reino': 0.30332543881231894,\n",
       " 'Unido': 0.30332543881231894,\n",
       " 'Unión': 0.30332543881231894,\n",
       " 'Europea': 0.30332543881231894,\n",
       " 'equilibrados': 0.7962074476600598,\n",
       " 'hace': 0.8958951289979317}"
      ]
     },
     "execution_count": 113,
     "metadata": {},
     "output_type": "execute_result"
    }
   ],
   "source": [
    "word_score"
   ]
  },
  {
   "cell_type": "code",
   "execution_count": 117,
   "id": "c0790553",
   "metadata": {},
   "outputs": [],
   "source": [
    "def sentence_score_function(text):\n",
    "    \n",
    "    sent_token = sent_tokenize(document_text)\n",
    "    sentence_scores = {}\n",
    "    for sent in sent_token:\n",
    "        sentence = sent.split(\" \")\n",
    "        for word in sentence:        \n",
    "            if word.lower() in word_score.keys():\n",
    "                if sent not in sentence_scores.keys():\n",
    "                    sentence_scores[sent] = word_score[word.lower()]\n",
    "                else:\n",
    "                    sentence_scores[sent] += word_score[word.lower()]\n",
    "    return sentence_scores"
   ]
  },
  {
   "cell_type": "code",
   "execution_count": 118,
   "id": "ecb10298",
   "metadata": {},
   "outputs": [],
   "source": [
    "sentence_score = sentence_score_function(document_text)"
   ]
  },
  {
   "cell_type": "code",
   "execution_count": 119,
   "id": "1713ce64",
   "metadata": {},
   "outputs": [
    {
     "data": {
      "text/plain": [
       "{'BANCO DE ESPAÑA Eurosistema 23.03.2021 Nota informativa Proyecciones macroeconómicas de la economía española (2021-2023) Esta nota describe los rasgos principales de las proyecciones macroeconómicas de la economía española para el período 2021-2023, que el Banco de España publica hoy en su página web (disponibles en este enlace).': 1.3220439981879597,\n",
       " 'En relación a las proyecciones publicadas el pasado diciembre, las actuales incorporan la nueva información conocida desde entonces, lo que incluye, entre otros elementos, las estimaciones preliminares de la Contabilidad Nacional Trimestral para el cuarto trimestre de 2020 y los cambios observados en los supuestos técnicos que subyacen a la construcción de los escenarios.': 0.661153705972669,\n",
       " 'Las perspectivas económicas siguen sujetas a un elevado grado de incertidumbre, vinculada tanto, en el corto plazo, a la evolución de la pandemia y la velocidad del proceso de inmunización de la población como, a medio plazo, a las consecuencias económicas de la crisis.': 0.9158571335270096,\n",
       " 'A su vez, estas últimas dependerán de dos aspectos.': 0.008983339422244167,\n",
       " 'En primer lugar, de las secuelas que la pandemia pueda dejar sobre el tejido productivo y laboral, en términos de destrucción de empresas y desempleo de larga duración.': 0.002599915080317774,\n",
       " 'En segundo, de la velocidad de reversión de algunos cambios en el comportamiento de los agentes inducidos por la crisis (en particular, el intenso repunte de la tasa de ahorro de los hogares y la severa caída de las exportaciones turísticas).': 0.023330359147794435,\n",
       " 'El escenario central contempla la posibilidad de que en los próximos meses surjan nuevos brotes de la enfermedad, cuya contención requeriría aplicar medidas de contención similares a las vigentes recientemente.': 2.5330309160195865,\n",
       " 'Se proyecta, además, que la progresiva administración de las vacunas permita una retirada gradual de estas medidas, hasta su desaparición prácticamente plena a finales de 2021.': 0.10410493765343415,\n",
       " 'Con respecto a los cambios inducidos en el comportamiento de los agentes como consecuencia de la crisis sanitaria, bajo el escenario central, la tasa de ahorro de las familias disminuiría a lo largo del horizonte de proyección, pero se mantendría al final del mismo algo por encima de su nivel previo a la pandemia.': 1.4050109971523759,\n",
       " 'Asimismo, la naturaleza incompleta del proceso de vacunación durante los próximos trimestres haría que los flujos de turismo receptor no alcancen un grado relativamente elevado de normalización hasta 2022.': 0.0023456616685905993,\n",
       " 'Bajo el escenario central, el PIB crecería un 6% en media anual en 2021, lo que, tras un primer semestre débil, sería consecuencia de la aceleración de la actividad en la segunda mitad del año, vinculada a los avances en el proceso de vacunación y a la implementación de los proyectos ligados al programa europeo NGEU.': 2.045579656286207,\n",
       " 'En comparación con las previsiones de diciembre, la menor fortaleza de la actividad en el corto plazo conduce a que la tasa 1/2 media de crecimiento en 2021 sea inferior en 0,8 puntos porcentuales (pp) a la contemplada en el escenario central de diciembre.': 3.919170394003382,\n",
       " 'El pronunciado dinamismo del PIB que se proyecta para el segundo semestre de 2021 daría lugar a un potente efecto arrastre en 2022, de modo que el producto de la economía presentaría un avance también elevado el próximo año (del 5,3%), antes de moderarse en 2023 (1,7%).': 0.010551836446376093,\n",
       " 'Dado el elevado grado de incertidumbre que persiste, se ha optado, como en los últimos trimestres, por la formulación, además de un escenario central, de dos alternativos.': 1.0514729685016215,\n",
       " 'Los escenarios difieren en los supuestos relativos a la evolución de la pandemia y al grado de avance en el proceso de inmunización de la población, así como, también, en relación con los efectos a medio plazo de la pandemia sobre el tejido productivo y sobre el comportamiento de los agentes.': 1.8173569167267798,\n",
       " 'Bajo el escenario suave se proyecta una resolución más rápida de la crisis sanitaria y unas menores secuelas de la crisis que en el central, mientras que lo contrario sucede bajo el escenario severo.': 1.4826013913113836,\n",
       " 'En comparación con las proyecciones de diciembre, el rango de variación entre los niveles del PIB en el cuarto trimestre de 2023 bajo los distintos escenarios es algo más reducido, como resultado de la disminución de las incertidumbres de naturaleza puramente epidemiológica.': 0.769562833613974,\n",
       " 'Las diferencias entre escenarios serían en mayor medida atribuibles a la magnitud de las secuelas de medio plazo de la crisis y al comportamiento más o menos precavido de los agentes económicos en sus decisiones de gasto.': 1.8037855759785175,\n",
       " 'La recuperación de los niveles de PIB pre-pandemia tendría lugar en 2023 en el escenario central y se adelantaría algo más de un año en el escenario suave, mientras que, en el severo, el nivel del PIB se mantendría todavía, al final del horizonte de proyección, algo por debajo del observado antes de la crisis sanitaria.': 2.3221115024443195,\n",
       " 'El repunte reciente del IAPC tiene en gran medida una naturaleza transitoria.': 0.010546626171288159,\n",
       " 'En la segunda mitad de 2021, se espera una reversión del aumento del componente energético de los últimos meses, lo que llevaría a que la tasa de inflación muestre un perfil descendente.': 0.14608681791435676,\n",
       " 'En términos de las tasas medias anuales, se espera que el IAPC crezca un 1,4% en 2021, y un 0,8% y un 1,2%, respectivamente, en cada uno de los dos años posteriores, por lo que, al final del horizonte de proyección, la tasa se mantendría alejada del valor de referencia para la estabilidad de precios del 2%.': 0.19332426842050796,\n",
       " 'Los riesgos que rodean las proyecciones de crecimiento de la actividad en el escenario central siguen orientados a la baja en el corto plazo, y estarían vinculados, fundamentalmente, a episodios más intensos de contagios o una progresión más lenta en el calendario de inmunización de la considerada en el escenario central.': 5.875296421509117,\n",
       " 'Más allá del corto plazo, la incertidumbre ha tendido a mitigarse en los últimos meses al confirmarse la efectividad de las vacunas, lo que ha reducido la probabilidad de materialización de los escenarios más desfavorables.': 2.472371838904026,\n",
       " 'La incertidumbre ha tendido a verse reducida también como consecuencia del paquete fiscal recientemente aprobado en Estados Unidos y del acuerdo para la salida del Reino Unido de la Unión Europea.': 3.5404544587352103,\n",
       " 'Como consecuencia, los riesgos que rodean las proyecciones de crecimiento de la actividad en el escenario central están más equilibrados en el medio plazo de lo que lo estaban hace algunos meses.': 8.222638867212282}"
      ]
     },
     "execution_count": 119,
     "metadata": {},
     "output_type": "execute_result"
    }
   ],
   "source": [
    "sentence_score"
   ]
  },
  {
   "cell_type": "code",
   "execution_count": 125,
   "id": "17aeb4b9",
   "metadata": {},
   "outputs": [
    {
     "data": {
      "text/plain": [
       "2"
      ]
     },
     "execution_count": 125,
     "metadata": {},
     "output_type": "execute_result"
    }
   ],
   "source": [
    "select_length = int(len(sent_token)*0.1)\n",
    "select_length"
   ]
  },
  {
   "cell_type": "code",
   "execution_count": 126,
   "id": "780be420",
   "metadata": {},
   "outputs": [
    {
     "data": {
      "text/plain": [
       "'Como consecuencia, los riesgos que rodean las proyecciones de crecimiento de la actividad en el escenario central están más equilibrados en el medio plazo de lo que lo estaban hace algunos meses. Los riesgos que rodean las proyecciones de crecimiento de la actividad en el escenario central siguen orientados a la baja en el corto plazo, y estarían vinculados, fundamentalmente, a episodios más intensos de contagios o una progresión más lenta en el calendario de inmunización de la considerada en el escenario central.'"
      ]
     },
     "execution_count": 126,
     "metadata": {},
     "output_type": "execute_result"
    }
   ],
   "source": [
    "summary = nlargest(select_length, sentence_score, key = sentence_score.get)\n",
    "final_summary = [word for word in summary]\n",
    "summary = ' '.join(final_summary)\n",
    "summary"
   ]
  },
  {
   "cell_type": "code",
   "execution_count": 127,
   "id": "c8e7a3c5",
   "metadata": {},
   "outputs": [
    {
     "data": {
      "text/plain": [
       "6199"
      ]
     },
     "execution_count": 127,
     "metadata": {},
     "output_type": "execute_result"
    }
   ],
   "source": [
    "len(document_text)"
   ]
  },
  {
   "cell_type": "code",
   "execution_count": 128,
   "id": "ddd18add",
   "metadata": {},
   "outputs": [
    {
     "data": {
      "text/plain": [
       "519"
      ]
     },
     "execution_count": 128,
     "metadata": {},
     "output_type": "execute_result"
    }
   ],
   "source": [
    "len(summary)"
   ]
  }
 ],
 "metadata": {
  "kernelspec": {
   "display_name": "Python 3 (ipykernel)",
   "language": "python",
   "name": "python3"
  },
  "language_info": {
   "codemirror_mode": {
    "name": "ipython",
    "version": 3
   },
   "file_extension": ".py",
   "mimetype": "text/x-python",
   "name": "python",
   "nbconvert_exporter": "python",
   "pygments_lexer": "ipython3",
   "version": "3.8.12"
  }
 },
 "nbformat": 4,
 "nbformat_minor": 5
}
